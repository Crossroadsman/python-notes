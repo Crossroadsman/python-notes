{
 "cells": [
  {
   "cell_type": "markdown",
   "metadata": {},
   "source": [
    "Introduction to Numpy\n",
    "=================="
   ]
  },
  {
   "cell_type": "code",
   "execution_count": 1,
   "metadata": {},
   "outputs": [
    {
     "data": {
      "text/plain": [
       "'1.18.1'"
      ]
     },
     "execution_count": 1,
     "metadata": {},
     "output_type": "execute_result"
    }
   ],
   "source": [
    "import numpy as np\n",
    "np.__version__"
   ]
  },
  {
   "cell_type": "markdown",
   "metadata": {},
   "source": [
    "Numpy Arrays\n",
    "-----------------\n",
    "\n",
    "np arrays differ from Python lists as follows:\n",
    "- they are immutable (cannot add/remove, change length, but can change\n",
    "  what reference a particular element points to)\n",
    "- all elements must be of the same [type](https://numpy.org/devdocs/user/basics.types.html)\n",
    "  (when creating a numpy array from a list, numpy will coerce the\n",
    "  elements into a single type (e.g., a mix of floats and ints will \n",
    "  be coerced into floats)"
   ]
  },
  {
   "cell_type": "code",
   "execution_count": 2,
   "metadata": {},
   "outputs": [
    {
     "data": {
      "text/plain": [
       "'forget'"
      ]
     },
     "execution_count": 2,
     "metadata": {},
     "output_type": "execute_result"
    }
   ],
   "source": [
    "gpas_as_list = [4.0, 3.286, 3.5]\n",
    "\n",
    "# Can append element to list\n",
    "gpas_as_list.append(4.0)\n",
    "\n",
    "# Can have multiple types\n",
    "gpas_as_list.insert(1, 'forget')\n",
    "\n",
    "# Can remove items\n",
    "gpas_as_list.pop(1)"
   ]
  },
  {
   "cell_type": "code",
   "execution_count": 3,
   "metadata": {},
   "outputs": [
    {
     "data": {
      "text/plain": [
       "[4.0, 3.286, 3.5, 4.0]"
      ]
     },
     "execution_count": 3,
     "metadata": {},
     "output_type": "execute_result"
    }
   ],
   "source": [
    "gpas_as_list"
   ]
  },
  {
   "cell_type": "code",
   "execution_count": 4,
   "metadata": {},
   "outputs": [],
   "source": [
    "gpas = np.array(gpas_as_list)"
   ]
  },
  {
   "cell_type": "markdown",
   "metadata": {},
   "source": [
    "*Some common properties on np arrays:*"
   ]
  },
  {
   "cell_type": "code",
   "execution_count": 5,
   "metadata": {},
   "outputs": [
    {
     "name": "stdout",
     "output_type": "stream",
     "text": [
      "float64\n",
      "8\n",
      "4\n",
      "32\n"
     ]
    }
   ],
   "source": [
    "print(gpas.dtype)\n",
    "print(gpas.itemsize)  # in bytes\n",
    "print(gpas.size)  # number of elements\n",
    "print(gpas.nbytes)  # number of bytes"
   ]
  },
  {
   "cell_type": "code",
   "execution_count": 6,
   "metadata": {},
   "outputs": [],
   "source": [
    "# create a 100-element array with all elements set to 0.0\n",
    "study_minutes_floats = np.zeros(100)\n",
    "\n",
    "# given we only want to track +ve whole minutes, and there are only 1440\n",
    "# minutes in a day, we can use UINT16 as a more efficient type than\n",
    "# Float64\n",
    "study_minutes = np.zeros(100, np.uint16)"
   ]
  },
  {
   "cell_type": "code",
   "execution_count": 7,
   "metadata": {},
   "outputs": [
    {
     "name": "stdout",
     "output_type": "stream",
     "text": [
      "Variable               Type       Data/Info\n",
      "-------------------------------------------\n",
      "gpas                   ndarray    4: 4 elems, type `float64`, 32 bytes\n",
      "gpas_as_list           list       n=4\n",
      "np                     module     <module 'numpy' from '/Us<...>kages/numpy/__init__.py'>\n",
      "study_minutes          ndarray    100: 100 elems, type `uint16`, 200 bytes\n",
      "study_minutes_floats   ndarray    100: 100 elems, type `float64`, 800 bytes\n"
     ]
    }
   ],
   "source": [
    "%whos"
   ]
  },
  {
   "cell_type": "code",
   "execution_count": 9,
   "metadata": {},
   "outputs": [
    {
     "name": "stdout",
     "output_type": "stream",
     "text": [
      "150\n",
      "<class 'numpy.uint16'>\n"
     ]
    }
   ],
   "source": [
    "study_minutes[0] = 150\n",
    "first_day_minutes = study_minutes[0]\n",
    "print(first_day_minutes)\n",
    "print(type(first_day_minutes))"
   ]
  },
  {
   "cell_type": "code",
   "execution_count": 10,
   "metadata": {},
   "outputs": [
    {
     "name": "stdout",
     "output_type": "stream",
     "text": [
      "[150  60   0   0   0   0   0   0   0   0   0   0   0   0   0   0   0   0\n",
      "   0   0   0   0   0   0   0   0   0   0   0   0   0   0   0   0   0   0\n",
      "   0   0   0   0   0   0   0   0   0   0   0   0   0   0   0   0   0   0\n",
      "   0   0   0   0   0   0   0   0   0   0   0   0   0   0   0   0   0   0\n",
      "   0   0   0   0   0   0   0   0   0   0   0   0   0   0   0   0   0   0\n",
      "   0   0   0   0   0   0   0   0   0   0]\n"
     ]
    }
   ],
   "source": [
    "study_minutes[1] = 60\n",
    "print(study_minutes)"
   ]
  },
  {
   "cell_type": "code",
   "execution_count": 11,
   "metadata": {},
   "outputs": [
    {
     "name": "stdout",
     "output_type": "stream",
     "text": [
      "[150  60  80  60  30  90   0   0   0   0   0   0   0   0   0   0   0   0\n",
      "   0   0   0   0   0   0   0   0   0   0   0   0   0   0   0   0   0   0\n",
      "   0   0   0   0   0   0   0   0   0   0   0   0   0   0   0   0   0   0\n",
      "   0   0   0   0   0   0   0   0   0   0   0   0   0   0   0   0   0   0\n",
      "   0   0   0   0   0   0   0   0   0   0   0   0   0   0   0   0   0   0\n",
      "   0   0   0   0   0   0   0   0   0   0]\n"
     ]
    }
   ],
   "source": [
    "# update multiple elements at once\n",
    "study_minutes[2:6] = [80, 60, 30, 90]\n",
    "print(study_minutes)"
   ]
  },
  {
   "cell_type": "code",
   "execution_count": null,
   "metadata": {},
   "outputs": [],
   "source": []
  }
 ],
 "metadata": {
  "kernelspec": {
   "display_name": "Python 3",
   "language": "python",
   "name": "python3"
  },
  "language_info": {
   "codemirror_mode": {
    "name": "ipython",
    "version": 3
   },
   "file_extension": ".py",
   "mimetype": "text/x-python",
   "name": "python",
   "nbconvert_exporter": "python",
   "pygments_lexer": "ipython3",
   "version": "3.7.6"
  }
 },
 "nbformat": 4,
 "nbformat_minor": 4
}
