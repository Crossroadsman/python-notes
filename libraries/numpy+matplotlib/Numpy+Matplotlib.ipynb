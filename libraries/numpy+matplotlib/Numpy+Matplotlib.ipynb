{
 "cells": [
  {
   "cell_type": "markdown",
   "metadata": {},
   "source": [
    "Numpy and Matplotlib\n",
    "=================="
   ]
  },
  {
   "cell_type": "code",
   "execution_count": 1,
   "metadata": {},
   "outputs": [
    {
     "data": {
      "text/plain": [
       "'1.18.2'"
      ]
     },
     "execution_count": 1,
     "metadata": {},
     "output_type": "execute_result"
    }
   ],
   "source": [
    "import numpy as np\n",
    "np.__version__"
   ]
  },
  {
   "cell_type": "code",
   "execution_count": 2,
   "metadata": {},
   "outputs": [],
   "source": [
    "import matplotlib.pyplot as plt"
   ]
  },
  {
   "cell_type": "code",
   "execution_count": 3,
   "metadata": {},
   "outputs": [],
   "source": [
    "students_gpas = np.array([\n",
    "    [4.0, 3.286, 3.5, 4.0],\n",
    "    [3.2, 3.8, 4.0, 4.0],\n",
    "    [3.96, 3.92, 4.0, 4.0],\n",
    "],dtype='float16')"
   ]
  },
  {
   "cell_type": "code",
   "execution_count": 4,
   "metadata": {},
   "outputs": [
    {
     "data": {
      "text/plain": [
       "3.805"
      ]
     },
     "execution_count": 4,
     "metadata": {},
     "output_type": "execute_result"
    }
   ],
   "source": [
    "students_gpas.mean()"
   ]
  },
  {
   "cell_type": "code",
   "execution_count": 5,
   "metadata": {},
   "outputs": [
    {
     "data": {
      "text/plain": [
       "[]"
      ]
     },
     "execution_count": 5,
     "metadata": {},
     "output_type": "execute_result"
    },
    {
     "data": {
      "image/png": "[encoded data removed]",
      "text/plain": [
       "<Figure size 432x288 with 1 Axes>"
      ]
     },
     "metadata": {
      "needs_background": "light"
     },
     "output_type": "display_data"
    }
   ],
   "source": [
    "plt.boxplot(students_gpas.T)\n",
    "plt.plot()"
   ]
  },
  {
   "cell_type": "code",
   "execution_count": 6,
   "metadata": {},
   "outputs": [
    {
     "name": "stdout",
     "output_type": "stream",
     "text": [
      "[[ 93 164  43  87  13  87  62  63  26 149 110  40 127  29 102 115  49 152\n",
      "   39  31  31  11 146 152 179  18  87 158 153 128  76 178 170  29  36 168\n",
      "  139 172 161  90  35 114   3  64  48  63 160 125 127  48   0  38 123 149\n",
      "   65 150  10 173 135  90 170 138 163 102 155  29  10  80  73 102 126 103\n",
      "   94 115 153 123 117  36 133  40  86  12  86  35  77 122  81 176  16  99\n",
      "  147   2 159 159  22  58 141 153  64 175]\n",
      " [ 69 130  77   9  50   4 104  48  74  90  65  61 140  47 137 121  82  96\n",
      "  150  36 109  91   0  74 133 163  62 142  82 159 114 164 157 107  25 163\n",
      "    4  21 135 150  75 169 162  75 115 161 129 125 105  18  11 144 161  29\n",
      "    3  62 150  92 106  59  83  82  53 172  88 164 125 165  65 169 159  71\n",
      "   51  38  89 120  80 112  41 169 141   6 121  88  80  90 132  16 137 144\n",
      "   95 143   5  27 100 118  47 132  59  61]\n",
      " [ 36  89 101 133  34 109  95  17  81 115  49 127  25  97  59 103 106 103\n",
      "  159 157   1   8  79  49 104   4  85 110  91  61  66  56 150  31  82  42\n",
      "  160 168  79   5  64 106  88 158 175 175  93  75 130  19 164 157 152 124\n",
      "  147  18 101  65  92 108  37  97  63  50  29 107 178 163  52  76 165  71\n",
      "    8  61 110 112 176 101  37  59  89  39 119  59  21 148  95   2 143 150\n",
      "  112  62 116  13  83 178  29 138  48  62]]\n"
     ]
    }
   ],
   "source": [
    "sm_min = 0\n",
    "sm_max = 180  # `high` parameter is 1 less than the specified value\n",
    "shape = (3, 100)\n",
    "dt = 'uint8'\n",
    "\n",
    "study_minutes = np.random.randint(\n",
    "    low=sm_min,\n",
    "    high=sm_max,\n",
    "    size=shape,\n",
    "    dtype=dt\n",
    ")\n",
    "print(study_minutes)"
   ]
  },
  {
   "cell_type": "code",
   "execution_count": 7,
   "metadata": {},
   "outputs": [
    {
     "name": "stdout",
     "output_type": "stream",
     "text": [
      "[ 93 164  43  87  13  87  62  63  26 149 110  40 127  29 102 115  49 152\n",
      "  39  31  31  11 146 152 179  18  87 158 153 128  76 178 170  29  36 168\n",
      " 139 172 161  90  35 114   3  64  48  63 160 125 127  48  38 123 149  65\n",
      " 150  10 173 135  90 170 138 163 102 155  29  10  80  73 102 126 103  94\n",
      " 115 153 123 117  36 133  40  86  12  86  35  77 122  81 176  16  99 147\n",
      "   2 159 159  22  58 141 153  64 175  69 130  77   9  50   4 104  48  74\n",
      "  90  65  61 140  47 137 121  82  96 150  36 109  91  74 133 163  62 142\n",
      "  82 159 114 164 157 107  25 163   4  21 135 150  75 169 162  75 115 161\n",
      " 129 125 105  18  11 144 161  29   3  62 150  92 106  59  83  82  53 172\n",
      "  88 164 125 165  65 169 159  71  51  38  89 120  80 112  41 169 141   6\n",
      " 121  88  80  90 132  16 137 144  95 143   5  27 100 118  47 132  59  61\n",
      "  36  89 101 133  34 109  95  17  81 115  49 127  25  97  59 103 106 103\n",
      " 159 157   1   8  79  49 104   4  85 110  91  61  66  56 150  31  82  42\n",
      " 160 168  79   5  64 106  88 158 175 175  93  75 130  19 164 157 152 124\n",
      " 147  18 101  65  92 108  37  97  63  50  29 107 178 163  52  76 165  71\n",
      "   8  61 110 112 176 101  37  59  89  39 119  59  21 148  95   2 143 150\n",
      " 112  62 116  13  83 178  29 138  48  62]\n"
     ]
    }
   ],
   "source": [
    "non_zero_mask = study_minutes > 0\n",
    "non_zero_days = study_minutes[non_zero_mask]\n",
    "print(non_zero_days)"
   ]
  },
  {
   "cell_type": "code",
   "execution_count": 8,
   "metadata": {},
   "outputs": [
    {
     "data": {
      "text/plain": [
       "[]"
      ]
     },
     "execution_count": 8,
     "metadata": {},
     "output_type": "execute_result"
    },
    {
     "data": {
      "image/png": "[encoded data removed]",
      "text/plain": [
       "<Figure size 432x288 with 1 Axes>"
      ]
     },
     "metadata": {
      "needs_background": "light"
     },
     "output_type": "display_data"
    }
   ],
   "source": [
    "plt.hist(non_zero_days)\n",
    "plt.plot()"
   ]
  },
  {
   "cell_type": "code",
   "execution_count": null,
   "metadata": {},
   "outputs": [],
   "source": []
  }
 ],
 "metadata": {
  "kernelspec": {
   "display_name": "Python 3",
   "language": "python",
   "name": "python3"
  },
  "language_info": {
   "codemirror_mode": {
    "name": "ipython",
    "version": 3
   },
   "file_extension": ".py",
   "mimetype": "text/x-python",
   "name": "python",
   "nbconvert_exporter": "python",
   "pygments_lexer": "ipython3",
   "version": "3.7.6"
  }
 },
 "nbformat": 4,
 "nbformat_minor": 4
}
