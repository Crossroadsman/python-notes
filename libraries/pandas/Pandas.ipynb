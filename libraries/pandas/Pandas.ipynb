{
 "cells": [
  {
   "cell_type": "markdown",
   "metadata": {},
   "source": [
    "Pandas\n",
    "======\n",
    "\n",
    "- Pandas is built on top of numpy\n",
    "- It allows more sophisticated *Series* (like a dict) \n",
    "  and *Data Frame* (like a table) objects\n",
    "- the datatype of the contained data is a NumPy.Scalar (e.g., float64)"
   ]
  },
  {
   "cell_type": "markdown",
   "metadata": {},
   "source": [
    "Series\n",
    "--------"
   ]
  },
  {
   "cell_type": "code",
   "execution_count": 1,
   "metadata": {},
   "outputs": [],
   "source": [
    "import numpy as np\n",
    "import pandas as pd"
   ]
  },
  {
   "cell_type": "markdown",
   "metadata": {},
   "source": [
    "### Create from a dict ###\n",
    "\n",
    "- Use the `Series` constructor (accepts any dict-like object)\n",
    "- Can also take a data iterable (plus an optional same-length iterable\n",
    "  representing data labels)"
   ]
  },
  {
   "cell_type": "code",
   "execution_count": 2,
   "metadata": {},
   "outputs": [
    {
     "data": {
      "text/plain": [
       "alice    20.00\n",
       "bob      20.18\n",
       "carol     1.05\n",
       "dan      42.42\n",
       "dtype: float64"
      ]
     },
     "execution_count": 2,
     "metadata": {},
     "output_type": "execute_result"
    }
   ],
   "source": [
    "test_balance_data = {\n",
    "    'alice': 20.00,\n",
    "    'bob': 20.18,\n",
    "    'carol': 1.05,\n",
    "    'dan': 42.42,\n",
    "}\n",
    "balances = pd.Series(test_balance_data)\n",
    "balances"
   ]
  },
  {
   "cell_type": "code",
   "execution_count": 3,
   "metadata": {},
   "outputs": [
    {
     "data": {
      "text/plain": [
       "0    20.00\n",
       "1    20.18\n",
       "2     1.05\n",
       "3    42.42\n",
       "dtype: float64"
      ]
     },
     "execution_count": 3,
     "metadata": {},
     "output_type": "execute_result"
    }
   ],
   "source": [
    "values = list(test_balance_data.values())\n",
    "unlabeled_balances = pd.Series(values)\n",
    "unlabeled_balances"
   ]
  },
  {
   "cell_type": "code",
   "execution_count": 4,
   "metadata": {},
   "outputs": [
    {
     "data": {
      "text/plain": [
       "alice    20.00\n",
       "bob      20.18\n",
       "carol     1.05\n",
       "dan      42.42\n",
       "dtype: float64"
      ]
     },
     "execution_count": 4,
     "metadata": {},
     "output_type": "execute_result"
    }
   ],
   "source": [
    "labels = list(test_balance_data.keys())\n",
    "unlabeled_balances = pd.Series(values, index=labels)\n",
    "unlabeled_balances"
   ]
  },
  {
   "cell_type": "markdown",
   "metadata": {},
   "source": [
    "### Accessing Data ###\n",
    "\n",
    "- by index (aka `.iloc`)\n",
    "- by label (if labelled) (aka `.loc`)\n",
    "- like a dict (`.items()`, `.keys()`) **but note `.values` \n",
    "  NOT `.values()`**\n",
    "- with dot notation (as long as label meets variable naming constraints)\n",
    "- by slice (but note slicing with labels is inclusive)"
   ]
  },
  {
   "cell_type": "code",
   "execution_count": 5,
   "metadata": {},
   "outputs": [],
   "source": [
    "# Optional import to use markdown-formatted output\n",
    "from IPython.display import display, Markdown\n",
    "\n",
    "def render(md):\n",
    "    return display(Markdown(md))"
   ]
  },
  {
   "cell_type": "code",
   "execution_count": 6,
   "metadata": {},
   "outputs": [
    {
     "name": "stdout",
     "output_type": "stream",
     "text": [
      "20.0\n",
      "<class 'numpy.float64'>\n",
      "42.42\n",
      "20.0\n"
     ]
    }
   ],
   "source": [
    "print( balances[0] )\n",
    "print( type(balances[0]) )\n",
    "print( balances[-1] )\n",
    "print( balances.iloc[0] )"
   ]
  },
  {
   "cell_type": "code",
   "execution_count": 7,
   "metadata": {},
   "outputs": [
    {
     "name": "stdout",
     "output_type": "stream",
     "text": [
      "20.0\n",
      "42.42\n",
      "20.0\n"
     ]
    }
   ],
   "source": [
    "print( balances['alice'] )\n",
    "print( balances['dan'] )\n",
    "print( balances.loc['alice'] )"
   ]
  },
  {
   "cell_type": "code",
   "execution_count": 8,
   "metadata": {},
   "outputs": [
    {
     "name": "stdout",
     "output_type": "stream",
     "text": [
      "The label alice has a value of 20.0\n",
      "The label bob has a value of 20.18\n",
      "The label carol has a value of 1.05\n",
      "The label dan has a value of 42.42\n"
     ]
    }
   ],
   "source": [
    "for label, value in balances.items():\n",
    "    print(f'The label {label} has a value of {value}')"
   ]
  },
  {
   "cell_type": "code",
   "execution_count": 9,
   "metadata": {},
   "outputs": [
    {
     "name": "stdout",
     "output_type": "stream",
     "text": [
      "Index(['alice', 'bob', 'carol', 'dan'], dtype='object')\n",
      "[20.   20.18  1.05 42.42]\n"
     ]
    }
   ],
   "source": [
    "print( balances.keys() )\n",
    "print( balances.values )  # .values NOT .values()"
   ]
  },
  {
   "cell_type": "code",
   "execution_count": 10,
   "metadata": {},
   "outputs": [
    {
     "data": {
      "text/markdown": [
       "Accessing a non-existent key raises `KeyError`"
      ],
      "text/plain": [
       "<IPython.core.display.Markdown object>"
      ]
     },
     "metadata": {},
     "output_type": "display_data"
    }
   ],
   "source": [
    "try:\n",
    "    balances['bmo']\n",
    "except KeyError:\n",
    "    render('Accessing a non-existent key raises `KeyError`')"
   ]
  },
  {
   "cell_type": "code",
   "execution_count": 11,
   "metadata": {},
   "outputs": [
    {
     "name": "stdout",
     "output_type": "stream",
     "text": [
      "Use `in` to test the existence of a label\n"
     ]
    }
   ],
   "source": [
    "if 'bmo' not in balances:\n",
    "    print(\"Use `in` to test the existence of a label\")"
   ]
  },
  {
   "cell_type": "code",
   "execution_count": 12,
   "metadata": {},
   "outputs": [
    {
     "data": {
      "text/plain": [
       "20.0"
      ]
     },
     "execution_count": 12,
     "metadata": {},
     "output_type": "execute_result"
    }
   ],
   "source": [
    "balances.alice"
   ]
  },
  {
   "cell_type": "code",
   "execution_count": 13,
   "metadata": {},
   "outputs": [
    {
     "data": {
      "text/plain": [
       "alice    20.00\n",
       "bob      20.18\n",
       "carol     1.05\n",
       "dtype: float64"
      ]
     },
     "execution_count": 13,
     "metadata": {},
     "output_type": "execute_result"
    }
   ],
   "source": [
    "# Slicing by index excludes the end value\n",
    "balances.iloc[0:3]  # items 0, 1, 2"
   ]
  },
  {
   "cell_type": "code",
   "execution_count": 14,
   "metadata": {},
   "outputs": [
    {
     "data": {
      "text/plain": [
       "alice    20.00\n",
       "bob      20.18\n",
       "carol     1.05\n",
       "dan      42.42\n",
       "dtype: float64"
      ]
     },
     "execution_count": 14,
     "metadata": {},
     "output_type": "execute_result"
    }
   ],
   "source": [
    "# Slicing by values includes the end value\n",
    "balances.loc['alice':'dan']"
   ]
  },
  {
   "cell_type": "code",
   "execution_count": null,
   "metadata": {},
   "outputs": [],
   "source": []
  },
  {
   "cell_type": "code",
   "execution_count": null,
   "metadata": {},
   "outputs": [],
   "source": []
  },
  {
   "cell_type": "code",
   "execution_count": null,
   "metadata": {},
   "outputs": [],
   "source": []
  }
 ],
 "metadata": {
  "kernelspec": {
   "display_name": "Python 3",
   "language": "python",
   "name": "python3"
  },
  "language_info": {
   "codemirror_mode": {
    "name": "ipython",
    "version": 3
   },
   "file_extension": ".py",
   "mimetype": "text/x-python",
   "name": "python",
   "nbconvert_exporter": "python",
   "pygments_lexer": "ipython3",
   "version": "3.7.6"
  }
 },
 "nbformat": 4,
 "nbformat_minor": 4
}
