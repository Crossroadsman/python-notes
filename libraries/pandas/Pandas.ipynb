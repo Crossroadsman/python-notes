{
 "cells": [
  {
   "cell_type": "markdown",
   "metadata": {},
   "source": [
    "Pandas\n",
    "======\n",
    "\n",
    "<a id=\"1\"></a>\n",
    "1: Index\n",
    "---------\n",
    "\n",
    "- [1: Index](#1)\n",
    "- [2: Summary](#2)\n",
    "- [3: Series](#3)\n",
    "  - [3.1: Creating From `dict`](#3.1)\n",
    "  - [3.2: Accessing Data](#3.2)\n",
    "- [4: DataFrames](#4)\n",
    "  - [4.1: Creating a DataFrame](#4.1)\n",
    "    - [4.1.1: `DataFrame.from_dict` options](#4.1.1)\n",
    "  - [4.2: Accessing Data](#4.2)\n",
    "    - [4.2.1: Single column or row](#4.2.1)\n",
    "    - [4.2.2: Single value](#4.2.2)\n",
    "    - [4.2.3: A DataFrame](#4.2.3)\n",
    "- [5: CSV](#5)\n",
    "- [6: Manipulating Data](#6)\n",
    "  - [6.0: Scenario Setup](#6.0)\n",
    "  - [6.1: Updating Records](#6.1)\n",
    "  - [6.2: Adding Rows](#6.2)\n",
    "  - [6.3: Renaming Rows/Columns](#6.3)\n",
    "  - [6.4: Deleting Rows/Columns](#6.4)\n",
    "- [7: Combining Data](#7)\n",
    "  - [7.0: Summary Notes](#7.0)\n",
    "  - [7.1: Scenario Setup](#7.1)\n",
    "  - [7.2: Performing a Merge](#7.2)\n",
    "  - [7.3: Gather Insights (type conversion, date math, sorting)](#7.3)\n",
    "  - [7.4: Further Research (duplicates, etc)](#7.4)"
   ]
  },
  {
   "cell_type": "markdown",
   "metadata": {},
   "source": [
    "<a id=\"2\"></a>\n",
    "2: Summary\n",
    "----------\n",
    "\n",
    "- Pandas is built on top of numpy\n",
    "- It allows more sophisticated *Series* (like a dict) \n",
    "  and *Data Frame* (like a table) objects\n",
    "- the datatype of the contained data is a NumPy.Scalar (e.g., float64)"
   ]
  },
  {
   "cell_type": "markdown",
   "metadata": {},
   "source": [
    "<a id=\"3\"></a>\n",
    "3: Series\n",
    "----------\n",
    "\n",
    "- [3.1: Creating From `dict`](#3.1)\n",
    "- [3.2: Accessing Data](#3.2)"
   ]
  },
  {
   "cell_type": "code",
   "execution_count": 1,
   "metadata": {},
   "outputs": [],
   "source": [
    "import numpy as np\n",
    "import pandas as pd"
   ]
  },
  {
   "cell_type": "markdown",
   "metadata": {},
   "source": [
    "<a id=\"3.1\"> </a>\n",
    "### 3.1: Create from a dict ###\n",
    "\n",
    "- Use the `Series` constructor (accepts any dict-like object)\n",
    "- Can also take a data iterable (plus an optional same-length iterable\n",
    "  representing data labels)"
   ]
  },
  {
   "cell_type": "code",
   "execution_count": 2,
   "metadata": {},
   "outputs": [
    {
     "data": {
      "text/plain": [
       "alice    20.00\n",
       "bob      20.18\n",
       "carol     1.05\n",
       "dan      42.42\n",
       "dtype: float64"
      ]
     },
     "execution_count": 2,
     "metadata": {},
     "output_type": "execute_result"
    }
   ],
   "source": [
    "test_balance_data = {\n",
    "    'alice': 20.00,\n",
    "    'bob': 20.18,\n",
    "    'carol': 1.05,\n",
    "    'dan': 42.42,\n",
    "}\n",
    "balances = pd.Series(test_balance_data)\n",
    "balances"
   ]
  },
  {
   "cell_type": "code",
   "execution_count": 3,
   "metadata": {},
   "outputs": [
    {
     "data": {
      "text/plain": [
       "0    20.00\n",
       "1    20.18\n",
       "2     1.05\n",
       "3    42.42\n",
       "dtype: float64"
      ]
     },
     "execution_count": 3,
     "metadata": {},
     "output_type": "execute_result"
    }
   ],
   "source": [
    "values = list(test_balance_data.values())\n",
    "unlabeled_balances = pd.Series(values)\n",
    "unlabeled_balances"
   ]
  },
  {
   "cell_type": "code",
   "execution_count": 4,
   "metadata": {},
   "outputs": [
    {
     "data": {
      "text/plain": [
       "alice    20.00\n",
       "bob      20.18\n",
       "carol     1.05\n",
       "dan      42.42\n",
       "dtype: float64"
      ]
     },
     "execution_count": 4,
     "metadata": {},
     "output_type": "execute_result"
    }
   ],
   "source": [
    "labels = list(test_balance_data.keys())\n",
    "unlabeled_balances = pd.Series(values, index=labels)\n",
    "unlabeled_balances"
   ]
  },
  {
   "cell_type": "markdown",
   "metadata": {},
   "source": [
    "<a id=\"3.2\"> </a>\n",
    "### 3.2: Accessing Data ###\n",
    "\n",
    "- by index (aka `.iloc`)\n",
    "- by label (if labelled) (aka `.loc`)\n",
    "- like a dict (`.items()`, `.keys()`) **but note `.values` \n",
    "  NOT `.values()`**\n",
    "- with dot notation (as long as label meets variable naming constraints)\n",
    "- by slice (but note slicing with labels is inclusive)"
   ]
  },
  {
   "cell_type": "code",
   "execution_count": 5,
   "metadata": {},
   "outputs": [],
   "source": [
    "# Optional import to use markdown-formatted output\n",
    "from IPython.display import display, Markdown\n",
    "\n",
    "def render(md):\n",
    "    return display(Markdown(md))"
   ]
  },
  {
   "cell_type": "code",
   "execution_count": 6,
   "metadata": {},
   "outputs": [
    {
     "name": "stdout",
     "output_type": "stream",
     "text": [
      "20.0\n",
      "<class 'numpy.float64'>\n",
      "42.42\n",
      "20.0\n"
     ]
    }
   ],
   "source": [
    "print( balances[0] )\n",
    "print( type(balances[0]) )\n",
    "print( balances[-1] )\n",
    "print( balances.iloc[0] )"
   ]
  },
  {
   "cell_type": "code",
   "execution_count": 7,
   "metadata": {},
   "outputs": [
    {
     "name": "stdout",
     "output_type": "stream",
     "text": [
      "20.0\n",
      "42.42\n",
      "20.0\n"
     ]
    }
   ],
   "source": [
    "print( balances['alice'] )\n",
    "print( balances['dan'] )\n",
    "print( balances.loc['alice'] )"
   ]
  },
  {
   "cell_type": "code",
   "execution_count": 8,
   "metadata": {},
   "outputs": [
    {
     "name": "stdout",
     "output_type": "stream",
     "text": [
      "The label alice has a value of 20.0\n",
      "The label bob has a value of 20.18\n",
      "The label carol has a value of 1.05\n",
      "The label dan has a value of 42.42\n"
     ]
    }
   ],
   "source": [
    "for label, value in balances.items():\n",
    "    print(f'The label {label} has a value of {value}')"
   ]
  },
  {
   "cell_type": "code",
   "execution_count": 9,
   "metadata": {},
   "outputs": [
    {
     "name": "stdout",
     "output_type": "stream",
     "text": [
      "Index(['alice', 'bob', 'carol', 'dan'], dtype='object')\n",
      "[20.   20.18  1.05 42.42]\n"
     ]
    }
   ],
   "source": [
    "print( balances.keys() )\n",
    "print( balances.values )  # .values NOT .values()"
   ]
  },
  {
   "cell_type": "code",
   "execution_count": 10,
   "metadata": {},
   "outputs": [
    {
     "data": {
      "text/markdown": [
       "Accessing a non-existent key raises `KeyError`"
      ],
      "text/plain": [
       "<IPython.core.display.Markdown object>"
      ]
     },
     "metadata": {},
     "output_type": "display_data"
    }
   ],
   "source": [
    "try:\n",
    "    balances['bmo']\n",
    "except KeyError:\n",
    "    render('Accessing a non-existent key raises `KeyError`')"
   ]
  },
  {
   "cell_type": "code",
   "execution_count": 11,
   "metadata": {},
   "outputs": [
    {
     "name": "stdout",
     "output_type": "stream",
     "text": [
      "Use `in` to test the existence of a label\n"
     ]
    }
   ],
   "source": [
    "if 'bmo' not in balances:\n",
    "    print(\"Use `in` to test the existence of a label\")"
   ]
  },
  {
   "cell_type": "code",
   "execution_count": 12,
   "metadata": {},
   "outputs": [
    {
     "data": {
      "text/plain": [
       "20.0"
      ]
     },
     "execution_count": 12,
     "metadata": {},
     "output_type": "execute_result"
    }
   ],
   "source": [
    "balances.alice"
   ]
  },
  {
   "cell_type": "code",
   "execution_count": 13,
   "metadata": {},
   "outputs": [
    {
     "data": {
      "text/plain": [
       "alice    20.00\n",
       "bob      20.18\n",
       "carol     1.05\n",
       "dtype: float64"
      ]
     },
     "execution_count": 13,
     "metadata": {},
     "output_type": "execute_result"
    }
   ],
   "source": [
    "# Slicing by index excludes the end value\n",
    "balances.iloc[0:3]  # items 0, 1, 2"
   ]
  },
  {
   "cell_type": "code",
   "execution_count": 14,
   "metadata": {},
   "outputs": [
    {
     "data": {
      "text/plain": [
       "alice    20.00\n",
       "bob      20.18\n",
       "carol     1.05\n",
       "dan      42.42\n",
       "dtype: float64"
      ]
     },
     "execution_count": 14,
     "metadata": {},
     "output_type": "execute_result"
    }
   ],
   "source": [
    "# Slicing by values includes the end value\n",
    "balances.loc['alice':'dan']"
   ]
  },
  {
   "cell_type": "code",
   "execution_count": 15,
   "metadata": {},
   "outputs": [
    {
     "name": "stdout",
     "output_type": "stream",
     "text": [
      "alice    21.00\n",
      "bob      21.18\n",
      "carol     2.05\n",
      "dan      43.42\n",
      "dtype: float64\n"
     ]
    }
   ],
   "source": [
    "# Reminder: Vectorization and Broadcasting\n",
    "#\n",
    "# In addition to overloading the regular arithmetic operators, numpy has overloaded\n",
    "# the associated assignment operators. Thus we can broadcast a new value to a variable\n",
    "# as follows:\n",
    "balances += 1\n",
    "print(balances)"
   ]
  },
  {
   "cell_type": "code",
   "execution_count": 16,
   "metadata": {},
   "outputs": [
    {
     "data": {
      "text/plain": [
       "alice    23.00\n",
       "bob      21.18\n",
       "carol     2.55\n",
       "dan      53.44\n",
       "dtype: float64"
      ]
     },
     "execution_count": 16,
     "metadata": {},
     "output_type": "execute_result"
    }
   ],
   "source": [
    "# broadcasting a mismatched series\n",
    "#\n",
    "payments = pd.Series({\n",
    "    'alice': -2.00,  # Note no value for bob\n",
    "    'carol': -0.50,\n",
    "    'dan': -10.02,\n",
    "})\n",
    "balances - payments\n",
    "\n",
    "# By default numpy will fill any missing value with NaN\n",
    "# We can override this by specifying a `fill_value`:\n",
    "balances.subtract(payments, fill_value=0)"
   ]
  },
  {
   "cell_type": "markdown",
   "metadata": {},
   "source": [
    "<a id=\"4\"></a>\n",
    "4: DataFrames\n",
    "-------------\n",
    "\n",
    "- [4.1: Creating a DataFrame](#4.1)\n",
    "  - [4.1.1: `DataFrame.from_dict` options](#4.1.1)\n",
    "- [4.2: Accessing Data](#4.2)\n",
    "  - [4.2.1: Single column or row](#4.2.1)\n",
    "  - [4.2.2: Single value](#4.2.2)\n",
    "  - [4.2.3: A DataFrame](#4.2.3)\n"
   ]
  },
  {
   "cell_type": "markdown",
   "metadata": {},
   "source": [
    "<a id=\"4.1\"> </a>\n",
    "### 4.1: Creating a DataFrame ###\n",
    "\n",
    "- From a 2D object\n",
    "  - 2D-list: both rows and columns will have autogenerated 0-based labels. Override rows\n",
    "    with the `index` parameter and columns with the `columns` parameter\n",
    "  - Dict (default expected layout is key=column name, values=ordered values)"
   ]
  },
  {
   "cell_type": "code",
   "execution_count": 17,
   "metadata": {},
   "outputs": [
    {
     "data": {
      "text/html": [
       "<div>\n",
       "<style scoped>\n",
       "    .dataframe tbody tr th:only-of-type {\n",
       "        vertical-align: middle;\n",
       "    }\n",
       "\n",
       "    .dataframe tbody tr th {\n",
       "        vertical-align: top;\n",
       "    }\n",
       "\n",
       "    .dataframe thead th {\n",
       "        text-align: right;\n",
       "    }\n",
       "</style>\n",
       "<table border=\"1\" class=\"dataframe\">\n",
       "  <thead>\n",
       "    <tr style=\"text-align: right;\">\n",
       "      <th></th>\n",
       "      <th>0</th>\n",
       "      <th>1</th>\n",
       "      <th>2</th>\n",
       "    </tr>\n",
       "  </thead>\n",
       "  <tbody>\n",
       "    <tr>\n",
       "      <th>0</th>\n",
       "      <td>Alice</td>\n",
       "      <td>Smith</td>\n",
       "      <td>42.42</td>\n",
       "    </tr>\n",
       "    <tr>\n",
       "      <th>1</th>\n",
       "      <td>Bob</td>\n",
       "      <td>Jones</td>\n",
       "      <td>25.00</td>\n",
       "    </tr>\n",
       "  </tbody>\n",
       "</table>\n",
       "</div>"
      ],
      "text/plain": [
       "       0      1      2\n",
       "0  Alice  Smith  42.42\n",
       "1    Bob  Jones  25.00"
      ]
     },
     "execution_count": 17,
     "metadata": {},
     "output_type": "execute_result"
    }
   ],
   "source": [
    "test_users_list = [\n",
    "    ['Alice', 'Smith', 42.42],\n",
    "    ['Bob', 'Jones', 25.00],\n",
    "]\n",
    "pd.DataFrame(test_users_list)"
   ]
  },
  {
   "cell_type": "code",
   "execution_count": 18,
   "metadata": {},
   "outputs": [
    {
     "data": {
      "text/html": [
       "<div>\n",
       "<style scoped>\n",
       "    .dataframe tbody tr th:only-of-type {\n",
       "        vertical-align: middle;\n",
       "    }\n",
       "\n",
       "    .dataframe tbody tr th {\n",
       "        vertical-align: top;\n",
       "    }\n",
       "\n",
       "    .dataframe thead th {\n",
       "        text-align: right;\n",
       "    }\n",
       "</style>\n",
       "<table border=\"1\" class=\"dataframe\">\n",
       "  <thead>\n",
       "    <tr style=\"text-align: right;\">\n",
       "      <th></th>\n",
       "      <th>first_name</th>\n",
       "      <th>last_name</th>\n",
       "      <th>balance</th>\n",
       "    </tr>\n",
       "  </thead>\n",
       "  <tbody>\n",
       "    <tr>\n",
       "      <th>alicesmith</th>\n",
       "      <td>Alice</td>\n",
       "      <td>Smith</td>\n",
       "      <td>42.42</td>\n",
       "    </tr>\n",
       "    <tr>\n",
       "      <th>bobjones</th>\n",
       "      <td>Bob</td>\n",
       "      <td>Jones</td>\n",
       "      <td>25.00</td>\n",
       "    </tr>\n",
       "  </tbody>\n",
       "</table>\n",
       "</div>"
      ],
      "text/plain": [
       "           first_name last_name  balance\n",
       "alicesmith      Alice     Smith    42.42\n",
       "bobjones          Bob     Jones    25.00"
      ]
     },
     "execution_count": 18,
     "metadata": {},
     "output_type": "execute_result"
    }
   ],
   "source": [
    "row_labels = ['alicesmith', 'bobjones']\n",
    "col_labels = ['first_name', 'last_name', 'balance']\n",
    "pd.DataFrame(test_users_list, index=row_labels, columns=col_labels)"
   ]
  },
  {
   "cell_type": "code",
   "execution_count": 19,
   "metadata": {},
   "outputs": [
    {
     "data": {
      "text/html": [
       "<div>\n",
       "<style scoped>\n",
       "    .dataframe tbody tr th:only-of-type {\n",
       "        vertical-align: middle;\n",
       "    }\n",
       "\n",
       "    .dataframe tbody tr th {\n",
       "        vertical-align: top;\n",
       "    }\n",
       "\n",
       "    .dataframe thead th {\n",
       "        text-align: right;\n",
       "    }\n",
       "</style>\n",
       "<table border=\"1\" class=\"dataframe\">\n",
       "  <thead>\n",
       "    <tr style=\"text-align: right;\">\n",
       "      <th></th>\n",
       "      <th>first_name</th>\n",
       "      <th>last_name</th>\n",
       "      <th>balance</th>\n",
       "    </tr>\n",
       "  </thead>\n",
       "  <tbody>\n",
       "    <tr>\n",
       "      <th>alicesmith</th>\n",
       "      <td>Alice</td>\n",
       "      <td>Smith</td>\n",
       "      <td>42.42</td>\n",
       "    </tr>\n",
       "    <tr>\n",
       "      <th>bobjones</th>\n",
       "      <td>Bob</td>\n",
       "      <td>Jones</td>\n",
       "      <td>25.00</td>\n",
       "    </tr>\n",
       "  </tbody>\n",
       "</table>\n",
       "</div>"
      ],
      "text/plain": [
       "           first_name last_name  balance\n",
       "alicesmith      Alice     Smith    42.42\n",
       "bobjones          Bob     Jones    25.00"
      ]
     },
     "execution_count": 19,
     "metadata": {},
     "output_type": "execute_result"
    }
   ],
   "source": [
    "test_users_dict = {\n",
    "    'first_name': ['Alice', 'Bob'],\n",
    "    'last_name': ['Smith', 'Jones'],\n",
    "    'balance': [42.42, 25.00],\n",
    "}\n",
    "pd.DataFrame(test_users_dict, index=row_labels)  # index is optional"
   ]
  },
  {
   "cell_type": "markdown",
   "metadata": {},
   "source": [
    "<a id=\"4.1.1\"> </a>\n",
    "#### 4.1.1: `DataFrame.from_dict` options ####\n",
    "\n",
    "- `orient`: This allows you to specify whether the keys of the dict are row labels (`index`)\n",
    "  or column titles (`columns`)."
   ]
  },
  {
   "cell_type": "code",
   "execution_count": 20,
   "metadata": {},
   "outputs": [
    {
     "data": {
      "text/html": [
       "<div>\n",
       "<style scoped>\n",
       "    .dataframe tbody tr th:only-of-type {\n",
       "        vertical-align: middle;\n",
       "    }\n",
       "\n",
       "    .dataframe tbody tr th {\n",
       "        vertical-align: top;\n",
       "    }\n",
       "\n",
       "    .dataframe thead th {\n",
       "        text-align: right;\n",
       "    }\n",
       "</style>\n",
       "<table border=\"1\" class=\"dataframe\">\n",
       "  <thead>\n",
       "    <tr style=\"text-align: right;\">\n",
       "      <th></th>\n",
       "      <th>first_name</th>\n",
       "      <th>last_name</th>\n",
       "      <th>balance</th>\n",
       "    </tr>\n",
       "  </thead>\n",
       "  <tbody>\n",
       "    <tr>\n",
       "      <th>alicesmith</th>\n",
       "      <td>Alice</td>\n",
       "      <td>Smith</td>\n",
       "      <td>42.42</td>\n",
       "    </tr>\n",
       "    <tr>\n",
       "      <th>bobjones</th>\n",
       "      <td>Bob</td>\n",
       "      <td>Jones</td>\n",
       "      <td>25.00</td>\n",
       "    </tr>\n",
       "  </tbody>\n",
       "</table>\n",
       "</div>"
      ],
      "text/plain": [
       "           first_name last_name  balance\n",
       "alicesmith      Alice     Smith    42.42\n",
       "bobjones          Bob     Jones    25.00"
      ]
     },
     "execution_count": 20,
     "metadata": {},
     "output_type": "execute_result"
    }
   ],
   "source": [
    "# Here we are using nested dictionaries to define the columns but we could pass lists for\n",
    "# the columns\n",
    "by_username = {\n",
    "    'alicesmith': {\n",
    "        'first_name': 'Alice',\n",
    "        'last_name': 'Smith',\n",
    "        'balance': 42.42\n",
    "    },\n",
    "    'bobjones': {\n",
    "        'first_name': 'Bob',\n",
    "        'last_name': 'Jones',\n",
    "        'balance': 25.00\n",
    "    }\n",
    "}\n",
    "\n",
    "pd.DataFrame.from_dict(by_username, orient='index')"
   ]
  },
  {
   "cell_type": "code",
   "execution_count": 21,
   "metadata": {},
   "outputs": [
    {
     "data": {
      "text/html": [
       "<div>\n",
       "<style scoped>\n",
       "    .dataframe tbody tr th:only-of-type {\n",
       "        vertical-align: middle;\n",
       "    }\n",
       "\n",
       "    .dataframe tbody tr th {\n",
       "        vertical-align: top;\n",
       "    }\n",
       "\n",
       "    .dataframe thead th {\n",
       "        text-align: right;\n",
       "    }\n",
       "</style>\n",
       "<table border=\"1\" class=\"dataframe\">\n",
       "  <thead>\n",
       "    <tr style=\"text-align: right;\">\n",
       "      <th></th>\n",
       "      <th>first_name</th>\n",
       "      <th>last_name</th>\n",
       "      <th>balance</th>\n",
       "    </tr>\n",
       "  </thead>\n",
       "  <tbody>\n",
       "    <tr>\n",
       "      <th>alicesmith</th>\n",
       "      <td>Alice</td>\n",
       "      <td>Smith</td>\n",
       "      <td>42.42</td>\n",
       "    </tr>\n",
       "    <tr>\n",
       "      <th>bobjones</th>\n",
       "      <td>Bob</td>\n",
       "      <td>Jones</td>\n",
       "      <td>25.00</td>\n",
       "    </tr>\n",
       "  </tbody>\n",
       "</table>\n",
       "</div>"
      ],
      "text/plain": [
       "           first_name last_name  balance\n",
       "alicesmith      Alice     Smith    42.42\n",
       "bobjones          Bob     Jones    25.00"
      ]
     },
     "execution_count": 21,
     "metadata": {},
     "output_type": "execute_result"
    }
   ],
   "source": [
    "by_username_lists = {\n",
    "    'alicesmith': ['Alice', 'Smith', 42.42],\n",
    "    'bobjones': ['Bob', 'Jones', 25.00],\n",
    "}\n",
    "\n",
    "pd.DataFrame.from_dict(by_username_lists, orient='index', columns=col_labels)"
   ]
  },
  {
   "cell_type": "markdown",
   "metadata": {},
   "source": [
    "<a id=\"4.2\"> </a>\n",
    "### 4.2: Accessing Data ###\n",
    "\n",
    "<a id=\"4.2.1\"> </a>\n",
    "#### 4.2.1: Single column or row ####\n",
    "\n",
    "You can get a `Series` representing a single column or row:\n",
    "\n",
    "- by column name (each column is a `Series`). The column gets a label `name` which can\n",
    "  be accessed using dot syntax;\n",
    "- by Label, using the `loc` property. The value passed into `loc` becomes the `name` label\n",
    "  for the row;\n",
    "- by Position, using the `iloc` property"
   ]
  },
  {
   "cell_type": "code",
   "execution_count": 22,
   "metadata": {},
   "outputs": [
    {
     "name": "stdout",
     "output_type": "stream",
     "text": [
      "alicesmith    42.42\n",
      "bobjones      25.00\n",
      "Name: balance, dtype: float64\n",
      "balance\n"
     ]
    }
   ],
   "source": [
    "users = pd.DataFrame.from_dict(by_username, orient='index')\n",
    "balances = users['balance']\n",
    "print( balances )\n",
    "print( balances.name )"
   ]
  },
  {
   "cell_type": "code",
   "execution_count": 23,
   "metadata": {},
   "outputs": [
    {
     "name": "stdout",
     "output_type": "stream",
     "text": [
      "first_name    Alice\n",
      "last_name     Smith\n",
      "balance       42.42\n",
      "Name: alicesmith, dtype: object\n",
      "alicesmith\n"
     ]
    }
   ],
   "source": [
    "print( users.loc['alicesmith'] )\n",
    "print( users.loc['alicesmith'].name )"
   ]
  },
  {
   "cell_type": "code",
   "execution_count": 24,
   "metadata": {},
   "outputs": [
    {
     "data": {
      "text/plain": [
       "first_name      Bob\n",
       "last_name     Jones\n",
       "balance          25\n",
       "Name: bobjones, dtype: object"
      ]
     },
     "execution_count": 24,
     "metadata": {},
     "output_type": "execute_result"
    }
   ],
   "source": [
    "users.iloc[1]"
   ]
  },
  {
   "cell_type": "markdown",
   "metadata": {},
   "source": [
    "<a id=\"4.2.2\"> </a>\n",
    "#### 4.2.2: Single value ####\n",
    "\n",
    "- by chaining (this runs multiple separate lookups so can be inefficient)\n",
    "- by row and column\n",
    "  - using `.loc` and passing a tuple,\n",
    "  - using `.at` and passing a tuple (more explicit than `.loc`)"
   ]
  },
  {
   "cell_type": "code",
   "execution_count": 25,
   "metadata": {},
   "outputs": [
    {
     "data": {
      "text/plain": [
       "'Alice'"
      ]
     },
     "execution_count": 25,
     "metadata": {},
     "output_type": "execute_result"
    }
   ],
   "source": [
    "# Chaining:\n",
    "# (here we are getting the `first_name` Series (which uses the row labels as its index), then\n",
    "# we use the row label to get the specific value)\n",
    "users['first_name']['alicesmith']"
   ]
  },
  {
   "cell_type": "code",
   "execution_count": 26,
   "metadata": {},
   "outputs": [
    {
     "data": {
      "text/plain": [
       "'Smith'"
      ]
     },
     "execution_count": 26,
     "metadata": {},
     "output_type": "execute_result"
    }
   ],
   "source": [
    "# Row and column using `.loc` and a tuple of labels\n",
    "users.loc['alicesmith', 'last_name']"
   ]
  },
  {
   "cell_type": "code",
   "execution_count": 27,
   "metadata": {},
   "outputs": [
    {
     "data": {
      "text/plain": [
       "'Smith'"
      ]
     },
     "execution_count": 27,
     "metadata": {},
     "output_type": "execute_result"
    }
   ],
   "source": [
    "# Row and column using `.at` and a tuple of labels\n",
    "users.at['alicesmith', 'last_name']"
   ]
  },
  {
   "cell_type": "markdown",
   "metadata": {},
   "source": [
    "<a id=\"4.2.3\"> </a>\n",
    "#### 4.2.3: A DataFrame ####\n",
    "\n",
    "We can use slicing with `.loc` or `.iloc` to get a DataFrame of a subset of the \n",
    "base DataFrame"
   ]
  },
  {
   "cell_type": "code",
   "execution_count": 28,
   "metadata": {},
   "outputs": [
    {
     "data": {
      "text/html": [
       "<div>\n",
       "<style scoped>\n",
       "    .dataframe tbody tr th:only-of-type {\n",
       "        vertical-align: middle;\n",
       "    }\n",
       "\n",
       "    .dataframe tbody tr th {\n",
       "        vertical-align: top;\n",
       "    }\n",
       "\n",
       "    .dataframe thead th {\n",
       "        text-align: right;\n",
       "    }\n",
       "</style>\n",
       "<table border=\"1\" class=\"dataframe\">\n",
       "  <thead>\n",
       "    <tr style=\"text-align: right;\">\n",
       "      <th></th>\n",
       "      <th>last_name</th>\n",
       "      <th>balance</th>\n",
       "    </tr>\n",
       "  </thead>\n",
       "  <tbody>\n",
       "    <tr>\n",
       "      <th>alicesmith</th>\n",
       "      <td>Smith</td>\n",
       "      <td>42.42</td>\n",
       "    </tr>\n",
       "    <tr>\n",
       "      <th>bobjones</th>\n",
       "      <td>Jones</td>\n",
       "      <td>25.00</td>\n",
       "    </tr>\n",
       "  </tbody>\n",
       "</table>\n",
       "</div>"
      ],
      "text/plain": [
       "           last_name  balance\n",
       "alicesmith     Smith    42.42\n",
       "bobjones       Jones    25.00"
      ]
     },
     "execution_count": 28,
     "metadata": {},
     "output_type": "execute_result"
    }
   ],
   "source": [
    "# using `.loc` the results are inclusive\n",
    "users.loc[:, ['last_name', 'balance']]"
   ]
  },
  {
   "cell_type": "code",
   "execution_count": 29,
   "metadata": {},
   "outputs": [
    {
     "data": {
      "text/html": [
       "<div>\n",
       "<style scoped>\n",
       "    .dataframe tbody tr th:only-of-type {\n",
       "        vertical-align: middle;\n",
       "    }\n",
       "\n",
       "    .dataframe tbody tr th {\n",
       "        vertical-align: top;\n",
       "    }\n",
       "\n",
       "    .dataframe thead th {\n",
       "        text-align: right;\n",
       "    }\n",
       "</style>\n",
       "<table border=\"1\" class=\"dataframe\">\n",
       "  <thead>\n",
       "    <tr style=\"text-align: right;\">\n",
       "      <th></th>\n",
       "      <th>last_name</th>\n",
       "      <th>balance</th>\n",
       "    </tr>\n",
       "  </thead>\n",
       "  <tbody>\n",
       "    <tr>\n",
       "      <th>alicesmith</th>\n",
       "      <td>Smith</td>\n",
       "      <td>42.42</td>\n",
       "    </tr>\n",
       "    <tr>\n",
       "      <th>bobjones</th>\n",
       "      <td>Jones</td>\n",
       "      <td>25.00</td>\n",
       "    </tr>\n",
       "  </tbody>\n",
       "</table>\n",
       "</div>"
      ],
      "text/plain": [
       "           last_name  balance\n",
       "alicesmith     Smith    42.42\n",
       "bobjones       Jones    25.00"
      ]
     },
     "execution_count": 29,
     "metadata": {},
     "output_type": "execute_result"
    }
   ],
   "source": [
    "users.loc[:, 'last_name':]"
   ]
  },
  {
   "cell_type": "code",
   "execution_count": 30,
   "metadata": {},
   "outputs": [
    {
     "data": {
      "text/html": [
       "<div>\n",
       "<style scoped>\n",
       "    .dataframe tbody tr th:only-of-type {\n",
       "        vertical-align: middle;\n",
       "    }\n",
       "\n",
       "    .dataframe tbody tr th {\n",
       "        vertical-align: top;\n",
       "    }\n",
       "\n",
       "    .dataframe thead th {\n",
       "        text-align: right;\n",
       "    }\n",
       "</style>\n",
       "<table border=\"1\" class=\"dataframe\">\n",
       "  <thead>\n",
       "    <tr style=\"text-align: right;\">\n",
       "      <th></th>\n",
       "      <th>last_name</th>\n",
       "      <th>balance</th>\n",
       "    </tr>\n",
       "  </thead>\n",
       "  <tbody>\n",
       "    <tr>\n",
       "      <th>alicesmith</th>\n",
       "      <td>Smith</td>\n",
       "      <td>42.42</td>\n",
       "    </tr>\n",
       "    <tr>\n",
       "      <th>bobjones</th>\n",
       "      <td>Jones</td>\n",
       "      <td>25.00</td>\n",
       "    </tr>\n",
       "  </tbody>\n",
       "</table>\n",
       "</div>"
      ],
      "text/plain": [
       "           last_name  balance\n",
       "alicesmith     Smith    42.42\n",
       "bobjones       Jones    25.00"
      ]
     },
     "execution_count": 30,
     "metadata": {},
     "output_type": "execute_result"
    }
   ],
   "source": [
    "users.loc['alicesmith':'bobjones', 'last_name':]"
   ]
  },
  {
   "cell_type": "code",
   "execution_count": 31,
   "metadata": {},
   "outputs": [
    {
     "data": {
      "text/html": [
       "<div>\n",
       "<style scoped>\n",
       "    .dataframe tbody tr th:only-of-type {\n",
       "        vertical-align: middle;\n",
       "    }\n",
       "\n",
       "    .dataframe tbody tr th {\n",
       "        vertical-align: top;\n",
       "    }\n",
       "\n",
       "    .dataframe thead th {\n",
       "        text-align: right;\n",
       "    }\n",
       "</style>\n",
       "<table border=\"1\" class=\"dataframe\">\n",
       "  <thead>\n",
       "    <tr style=\"text-align: right;\">\n",
       "      <th></th>\n",
       "      <th>last_name</th>\n",
       "    </tr>\n",
       "  </thead>\n",
       "  <tbody>\n",
       "    <tr>\n",
       "      <th>alicesmith</th>\n",
       "      <td>Smith</td>\n",
       "    </tr>\n",
       "  </tbody>\n",
       "</table>\n",
       "</div>"
      ],
      "text/plain": [
       "           last_name\n",
       "alicesmith     Smith"
      ]
     },
     "execution_count": 31,
     "metadata": {},
     "output_type": "execute_result"
    }
   ],
   "source": [
    "# using `.iloc` the results are exclusive\n",
    "users.iloc[0:1, 1:2]"
   ]
  },
  {
   "cell_type": "markdown",
   "metadata": {},
   "source": [
    "<a id=\"5\"></a>\n",
    "5: CSV\n",
    "------\n",
    "\n",
    "pandas has a built-in method for reading CSVs: `.read_csv(\"path/to/file\")`"
   ]
  },
  {
   "cell_type": "code",
   "execution_count": 32,
   "metadata": {},
   "outputs": [],
   "source": [
    "filename = 'data.csv'"
   ]
  },
  {
   "cell_type": "code",
   "execution_count": 33,
   "metadata": {},
   "outputs": [
    {
     "data": {
      "text/plain": [
       "\"\\nwith open(filename, 'r') as fh:\\n    for _ in range(5):\\n        # The `file` object is an iterator, so just get the next line\\n        print(next(fh))\\n\""
      ]
     },
     "execution_count": 33,
     "metadata": {},
     "output_type": "execute_result"
    }
   ],
   "source": [
    "\"\"\"\n",
    "with open(filename, 'r') as fh:\n",
    "    for _ in range(5):\n",
    "        # The `file` object is an iterator, so just get the next line\n",
    "        print(next(fh))\n",
    "\"\"\""
   ]
  },
  {
   "cell_type": "code",
   "execution_count": 34,
   "metadata": {},
   "outputs": [
    {
     "name": "stdout",
     "output_type": "stream",
     "text": [
      "         Date    AB  Cumulative  Deaths  Recoveries\n",
      "0  2020-03-05   1.0           1       0           0\n",
      "1  2020-03-06   1.0           2       0           0\n",
      "2  2020-03-07   NaN           2       0           0\n",
      "3  2020-03-08   2.0           4       0           0\n",
      "4  2020-03-09   3.0           7       0           0\n",
      "5  2020-03-10   7.0          14       0           0\n",
      "6  2020-03-11   5.0          19       0           0\n",
      "7  2020-03-12   4.0          23       0           0\n",
      "8  2020-03-13   6.0          29       0           0\n",
      "9  2020-03-14  10.0          39       0           0\n",
      "10 2020-03-15  17.0          56       0           0\n",
      "11 2020-03-16  18.0          74       0           0\n",
      "12 2020-03-17  23.0          97       0           0\n",
      "13 2020-03-18  22.0         119       0           0\n",
      "14 2020-03-19  27.0         146       1           0\n",
      "15 2020-03-20  49.0         195       0           3\n",
      "16 2020-03-21  31.0         226       0           0\n",
      "17 2020-03-22  33.0         259       0           0\n"
     ]
    }
   ],
   "source": [
    "#cases = pd.read_csv(filename, index_col=0, parse_dates=['Date'])\n",
    "cases = pd.read_csv(filename, parse_dates=['Date'])\n",
    "print(cases)\n"
   ]
  },
  {
   "cell_type": "markdown",
   "metadata": {},
   "source": [
    "Some observations:\n",
    "- blank cells are populated with `NaN`\n",
    "- If we specify that the first column should be the `index_col` it is not treated\n",
    "  as a regular column. If we omit `index_col`, pandas will auto-generate a 0-based index\n",
    "  column (starting at the first data row)\n",
    "- If we want to be able to manipulate the field that was the index in the CSV, we are best\n",
    "  importing it as a regular column and auto-generating the index column (compare the\n",
    "  two imports above)"
   ]
  },
  {
   "cell_type": "code",
   "execution_count": 35,
   "metadata": {},
   "outputs": [
    {
     "name": "stdout",
     "output_type": "stream",
     "text": [
      "         Date    AB  Cumulative  Deaths  Recoveries\n",
      "0  2020-03-05   1.0           1       0           0\n",
      "1  2020-03-06   1.0           2       0           0\n",
      "2  2020-03-07   NaN           2       0           0\n",
      "3  2020-03-08   2.0           4       0           0\n",
      "4  2020-03-09   3.0           7       0           0\n",
      "5  2020-03-10   7.0          14       0           0\n",
      "6  2020-03-11   5.0          19       0           0\n",
      "7  2020-03-12   4.0          23       0           0\n",
      "8  2020-03-13   6.0          29       0           0\n",
      "9  2020-03-14  10.0          39       0           0\n",
      "10 2020-03-15  17.0          56       0           0\n",
      "11 2020-03-16  18.0          74       0           0\n",
      "12 2020-03-17  23.0          97       0           0\n",
      "13 2020-03-18  22.0         119       0           0\n",
      "14 2020-03-19  27.0         146       1           0\n",
      "15 2020-03-20  49.0         195       0           3\n",
      "16 2020-03-21  31.0         226       0           0\n",
      "17 2020-03-22  33.0         259       0           0\n"
     ]
    }
   ],
   "source": [
    "# Remove the blank final row (if necessary)\n",
    "#cases = cases.iloc[0:-1,0:]\n",
    "print(cases)"
   ]
  },
  {
   "cell_type": "code",
   "execution_count": 36,
   "metadata": {},
   "outputs": [
    {
     "data": {
      "text/html": [
       "<div>\n",
       "<style scoped>\n",
       "    .dataframe tbody tr th:only-of-type {\n",
       "        vertical-align: middle;\n",
       "    }\n",
       "\n",
       "    .dataframe tbody tr th {\n",
       "        vertical-align: top;\n",
       "    }\n",
       "\n",
       "    .dataframe thead th {\n",
       "        text-align: right;\n",
       "    }\n",
       "</style>\n",
       "<table border=\"1\" class=\"dataframe\">\n",
       "  <thead>\n",
       "    <tr style=\"text-align: right;\">\n",
       "      <th></th>\n",
       "      <th>Date</th>\n",
       "      <th>AB</th>\n",
       "      <th>Cumulative</th>\n",
       "      <th>Deaths</th>\n",
       "      <th>Recoveries</th>\n",
       "    </tr>\n",
       "  </thead>\n",
       "  <tbody>\n",
       "    <tr>\n",
       "      <th>0</th>\n",
       "      <td>2020-03-05</td>\n",
       "      <td>1.0</td>\n",
       "      <td>1</td>\n",
       "      <td>0</td>\n",
       "      <td>0</td>\n",
       "    </tr>\n",
       "    <tr>\n",
       "      <th>1</th>\n",
       "      <td>2020-03-06</td>\n",
       "      <td>1.0</td>\n",
       "      <td>2</td>\n",
       "      <td>0</td>\n",
       "      <td>0</td>\n",
       "    </tr>\n",
       "    <tr>\n",
       "      <th>2</th>\n",
       "      <td>2020-03-07</td>\n",
       "      <td>NaN</td>\n",
       "      <td>2</td>\n",
       "      <td>0</td>\n",
       "      <td>0</td>\n",
       "    </tr>\n",
       "    <tr>\n",
       "      <th>3</th>\n",
       "      <td>2020-03-08</td>\n",
       "      <td>2.0</td>\n",
       "      <td>4</td>\n",
       "      <td>0</td>\n",
       "      <td>0</td>\n",
       "    </tr>\n",
       "    <tr>\n",
       "      <th>4</th>\n",
       "      <td>2020-03-09</td>\n",
       "      <td>3.0</td>\n",
       "      <td>7</td>\n",
       "      <td>0</td>\n",
       "      <td>0</td>\n",
       "    </tr>\n",
       "  </tbody>\n",
       "</table>\n",
       "</div>"
      ],
      "text/plain": [
       "        Date   AB  Cumulative  Deaths  Recoveries\n",
       "0 2020-03-05  1.0           1       0           0\n",
       "1 2020-03-06  1.0           2       0           0\n",
       "2 2020-03-07  NaN           2       0           0\n",
       "3 2020-03-08  2.0           4       0           0\n",
       "4 2020-03-09  3.0           7       0           0"
      ]
     },
     "execution_count": 36,
     "metadata": {},
     "output_type": "execute_result"
    }
   ],
   "source": [
    "# A quick way to check if the CSV was read correctly is to use the .head() method\n",
    "# (it takes an optional argument to specify the number of lines)\n",
    "cases.head()"
   ]
  },
  {
   "cell_type": "code",
   "execution_count": 37,
   "metadata": {},
   "outputs": [
    {
     "name": "stdout",
     "output_type": "stream",
     "text": [
      "shape:\n",
      " (18, 5)\n",
      "count:\n",
      "  Date          18\n",
      "AB            17\n",
      "Cumulative    18\n",
      "Deaths        18\n",
      "Recoveries    18\n",
      "dtype: int64\n",
      "datatypes:\n",
      " Date          datetime64[ns]\n",
      "AB                   float64\n",
      "Cumulative             int64\n",
      "Deaths                 int64\n",
      "Recoveries             int64\n",
      "dtype: object\n",
      "describe:\n",
      "               AB  Cumulative     Deaths  Recoveries\n",
      "count  17.000000   18.000000  18.000000   18.000000\n",
      "mean   15.235294   72.888889   0.055556    0.166667\n",
      "std    13.921788   83.162413   0.235702    0.707107\n",
      "min     1.000000    1.000000   0.000000    0.000000\n",
      "25%     4.000000    8.750000   0.000000    0.000000\n",
      "50%    10.000000   34.000000   0.000000    0.000000\n",
      "75%    23.000000  113.500000   0.000000    0.000000\n",
      "max    49.000000  259.000000   1.000000    3.000000\n"
     ]
    }
   ],
   "source": [
    "# we can explore the data:\n",
    "print('shape:\\n', cases.shape )\n",
    "print('count:\\n ', cases.count() )  # number of non-empty values for each column (use `len()` to get total rows)\n",
    "print('datatypes:\\n', cases.dtypes )\n",
    "print('describe:\\n', cases.describe() )  # most of these aggregations can be accessed as methods as well"
   ]
  },
  {
   "cell_type": "code",
   "execution_count": 38,
   "metadata": {},
   "outputs": [
    {
     "name": "stdout",
     "output_type": "stream",
     "text": [
      "AB            15.235294\n",
      "Cumulative    72.888889\n",
      "Deaths         0.055556\n",
      "Recoveries     0.166667\n",
      "dtype: float64\n"
     ]
    }
   ],
   "source": [
    "print( cases.mean() )"
   ]
  },
  {
   "cell_type": "code",
   "execution_count": 39,
   "metadata": {},
   "outputs": [
    {
     "name": "stdout",
     "output_type": "stream",
     "text": [
      "AB            13.921788\n",
      "Cumulative    83.162413\n",
      "Deaths         0.235702\n",
      "Recoveries     0.707107\n",
      "dtype: float64\n"
     ]
    }
   ],
   "source": [
    "print( cases.std() )"
   ]
  },
  {
   "cell_type": "code",
   "execution_count": 40,
   "metadata": {},
   "outputs": [
    {
     "name": "stdout",
     "output_type": "stream",
     "text": [
      "Date          2020-03-05 00:00:00\n",
      "AB                              1\n",
      "Cumulative                      1\n",
      "Deaths                          0\n",
      "Recoveries                      0\n",
      "dtype: object\n"
     ]
    }
   ],
   "source": [
    "print( cases.min() )"
   ]
  },
  {
   "cell_type": "code",
   "execution_count": 41,
   "metadata": {},
   "outputs": [
    {
     "name": "stdout",
     "output_type": "stream",
     "text": [
      "Date          2020-03-22 00:00:00\n",
      "AB                             49\n",
      "Cumulative                    259\n",
      "Deaths                          1\n",
      "Recoveries                      3\n",
      "dtype: object\n"
     ]
    }
   ],
   "source": [
    "print( cases.max() )"
   ]
  },
  {
   "cell_type": "code",
   "execution_count": 42,
   "metadata": {},
   "outputs": [
    {
     "data": {
      "text/html": [
       "<div>\n",
       "<style scoped>\n",
       "    .dataframe tbody tr th:only-of-type {\n",
       "        vertical-align: middle;\n",
       "    }\n",
       "\n",
       "    .dataframe tbody tr th {\n",
       "        vertical-align: top;\n",
       "    }\n",
       "\n",
       "    .dataframe thead th {\n",
       "        text-align: right;\n",
       "    }\n",
       "</style>\n",
       "<table border=\"1\" class=\"dataframe\">\n",
       "  <thead>\n",
       "    <tr style=\"text-align: right;\">\n",
       "      <th></th>\n",
       "      <th>Date</th>\n",
       "      <th>AB</th>\n",
       "      <th>Cumulative</th>\n",
       "      <th>Deaths</th>\n",
       "      <th>Recoveries</th>\n",
       "    </tr>\n",
       "  </thead>\n",
       "  <tbody>\n",
       "    <tr>\n",
       "      <th>12</th>\n",
       "      <td>2020-03-17</td>\n",
       "      <td>23.0</td>\n",
       "      <td>97</td>\n",
       "      <td>0</td>\n",
       "      <td>0</td>\n",
       "    </tr>\n",
       "    <tr>\n",
       "      <th>14</th>\n",
       "      <td>2020-03-19</td>\n",
       "      <td>27.0</td>\n",
       "      <td>146</td>\n",
       "      <td>1</td>\n",
       "      <td>0</td>\n",
       "    </tr>\n",
       "    <tr>\n",
       "      <th>15</th>\n",
       "      <td>2020-03-20</td>\n",
       "      <td>49.0</td>\n",
       "      <td>195</td>\n",
       "      <td>0</td>\n",
       "      <td>3</td>\n",
       "    </tr>\n",
       "    <tr>\n",
       "      <th>16</th>\n",
       "      <td>2020-03-21</td>\n",
       "      <td>31.0</td>\n",
       "      <td>226</td>\n",
       "      <td>0</td>\n",
       "      <td>0</td>\n",
       "    </tr>\n",
       "    <tr>\n",
       "      <th>17</th>\n",
       "      <td>2020-03-22</td>\n",
       "      <td>33.0</td>\n",
       "      <td>259</td>\n",
       "      <td>0</td>\n",
       "      <td>0</td>\n",
       "    </tr>\n",
       "  </tbody>\n",
       "</table>\n",
       "</div>"
      ],
      "text/plain": [
       "         Date    AB  Cumulative  Deaths  Recoveries\n",
       "12 2020-03-17  23.0          97       0           0\n",
       "14 2020-03-19  27.0         146       1           0\n",
       "15 2020-03-20  49.0         195       0           3\n",
       "16 2020-03-21  31.0         226       0           0\n",
       "17 2020-03-22  33.0         259       0           0"
      ]
     },
     "execution_count": 42,
     "metadata": {},
     "output_type": "execute_result"
    }
   ],
   "source": [
    "alt_sort = cases.sort_values(by='AB', ascending=False).head()  # can optionally pass `inplace=True` to mutate the original data\n",
    "alt_sort.sort_index()  # sort a DataFrame by the index column"
   ]
  },
  {
   "cell_type": "code",
   "execution_count": 43,
   "metadata": {},
   "outputs": [
    {
     "name": "stdout",
     "output_type": "stream",
     "text": [
      "         Date    AB  Cumulative  Deaths  Recoveries  Log2Count  PolyCount  \\\n",
      "0  2020-03-05   1.0           1       0           0   0.000000   1.000000   \n",
      "1  2020-03-06   1.0           2       0           0   1.000000   1.212326   \n",
      "2  2020-03-07   NaN           2       0           0   1.000000   1.212326   \n",
      "3  2020-03-08   2.0           4       0           0   2.000000   1.469734   \n",
      "4  2020-03-09   3.0           7       0           0   2.807355   1.716918   \n",
      "5  2020-03-10   7.0          14       0           0   3.807355   2.081464   \n",
      "6  2020-03-11   5.0          19       0           0   4.247928   2.265736   \n",
      "7  2020-03-12   4.0          23       0           0   4.523562   2.389229   \n",
      "8  2020-03-13   6.0          29       0           0   4.857981   2.548130   \n",
      "9  2020-03-14  10.0          39       0           0   5.285402   2.766702   \n",
      "10 2020-03-15  17.0          56       0           0   5.807355   3.059199   \n",
      "11 2020-03-16  18.0          74       0           0   6.209453   3.305453   \n",
      "12 2020-03-17  23.0          97       0           0   6.599913   3.563535   \n",
      "13 2020-03-18  22.0         119       0           0   6.894818   3.771732   \n",
      "14 2020-03-19  27.0         146       1           0   7.189825   3.992171   \n",
      "15 2020-03-20  49.0         195       0           3   7.607330   4.326341   \n",
      "16 2020-03-21  31.0         226       0           0   7.820179   4.507326   \n",
      "17 2020-03-22  33.0         259       0           0   8.016808   4.681241   \n",
      "\n",
      "    Days         Fit        PFit  \n",
      "0      0    1.734937    0.608592  \n",
      "1      1    2.397178    1.384597  \n",
      "2      2    3.312201    2.702504  \n",
      "3      3    4.576496    4.749128  \n",
      "4      4    6.323384    7.731398  \n",
      "5      5    8.737074   11.875123  \n",
      "6      6   12.072090   17.423990  \n",
      "7      7   16.680109   24.638722  \n",
      "8      8   23.047050   33.796371  \n",
      "9      9   31.844306   45.189688  \n",
      "10    10   43.999550   59.126591  \n",
      "11    11   60.794555   75.929673  \n",
      "12    12   84.000358   95.935773  \n",
      "13    13  116.064013  119.495585  \n",
      "14    14  160.366641  146.973299  \n",
      "15    15  221.579960  178.746277  \n",
      "16    16  306.158927  215.204756  \n",
      "17    17  423.022410  256.751565  \n"
     ]
    },
    {
     "data": {
      "image/png": "[encoded data removed]",
      "text/plain": [
       "<Figure size 648x432 with 1 Axes>"
      ]
     },
     "metadata": {
      "needs_background": "light"
     },
     "output_type": "display_data"
    }
   ],
   "source": [
    "# Replicating Dr. Drang's plot from\n",
    "# https://leancrew.com/all-this/2020/03/exponential-growth-and-log-scales/\n",
    "\n",
    "# Add Required Data to Table\n",
    "# --------------------------\n",
    "# Extend the table with base-2 log of the cumulative case count\n",
    "cases['Log2Count'] = np.log2(cases.Cumulative)\n",
    "# Extend the table with polynomial root of the cumulative case count\n",
    "POLY_VAL = 3.6\n",
    "cases['PolyCount'] = cases.Cumulative ** (1/POLY_VAL)\n",
    "\n",
    "# We can only do the following date math if we imported the date as a data column\n",
    "# Extend the table with the day number\n",
    "firstDate = cases.Date[0]\n",
    "cases['Days'] = (cases.Date - firstDate).dt.days\n",
    "\n",
    "# Extend the table with the best exponential fit\n",
    "from scipy.stats import linregress\n",
    "lr = linregress(cases.Days, cases.Log2Count)\n",
    "cases['Fit'] = 2 ** (lr.intercept + lr.slope * cases.Days)\n",
    "# Extend the table with the best polynomial fit\n",
    "lr2 = linregress(cases.Days, cases.PolyCount)\n",
    "cases['PFit'] = (lr2.intercept + lr2.slope * cases.Days) ** POLY_VAL\n",
    "\n",
    "print(cases)\n",
    "\n",
    "# Construct Plot\n",
    "# --------------\n",
    "import matplotlib.pyplot as plt\n",
    "fig, ax = plt.subplots(figsize=(9,6))\n",
    "plt.yscale('log', basey=2)\n",
    "ax.plot(cases.Days, cases.Cumulative, 'o', color='#d95f02', lw=1)\n",
    "ax.plot(cases.Days, cases.Fit, '--', color='#7570b3', lw=2)\n",
    "# Add polynomial best fit\n",
    "ax.plot(cases.Days, cases.PFit, '--', color='#aa33aa', lw=1.5)\n",
    "\n",
    "# Determine ticks etc\n",
    "from math import log2, ceil\n",
    "yStart = 1\n",
    "coordMax = log2(cases.Cumulative.max()/yStart)\n",
    "expMax = ceil(coordMax)\n",
    "yAdd = .4142*yStart*2**expMax if expMax - coordMax < .1 else 0\n",
    "yMax = yStart * (2 ** expMax) + yAdd\n",
    "plt.ylim(ymin=yStart, ymax=yMax)\n",
    "majors = np.array([ yStart * 2 ** i for i in range(expMax+1) ])\n",
    "ax.set_yticks(majors)\n",
    "ax.set_yticklabels(majors)\n",
    "\n",
    "from datetime import timedelta\n",
    "dateTickFreq = 2\n",
    "dMax = cases.Days.max()\n",
    "xAdd = 2 if cases.Days.max() % dateTickFreq else 1\n",
    "plt.xlim(xmin=-1, xmax=dMax + 1)\n",
    "ax.set_xticks([ x for x in range(0, dMax+xAdd, dateTickFreq) ])\n",
    "dates = [ (firstDate.date() + timedelta(days=x)).strftime('%b %-d') for x in range(0, dMax+xAdd, dateTickFreq)]\n",
    "ax.set_xticklabels(dates)\n",
    "ax.grid(linewidth=.5, which='major', color='#ddd', linestyle='-')\n",
    "\n",
    "\n",
    "# Add labels/title\n",
    "title = 'AB COVID-19 growth, assuming exponential (blue) or polynomial (pink) trend'\n",
    "plt.title(title)\n",
    "plt.ylabel('Confirmed case count')\n",
    "\n",
    "plt.show()\n"
   ]
  },
  {
   "cell_type": "markdown",
   "metadata": {},
   "source": [
    "<a id=\"6\"></a>\n",
    "6: Manipulating Data\n",
    "------------------------\n",
    "\n",
    "- [6.0: Scenario Setup](#6.0)\n",
    "- [6.1: Updating Records](#6.1)\n",
    "- [6.2: Adding Rows](#6.2)\n",
    "- [6.3: Renaming Rows/Columns](#6.3)\n",
    "- [6.4: Deleting Rows/Columns](#6.4)"
   ]
  },
  {
   "cell_type": "markdown",
   "metadata": {},
   "source": [
    "<a id=\"6.0\"></a>\n",
    "### 6.0: Scenario Setup ###"
   ]
  },
  {
   "cell_type": "code",
   "execution_count": 44,
   "metadata": {},
   "outputs": [
    {
     "name": "stdout",
     "output_type": "stream",
     "text": [
      "       sender      receiver  amount   sent_date\n",
      "0       stein        smoyer   49.03  2018-01-24\n",
      "1  holden4580  joshua.henry   34.64  2018-02-06\n",
      "2  rose.eaton   emily.lewis   62.67  2018-02-15\n",
      "3      lmoore        kallen    1.94  2018-03-05\n",
      "4   scott3928        lmoore   27.82  2018-03-10\n",
      "              first_name last_name                          email  \\\n",
      "aaron              Aaron     Davis            aaron6348@gmail.com   \n",
      "acook            Anthony      Cook                 cook@gmail.com   \n",
      "adam.saunders       Adam  Saunders                 adam@gmail.com   \n",
      "adrian            Adrian      Fang  adrian.fang@teamtreehouse.com   \n",
      "adrian.blair      Adrian     Blair           adrian9335@gmail.com   \n",
      "\n",
      "               email_verified signup_date  referral_count  balance  \n",
      "aaron                    True  2018-08-31               6    18.14  \n",
      "acook                    True  2018-05-12               2    55.45  \n",
      "adam.saunders           False  2018-05-29               3    72.12  \n",
      "adrian                   True  2018-04-28               3    30.01  \n",
      "adrian.blair             True  2018-06-16               7    25.85  \n",
      "shape:  (475, 7) (998, 4)\n"
     ]
    }
   ],
   "source": [
    "# all other necessary imports are done in section 3\n",
    "import os\n",
    "\n",
    "transactions = pd.read_csv(os.path.join('thirdpartydata', 'transactions.csv'), index_col=0)\n",
    "users = pd.read_csv(os.path.join('thirdpartydata', 'users.csv'), index_col=0)  # for consistency with Treehouse version\n",
    "\n",
    "print( transactions.head() )\n",
    "print( users.head() )\n",
    "print( 'shape: ', users.shape, transactions.shape )"
   ]
  },
  {
   "cell_type": "markdown",
   "metadata": {},
   "source": [
    "<a id=\"6.1\"></a>\n",
    "### 6.1: Updating Records ###\n",
    "\n",
    "We can use `loc` to update one or more records. Examples:\n",
    "\n",
    "- single row label, e.g., `users.loc['wking', 'balance'] = 35.00` (sets the `balance`\n",
    "  value on the `wking` row to 35. Note this is equivalent to\n",
    "  `users.at['wking', 'balance'] = 35.00`\n",
    "- access a group of rows, e.g., `users.loc[users.referral_count < 3, 'balance'] = 0.00`\n",
    "  (we can use this approach to find a specific row when we don't know the row label and\n",
    "  change a single value, as in the example below)"
   ]
  },
  {
   "cell_type": "code",
   "execution_count": 45,
   "metadata": {},
   "outputs": [
    {
     "name": "stdout",
     "output_type": "stream",
     "text": [
      "       first_name last_name                          email  email_verified  \\\n",
      "adrian     Adrian      Fang  adrian.fang@teamtreehouse.com            True   \n",
      "\n",
      "       signup_date  referral_count  balance  \n",
      "adrian  2018-04-28               3    30.01  \n"
     ]
    },
    {
     "data": {
      "text/plain": [
       "first_name                               Adrian\n",
       "last_name                                  Fang\n",
       "email             adrian.fang@teamtreehouse.com\n",
       "email_verified                             True\n",
       "signup_date                          2018-04-28\n",
       "referral_count                                3\n",
       "balance                                      35\n",
       "Name: adrian, dtype: object"
      ]
     },
     "execution_count": 45,
     "metadata": {},
     "output_type": "execute_result"
    }
   ],
   "source": [
    "# first double-check that this first_name/last_name combination is unique\n",
    "print( users[(users.first_name == 'Adrian') & (users.last_name == 'Fang')] )\n",
    "\n",
    "# now access and amend the record using the first_name/last_name combination\n",
    "users.loc[(users.first_name == 'Adrian') & (users.last_name == 'Fang'), 'balance'] = 35.0\n",
    "users.loc['adrian']\n",
    "\n",
    "# If we had known ahead of time that the row label we wanted was 'adrian' we could have\n",
    "# just used the `.at` syntax"
   ]
  },
  {
   "cell_type": "markdown",
   "metadata": {},
   "source": [
    "<a id=\"6.2\"> </a>\n",
    "### 6.2: Adding Rows ###\n",
    "\n",
    "- using append\n",
    "  warning: append returns a new dataframe, it doesn't mutate the existing dataframe\n",
    "- using enlargement (assigning to a non-existent key)"
   ]
  },
  {
   "cell_type": "code",
   "execution_count": 46,
   "metadata": {},
   "outputs": [],
   "source": [
    "# Create a new record\n",
    "from datetime import datetime\n",
    "now = datetime.now().date()\n",
    "record = {\n",
    "    'sender': np.nan,\n",
    "    'receiver': 'adrian',\n",
    "    'amount': 4.99,\n",
    "    'sent_date': now\n",
    "}"
   ]
  },
  {
   "cell_type": "code",
   "execution_count": 47,
   "metadata": {},
   "outputs": [
    {
     "data": {
      "text/html": [
       "<div>\n",
       "<style scoped>\n",
       "    .dataframe tbody tr th:only-of-type {\n",
       "        vertical-align: middle;\n",
       "    }\n",
       "\n",
       "    .dataframe tbody tr th {\n",
       "        vertical-align: top;\n",
       "    }\n",
       "\n",
       "    .dataframe thead th {\n",
       "        text-align: right;\n",
       "    }\n",
       "</style>\n",
       "<table border=\"1\" class=\"dataframe\">\n",
       "  <thead>\n",
       "    <tr style=\"text-align: right;\">\n",
       "      <th></th>\n",
       "      <th>sender</th>\n",
       "      <th>receiver</th>\n",
       "      <th>amount</th>\n",
       "      <th>sent_date</th>\n",
       "    </tr>\n",
       "  </thead>\n",
       "  <tbody>\n",
       "    <tr>\n",
       "      <th>994</th>\n",
       "      <td>king3246</td>\n",
       "      <td>john</td>\n",
       "      <td>25.37</td>\n",
       "      <td>2018-09-25</td>\n",
       "    </tr>\n",
       "    <tr>\n",
       "      <th>995</th>\n",
       "      <td>shernandez</td>\n",
       "      <td>kristen1581</td>\n",
       "      <td>75.77</td>\n",
       "      <td>2018-09-25</td>\n",
       "    </tr>\n",
       "    <tr>\n",
       "      <th>996</th>\n",
       "      <td>leah6255</td>\n",
       "      <td>jholloway</td>\n",
       "      <td>63.62</td>\n",
       "      <td>2018-09-25</td>\n",
       "    </tr>\n",
       "    <tr>\n",
       "      <th>997</th>\n",
       "      <td>pamela</td>\n",
       "      <td>michelle4225</td>\n",
       "      <td>2.54</td>\n",
       "      <td>2018-09-25</td>\n",
       "    </tr>\n",
       "    <tr>\n",
       "      <th>998</th>\n",
       "      <td>NaN</td>\n",
       "      <td>adrian</td>\n",
       "      <td>4.99</td>\n",
       "      <td>2020-03-23</td>\n",
       "    </tr>\n",
       "  </tbody>\n",
       "</table>\n",
       "</div>"
      ],
      "text/plain": [
       "         sender      receiver  amount   sent_date\n",
       "994    king3246          john   25.37  2018-09-25\n",
       "995  shernandez   kristen1581   75.77  2018-09-25\n",
       "996    leah6255     jholloway   63.62  2018-09-25\n",
       "997      pamela  michelle4225    2.54  2018-09-25\n",
       "998         NaN        adrian    4.99  2020-03-23"
      ]
     },
     "execution_count": 47,
     "metadata": {},
     "output_type": "execute_result"
    }
   ],
   "source": [
    "# 6.2.1 Append\n",
    "# Use append to generate a new dataframe\n",
    "# `ignore_index` lets pandas generate a new index\n",
    "transactions.append(record, ignore_index=True).tail()"
   ]
  },
  {
   "cell_type": "code",
   "execution_count": 48,
   "metadata": {},
   "outputs": [
    {
     "data": {
      "text/html": [
       "<div>\n",
       "<style scoped>\n",
       "    .dataframe tbody tr th:only-of-type {\n",
       "        vertical-align: middle;\n",
       "    }\n",
       "\n",
       "    .dataframe tbody tr th {\n",
       "        vertical-align: top;\n",
       "    }\n",
       "\n",
       "    .dataframe thead th {\n",
       "        text-align: right;\n",
       "    }\n",
       "</style>\n",
       "<table border=\"1\" class=\"dataframe\">\n",
       "  <thead>\n",
       "    <tr style=\"text-align: right;\">\n",
       "      <th></th>\n",
       "      <th>sender</th>\n",
       "      <th>receiver</th>\n",
       "      <th>amount</th>\n",
       "      <th>sent_date</th>\n",
       "    </tr>\n",
       "  </thead>\n",
       "  <tbody>\n",
       "    <tr>\n",
       "      <th>994</th>\n",
       "      <td>king3246</td>\n",
       "      <td>john</td>\n",
       "      <td>25.37</td>\n",
       "      <td>2018-09-25</td>\n",
       "    </tr>\n",
       "    <tr>\n",
       "      <th>995</th>\n",
       "      <td>shernandez</td>\n",
       "      <td>kristen1581</td>\n",
       "      <td>75.77</td>\n",
       "      <td>2018-09-25</td>\n",
       "    </tr>\n",
       "    <tr>\n",
       "      <th>996</th>\n",
       "      <td>leah6255</td>\n",
       "      <td>jholloway</td>\n",
       "      <td>63.62</td>\n",
       "      <td>2018-09-25</td>\n",
       "    </tr>\n",
       "    <tr>\n",
       "      <th>997</th>\n",
       "      <td>pamela</td>\n",
       "      <td>michelle4225</td>\n",
       "      <td>2.54</td>\n",
       "      <td>2018-09-25</td>\n",
       "    </tr>\n",
       "    <tr>\n",
       "      <th>998</th>\n",
       "      <td>NaN</td>\n",
       "      <td>adrian</td>\n",
       "      <td>4.99</td>\n",
       "      <td>2020-03-23</td>\n",
       "    </tr>\n",
       "  </tbody>\n",
       "</table>\n",
       "</div>"
      ],
      "text/plain": [
       "         sender      receiver  amount   sent_date\n",
       "994    king3246          john   25.37  2018-09-25\n",
       "995  shernandez   kristen1581   75.77  2018-09-25\n",
       "996    leah6255     jholloway   63.62  2018-09-25\n",
       "997      pamela  michelle4225    2.54  2018-09-25\n",
       "998         NaN        adrian    4.99  2020-03-23"
      ]
     },
     "execution_count": 48,
     "metadata": {},
     "output_type": "execute_result"
    }
   ],
   "source": [
    "# 6.2.2 Enlargement\n",
    "\n",
    "# First we need to determine what the next available key is\n",
    "next_key = transactions.index.max() + 1\n",
    "\n",
    "# Now enlarge\n",
    "transactions.loc[next_key] = record\n",
    "\n",
    "# Verify it got added\n",
    "transactions.tail()"
   ]
  },
  {
   "cell_type": "code",
   "execution_count": 49,
   "metadata": {},
   "outputs": [
    {
     "data": {
      "text/html": [
       "<div>\n",
       "<style scoped>\n",
       "    .dataframe tbody tr th:only-of-type {\n",
       "        vertical-align: middle;\n",
       "    }\n",
       "\n",
       "    .dataframe tbody tr th {\n",
       "        vertical-align: top;\n",
       "    }\n",
       "\n",
       "    .dataframe thead th {\n",
       "        text-align: right;\n",
       "    }\n",
       "</style>\n",
       "<table border=\"1\" class=\"dataframe\">\n",
       "  <thead>\n",
       "    <tr style=\"text-align: right;\">\n",
       "      <th></th>\n",
       "      <th>sender</th>\n",
       "      <th>receiver</th>\n",
       "      <th>amount</th>\n",
       "      <th>sent_date</th>\n",
       "      <th>notes</th>\n",
       "    </tr>\n",
       "  </thead>\n",
       "  <tbody>\n",
       "    <tr>\n",
       "      <th>994</th>\n",
       "      <td>king3246</td>\n",
       "      <td>john</td>\n",
       "      <td>25.37</td>\n",
       "      <td>2018-09-25</td>\n",
       "      <td>NaN</td>\n",
       "    </tr>\n",
       "    <tr>\n",
       "      <th>995</th>\n",
       "      <td>shernandez</td>\n",
       "      <td>kristen1581</td>\n",
       "      <td>75.77</td>\n",
       "      <td>2018-09-25</td>\n",
       "      <td>NaN</td>\n",
       "    </tr>\n",
       "    <tr>\n",
       "      <th>996</th>\n",
       "      <td>leah6255</td>\n",
       "      <td>jholloway</td>\n",
       "      <td>63.62</td>\n",
       "      <td>2018-09-25</td>\n",
       "      <td>NaN</td>\n",
       "    </tr>\n",
       "    <tr>\n",
       "      <th>997</th>\n",
       "      <td>pamela</td>\n",
       "      <td>michelle4225</td>\n",
       "      <td>2.54</td>\n",
       "      <td>2018-09-25</td>\n",
       "      <td>NaN</td>\n",
       "    </tr>\n",
       "    <tr>\n",
       "      <th>998</th>\n",
       "      <td>NaN</td>\n",
       "      <td>adrian</td>\n",
       "      <td>4.99</td>\n",
       "      <td>2020-03-23</td>\n",
       "      <td>Adrian called support to report billing error</td>\n",
       "    </tr>\n",
       "  </tbody>\n",
       "</table>\n",
       "</div>"
      ],
      "text/plain": [
       "         sender      receiver  amount   sent_date  \\\n",
       "994    king3246          john   25.37  2018-09-25   \n",
       "995  shernandez   kristen1581   75.77  2018-09-25   \n",
       "996    leah6255     jholloway   63.62  2018-09-25   \n",
       "997      pamela  michelle4225    2.54  2018-09-25   \n",
       "998         NaN        adrian    4.99  2020-03-23   \n",
       "\n",
       "                                             notes  \n",
       "994                                            NaN  \n",
       "995                                            NaN  \n",
       "996                                            NaN  \n",
       "997                                            NaN  \n",
       "998  Adrian called support to report billing error  "
      ]
     },
     "execution_count": 49,
     "metadata": {},
     "output_type": "execute_result"
    }
   ],
   "source": [
    "# We can also use enlargement to add columns\n",
    "# Here we're adding a new column 'notes' and giving it a value for a particular record\n",
    "# (all other records will have that field set to NaN)\n",
    "latest_id = transactions.index.max()\n",
    "transactions.at[latest_id, 'notes'] = 'Adrian called support to report billing error'\n",
    "\n",
    "transactions.tail()"
   ]
  },
  {
   "cell_type": "code",
   "execution_count": 50,
   "metadata": {},
   "outputs": [
    {
     "data": {
      "text/html": [
       "<div>\n",
       "<style scoped>\n",
       "    .dataframe tbody tr th:only-of-type {\n",
       "        vertical-align: middle;\n",
       "    }\n",
       "\n",
       "    .dataframe tbody tr th {\n",
       "        vertical-align: top;\n",
       "    }\n",
       "\n",
       "    .dataframe thead th {\n",
       "        text-align: right;\n",
       "    }\n",
       "</style>\n",
       "<table border=\"1\" class=\"dataframe\">\n",
       "  <thead>\n",
       "    <tr style=\"text-align: right;\">\n",
       "      <th></th>\n",
       "      <th>sender</th>\n",
       "      <th>receiver</th>\n",
       "      <th>amount</th>\n",
       "      <th>sent_date</th>\n",
       "      <th>notes</th>\n",
       "      <th>large</th>\n",
       "    </tr>\n",
       "  </thead>\n",
       "  <tbody>\n",
       "    <tr>\n",
       "      <th>994</th>\n",
       "      <td>king3246</td>\n",
       "      <td>john</td>\n",
       "      <td>25.37</td>\n",
       "      <td>2018-09-25</td>\n",
       "      <td>NaN</td>\n",
       "      <td>False</td>\n",
       "    </tr>\n",
       "    <tr>\n",
       "      <th>995</th>\n",
       "      <td>shernandez</td>\n",
       "      <td>kristen1581</td>\n",
       "      <td>75.77</td>\n",
       "      <td>2018-09-25</td>\n",
       "      <td>NaN</td>\n",
       "      <td>True</td>\n",
       "    </tr>\n",
       "    <tr>\n",
       "      <th>996</th>\n",
       "      <td>leah6255</td>\n",
       "      <td>jholloway</td>\n",
       "      <td>63.62</td>\n",
       "      <td>2018-09-25</td>\n",
       "      <td>NaN</td>\n",
       "      <td>True</td>\n",
       "    </tr>\n",
       "    <tr>\n",
       "      <th>997</th>\n",
       "      <td>pamela</td>\n",
       "      <td>michelle4225</td>\n",
       "      <td>2.54</td>\n",
       "      <td>2018-09-25</td>\n",
       "      <td>NaN</td>\n",
       "      <td>False</td>\n",
       "    </tr>\n",
       "    <tr>\n",
       "      <th>998</th>\n",
       "      <td>NaN</td>\n",
       "      <td>adrian</td>\n",
       "      <td>4.99</td>\n",
       "      <td>2020-03-23</td>\n",
       "      <td>Adrian called support to report billing error</td>\n",
       "      <td>False</td>\n",
       "    </tr>\n",
       "  </tbody>\n",
       "</table>\n",
       "</div>"
      ],
      "text/plain": [
       "         sender      receiver  amount   sent_date  \\\n",
       "994    king3246          john   25.37  2018-09-25   \n",
       "995  shernandez   kristen1581   75.77  2018-09-25   \n",
       "996    leah6255     jholloway   63.62  2018-09-25   \n",
       "997      pamela  michelle4225    2.54  2018-09-25   \n",
       "998         NaN        adrian    4.99  2020-03-23   \n",
       "\n",
       "                                             notes  large  \n",
       "994                                            NaN  False  \n",
       "995                                            NaN   True  \n",
       "996                                            NaN   True  \n",
       "997                                            NaN  False  \n",
       "998  Adrian called support to report billing error  False  "
      ]
     },
     "execution_count": 50,
     "metadata": {},
     "output_type": "execute_result"
    }
   ],
   "source": [
    "# Another example\n",
    "transactions['large'] = transactions.amount > 50\n",
    "transactions.tail()"
   ]
  },
  {
   "cell_type": "markdown",
   "metadata": {},
   "source": [
    "<a id=\"6.3\"> </a>\n",
    "### 6.3: Renaming Rows/Columns ###"
   ]
  },
  {
   "cell_type": "code",
   "execution_count": 51,
   "metadata": {},
   "outputs": [
    {
     "name": "stdout",
     "output_type": "stream",
     "text": [
      "before: \n"
     ]
    },
    {
     "data": {
      "text/html": [
       "<div>\n",
       "<style scoped>\n",
       "    .dataframe tbody tr th:only-of-type {\n",
       "        vertical-align: middle;\n",
       "    }\n",
       "\n",
       "    .dataframe tbody tr th {\n",
       "        vertical-align: top;\n",
       "    }\n",
       "\n",
       "    .dataframe thead th {\n",
       "        text-align: right;\n",
       "    }\n",
       "</style>\n",
       "<table border=\"1\" class=\"dataframe\">\n",
       "  <thead>\n",
       "    <tr style=\"text-align: right;\">\n",
       "      <th></th>\n",
       "      <th>first_name</th>\n",
       "      <th>last_name</th>\n",
       "      <th>email</th>\n",
       "      <th>email_verified</th>\n",
       "      <th>signup_date</th>\n",
       "      <th>referral_count</th>\n",
       "      <th>balance</th>\n",
       "    </tr>\n",
       "  </thead>\n",
       "  <tbody>\n",
       "    <tr>\n",
       "      <th>young</th>\n",
       "      <td>Jessica</td>\n",
       "      <td>Young</td>\n",
       "      <td>jessica4028@yahoo.com</td>\n",
       "      <td>True</td>\n",
       "      <td>2018-07-17</td>\n",
       "      <td>4</td>\n",
       "      <td>75.39</td>\n",
       "    </tr>\n",
       "  </tbody>\n",
       "</table>\n",
       "</div>"
      ],
      "text/plain": [
       "      first_name last_name                  email  email_verified signup_date  \\\n",
       "young    Jessica     Young  jessica4028@yahoo.com            True  2018-07-17   \n",
       "\n",
       "       referral_count  balance  \n",
       "young               4    75.39  "
      ]
     },
     "execution_count": 51,
     "metadata": {},
     "output_type": "execute_result"
    }
   ],
   "source": [
    "# Row\n",
    "print('before: ')\n",
    "users.tail(2).head(1)"
   ]
  },
  {
   "cell_type": "code",
   "execution_count": 52,
   "metadata": {},
   "outputs": [
    {
     "name": "stdout",
     "output_type": "stream",
     "text": [
      "after: \n"
     ]
    },
    {
     "data": {
      "text/html": [
       "<div>\n",
       "<style scoped>\n",
       "    .dataframe tbody tr th:only-of-type {\n",
       "        vertical-align: middle;\n",
       "    }\n",
       "\n",
       "    .dataframe tbody tr th {\n",
       "        vertical-align: top;\n",
       "    }\n",
       "\n",
       "    .dataframe thead th {\n",
       "        text-align: right;\n",
       "    }\n",
       "</style>\n",
       "<table border=\"1\" class=\"dataframe\">\n",
       "  <thead>\n",
       "    <tr style=\"text-align: right;\">\n",
       "      <th></th>\n",
       "      <th>first_name</th>\n",
       "      <th>last_name</th>\n",
       "      <th>email</th>\n",
       "      <th>email_verified</th>\n",
       "      <th>signup_date</th>\n",
       "      <th>referral_count</th>\n",
       "      <th>balance</th>\n",
       "    </tr>\n",
       "  </thead>\n",
       "  <tbody>\n",
       "    <tr>\n",
       "      <th>young.jessica</th>\n",
       "      <td>Jessica</td>\n",
       "      <td>Young</td>\n",
       "      <td>jessica4028@yahoo.com</td>\n",
       "      <td>True</td>\n",
       "      <td>2018-07-17</td>\n",
       "      <td>4</td>\n",
       "      <td>75.39</td>\n",
       "    </tr>\n",
       "  </tbody>\n",
       "</table>\n",
       "</div>"
      ],
      "text/plain": [
       "              first_name last_name                  email  email_verified  \\\n",
       "young.jessica    Jessica     Young  jessica4028@yahoo.com            True   \n",
       "\n",
       "              signup_date  referral_count  balance  \n",
       "young.jessica  2018-07-17               4    75.39  "
      ]
     },
     "execution_count": 52,
     "metadata": {},
     "output_type": "execute_result"
    }
   ],
   "source": [
    "users.rename(index={'young': 'young.jessica'}, inplace=True)\n",
    "print('after: ')\n",
    "users.tail(2).head(1)"
   ]
  },
  {
   "cell_type": "code",
   "execution_count": 53,
   "metadata": {},
   "outputs": [
    {
     "data": {
      "text/html": [
       "<div>\n",
       "<style scoped>\n",
       "    .dataframe tbody tr th:only-of-type {\n",
       "        vertical-align: middle;\n",
       "    }\n",
       "\n",
       "    .dataframe tbody tr th {\n",
       "        vertical-align: top;\n",
       "    }\n",
       "\n",
       "    .dataframe thead th {\n",
       "        text-align: right;\n",
       "    }\n",
       "</style>\n",
       "<table border=\"1\" class=\"dataframe\">\n",
       "  <thead>\n",
       "    <tr style=\"text-align: right;\">\n",
       "      <th></th>\n",
       "      <th>sender</th>\n",
       "      <th>receiver</th>\n",
       "      <th>amount</th>\n",
       "      <th>sent_date</th>\n",
       "      <th>details</th>\n",
       "      <th>big_sender</th>\n",
       "    </tr>\n",
       "  </thead>\n",
       "  <tbody>\n",
       "    <tr>\n",
       "      <th>0</th>\n",
       "      <td>stein</td>\n",
       "      <td>smoyer</td>\n",
       "      <td>49.03</td>\n",
       "      <td>2018-01-24</td>\n",
       "      <td>NaN</td>\n",
       "      <td>False</td>\n",
       "    </tr>\n",
       "    <tr>\n",
       "      <th>1</th>\n",
       "      <td>holden4580</td>\n",
       "      <td>joshua.henry</td>\n",
       "      <td>34.64</td>\n",
       "      <td>2018-02-06</td>\n",
       "      <td>NaN</td>\n",
       "      <td>False</td>\n",
       "    </tr>\n",
       "    <tr>\n",
       "      <th>2</th>\n",
       "      <td>rose.eaton</td>\n",
       "      <td>emily.lewis</td>\n",
       "      <td>62.67</td>\n",
       "      <td>2018-02-15</td>\n",
       "      <td>NaN</td>\n",
       "      <td>True</td>\n",
       "    </tr>\n",
       "    <tr>\n",
       "      <th>3</th>\n",
       "      <td>lmoore</td>\n",
       "      <td>kallen</td>\n",
       "      <td>1.94</td>\n",
       "      <td>2018-03-05</td>\n",
       "      <td>NaN</td>\n",
       "      <td>False</td>\n",
       "    </tr>\n",
       "    <tr>\n",
       "      <th>4</th>\n",
       "      <td>scott3928</td>\n",
       "      <td>lmoore</td>\n",
       "      <td>27.82</td>\n",
       "      <td>2018-03-10</td>\n",
       "      <td>NaN</td>\n",
       "      <td>False</td>\n",
       "    </tr>\n",
       "  </tbody>\n",
       "</table>\n",
       "</div>"
      ],
      "text/plain": [
       "       sender      receiver  amount   sent_date details  big_sender\n",
       "0       stein        smoyer   49.03  2018-01-24     NaN       False\n",
       "1  holden4580  joshua.henry   34.64  2018-02-06     NaN       False\n",
       "2  rose.eaton   emily.lewis   62.67  2018-02-15     NaN        True\n",
       "3      lmoore        kallen    1.94  2018-03-05     NaN       False\n",
       "4   scott3928        lmoore   27.82  2018-03-10     NaN       False"
      ]
     },
     "execution_count": 53,
     "metadata": {},
     "output_type": "execute_result"
    }
   ],
   "source": [
    "# Column\n",
    "transactions.rename(columns={'large': 'big_sender', 'notes': 'details'}, inplace=True)\n",
    "transactions.head()"
   ]
  },
  {
   "cell_type": "markdown",
   "metadata": {},
   "source": [
    "<a id=\"6.4\"> </a>\n",
    "### 6.4: Deleting Rows/Columns ###\n",
    "\n",
    "Instead of slicing a DataFrame to exclude unwanted rows/columns, you might want to actually\n",
    "delete them"
   ]
  },
  {
   "cell_type": "code",
   "execution_count": 54,
   "metadata": {},
   "outputs": [
    {
     "name": "stdout",
     "output_type": "stream",
     "text": [
      "before:\n"
     ]
    },
    {
     "data": {
      "text/html": [
       "<div>\n",
       "<style scoped>\n",
       "    .dataframe tbody tr th:only-of-type {\n",
       "        vertical-align: middle;\n",
       "    }\n",
       "\n",
       "    .dataframe tbody tr th {\n",
       "        vertical-align: top;\n",
       "    }\n",
       "\n",
       "    .dataframe thead th {\n",
       "        text-align: right;\n",
       "    }\n",
       "</style>\n",
       "<table border=\"1\" class=\"dataframe\">\n",
       "  <thead>\n",
       "    <tr style=\"text-align: right;\">\n",
       "      <th></th>\n",
       "      <th>first_name</th>\n",
       "      <th>last_name</th>\n",
       "      <th>email</th>\n",
       "      <th>email_verified</th>\n",
       "      <th>signup_date</th>\n",
       "      <th>referral_count</th>\n",
       "      <th>balance</th>\n",
       "    </tr>\n",
       "  </thead>\n",
       "  <tbody>\n",
       "    <tr>\n",
       "      <th>wilson</th>\n",
       "      <td>Robert</td>\n",
       "      <td>Wilson</td>\n",
       "      <td>robert@yahoo.com</td>\n",
       "      <td>False</td>\n",
       "      <td>2018-05-16</td>\n",
       "      <td>5</td>\n",
       "      <td>59.75</td>\n",
       "    </tr>\n",
       "    <tr>\n",
       "      <th>wking</th>\n",
       "      <td>Wanda</td>\n",
       "      <td>King</td>\n",
       "      <td>wanda.king@holt.com</td>\n",
       "      <td>True</td>\n",
       "      <td>2018-06-01</td>\n",
       "      <td>2</td>\n",
       "      <td>67.08</td>\n",
       "    </tr>\n",
       "    <tr>\n",
       "      <th>wright3590</th>\n",
       "      <td>Jacqueline</td>\n",
       "      <td>Wright</td>\n",
       "      <td>jacqueline.wright@gonzalez.com</td>\n",
       "      <td>True</td>\n",
       "      <td>2018-02-08</td>\n",
       "      <td>6</td>\n",
       "      <td>18.48</td>\n",
       "    </tr>\n",
       "    <tr>\n",
       "      <th>young.jessica</th>\n",
       "      <td>Jessica</td>\n",
       "      <td>Young</td>\n",
       "      <td>jessica4028@yahoo.com</td>\n",
       "      <td>True</td>\n",
       "      <td>2018-07-17</td>\n",
       "      <td>4</td>\n",
       "      <td>75.39</td>\n",
       "    </tr>\n",
       "    <tr>\n",
       "      <th>zachary.neal</th>\n",
       "      <td>Zachary</td>\n",
       "      <td>Neal</td>\n",
       "      <td>zneal@gmail.com</td>\n",
       "      <td>True</td>\n",
       "      <td>2018-07-26</td>\n",
       "      <td>1</td>\n",
       "      <td>39.90</td>\n",
       "    </tr>\n",
       "  </tbody>\n",
       "</table>\n",
       "</div>"
      ],
      "text/plain": [
       "               first_name last_name                           email  \\\n",
       "wilson             Robert    Wilson                robert@yahoo.com   \n",
       "wking               Wanda      King             wanda.king@holt.com   \n",
       "wright3590     Jacqueline    Wright  jacqueline.wright@gonzalez.com   \n",
       "young.jessica     Jessica     Young           jessica4028@yahoo.com   \n",
       "zachary.neal      Zachary      Neal                 zneal@gmail.com   \n",
       "\n",
       "               email_verified signup_date  referral_count  balance  \n",
       "wilson                  False  2018-05-16               5    59.75  \n",
       "wking                    True  2018-06-01               2    67.08  \n",
       "wright3590               True  2018-02-08               6    18.48  \n",
       "young.jessica            True  2018-07-17               4    75.39  \n",
       "zachary.neal             True  2018-07-26               1    39.90  "
      ]
     },
     "execution_count": 54,
     "metadata": {},
     "output_type": "execute_result"
    }
   ],
   "source": [
    "# Rows\n",
    "print('before:')\n",
    "users.tail()"
   ]
  },
  {
   "cell_type": "code",
   "execution_count": 55,
   "metadata": {},
   "outputs": [
    {
     "data": {
      "text/html": [
       "<div>\n",
       "<style scoped>\n",
       "    .dataframe tbody tr th:only-of-type {\n",
       "        vertical-align: middle;\n",
       "    }\n",
       "\n",
       "    .dataframe tbody tr th {\n",
       "        vertical-align: top;\n",
       "    }\n",
       "\n",
       "    .dataframe thead th {\n",
       "        text-align: right;\n",
       "    }\n",
       "</style>\n",
       "<table border=\"1\" class=\"dataframe\">\n",
       "  <thead>\n",
       "    <tr style=\"text-align: right;\">\n",
       "      <th></th>\n",
       "      <th>first_name</th>\n",
       "      <th>last_name</th>\n",
       "      <th>email</th>\n",
       "      <th>email_verified</th>\n",
       "      <th>signup_date</th>\n",
       "      <th>referral_count</th>\n",
       "      <th>balance</th>\n",
       "    </tr>\n",
       "  </thead>\n",
       "  <tbody>\n",
       "    <tr>\n",
       "      <th>william6714</th>\n",
       "      <td>William</td>\n",
       "      <td>NaN</td>\n",
       "      <td>william5677@yahoo.com</td>\n",
       "      <td>True</td>\n",
       "      <td>2018-04-26</td>\n",
       "      <td>3</td>\n",
       "      <td>74.65</td>\n",
       "    </tr>\n",
       "    <tr>\n",
       "      <th>wilson</th>\n",
       "      <td>Robert</td>\n",
       "      <td>Wilson</td>\n",
       "      <td>robert@yahoo.com</td>\n",
       "      <td>False</td>\n",
       "      <td>2018-05-16</td>\n",
       "      <td>5</td>\n",
       "      <td>59.75</td>\n",
       "    </tr>\n",
       "    <tr>\n",
       "      <th>wking</th>\n",
       "      <td>Wanda</td>\n",
       "      <td>King</td>\n",
       "      <td>wanda.king@holt.com</td>\n",
       "      <td>True</td>\n",
       "      <td>2018-06-01</td>\n",
       "      <td>2</td>\n",
       "      <td>67.08</td>\n",
       "    </tr>\n",
       "    <tr>\n",
       "      <th>wright3590</th>\n",
       "      <td>Jacqueline</td>\n",
       "      <td>Wright</td>\n",
       "      <td>jacqueline.wright@gonzalez.com</td>\n",
       "      <td>True</td>\n",
       "      <td>2018-02-08</td>\n",
       "      <td>6</td>\n",
       "      <td>18.48</td>\n",
       "    </tr>\n",
       "    <tr>\n",
       "      <th>young.jessica</th>\n",
       "      <td>Jessica</td>\n",
       "      <td>Young</td>\n",
       "      <td>jessica4028@yahoo.com</td>\n",
       "      <td>True</td>\n",
       "      <td>2018-07-17</td>\n",
       "      <td>4</td>\n",
       "      <td>75.39</td>\n",
       "    </tr>\n",
       "  </tbody>\n",
       "</table>\n",
       "</div>"
      ],
      "text/plain": [
       "               first_name last_name                           email  \\\n",
       "william6714       William       NaN           william5677@yahoo.com   \n",
       "wilson             Robert    Wilson                robert@yahoo.com   \n",
       "wking               Wanda      King             wanda.king@holt.com   \n",
       "wright3590     Jacqueline    Wright  jacqueline.wright@gonzalez.com   \n",
       "young.jessica     Jessica     Young           jessica4028@yahoo.com   \n",
       "\n",
       "               email_verified signup_date  referral_count  balance  \n",
       "william6714              True  2018-04-26               3    74.65  \n",
       "wilson                  False  2018-05-16               5    59.75  \n",
       "wking                    True  2018-06-01               2    67.08  \n",
       "wright3590               True  2018-02-08               6    18.48  \n",
       "young.jessica            True  2018-07-17               4    75.39  "
      ]
     },
     "execution_count": 55,
     "metadata": {},
     "output_type": "execute_result"
    }
   ],
   "source": [
    "users.drop(index=['zachary.neal'], inplace=True)\n",
    "users.tail()"
   ]
  },
  {
   "cell_type": "code",
   "execution_count": 56,
   "metadata": {},
   "outputs": [
    {
     "data": {
      "text/html": [
       "<div>\n",
       "<style scoped>\n",
       "    .dataframe tbody tr th:only-of-type {\n",
       "        vertical-align: middle;\n",
       "    }\n",
       "\n",
       "    .dataframe tbody tr th {\n",
       "        vertical-align: top;\n",
       "    }\n",
       "\n",
       "    .dataframe thead th {\n",
       "        text-align: right;\n",
       "    }\n",
       "</style>\n",
       "<table border=\"1\" class=\"dataframe\">\n",
       "  <thead>\n",
       "    <tr style=\"text-align: right;\">\n",
       "      <th></th>\n",
       "      <th>first_name</th>\n",
       "      <th>last_name</th>\n",
       "      <th>email</th>\n",
       "      <th>email_verified</th>\n",
       "      <th>signup_date</th>\n",
       "      <th>referral_count</th>\n",
       "      <th>balance</th>\n",
       "    </tr>\n",
       "  </thead>\n",
       "  <tbody>\n",
       "    <tr>\n",
       "      <th>william2231</th>\n",
       "      <td>William</td>\n",
       "      <td>Douglas</td>\n",
       "      <td>douglas8813@yahoo.com</td>\n",
       "      <td>True</td>\n",
       "      <td>2018-05-19</td>\n",
       "      <td>4</td>\n",
       "      <td>85.32</td>\n",
       "    </tr>\n",
       "    <tr>\n",
       "      <th>william4588</th>\n",
       "      <td>William</td>\n",
       "      <td>Pittman</td>\n",
       "      <td>william.pittman@gmail.com</td>\n",
       "      <td>True</td>\n",
       "      <td>2018-04-11</td>\n",
       "      <td>2</td>\n",
       "      <td>2.04</td>\n",
       "    </tr>\n",
       "    <tr>\n",
       "      <th>william6714</th>\n",
       "      <td>William</td>\n",
       "      <td>NaN</td>\n",
       "      <td>william5677@yahoo.com</td>\n",
       "      <td>True</td>\n",
       "      <td>2018-04-26</td>\n",
       "      <td>3</td>\n",
       "      <td>74.65</td>\n",
       "    </tr>\n",
       "    <tr>\n",
       "      <th>wking</th>\n",
       "      <td>Wanda</td>\n",
       "      <td>King</td>\n",
       "      <td>wanda.king@holt.com</td>\n",
       "      <td>True</td>\n",
       "      <td>2018-06-01</td>\n",
       "      <td>2</td>\n",
       "      <td>67.08</td>\n",
       "    </tr>\n",
       "    <tr>\n",
       "      <th>young.jessica</th>\n",
       "      <td>Jessica</td>\n",
       "      <td>Young</td>\n",
       "      <td>jessica4028@yahoo.com</td>\n",
       "      <td>True</td>\n",
       "      <td>2018-07-17</td>\n",
       "      <td>4</td>\n",
       "      <td>75.39</td>\n",
       "    </tr>\n",
       "  </tbody>\n",
       "</table>\n",
       "</div>"
      ],
      "text/plain": [
       "              first_name last_name                      email  email_verified  \\\n",
       "william2231      William   Douglas      douglas8813@yahoo.com            True   \n",
       "william4588      William   Pittman  william.pittman@gmail.com            True   \n",
       "william6714      William       NaN      william5677@yahoo.com            True   \n",
       "wking              Wanda      King        wanda.king@holt.com            True   \n",
       "young.jessica    Jessica     Young      jessica4028@yahoo.com            True   \n",
       "\n",
       "              signup_date  referral_count  balance  \n",
       "william2231    2018-05-19               4    85.32  \n",
       "william4588    2018-04-11               2     2.04  \n",
       "william6714    2018-04-26               3    74.65  \n",
       "wking          2018-06-01               2    67.08  \n",
       "young.jessica  2018-07-17               4    75.39  "
      ]
     },
     "execution_count": 56,
     "metadata": {},
     "output_type": "execute_result"
    }
   ],
   "source": [
    "users.drop(index=['wright3590', 'wilson'], inplace=True)\n",
    "users.tail()"
   ]
  },
  {
   "cell_type": "code",
   "execution_count": 57,
   "metadata": {},
   "outputs": [
    {
     "data": {
      "text/html": [
       "<div>\n",
       "<style scoped>\n",
       "    .dataframe tbody tr th:only-of-type {\n",
       "        vertical-align: middle;\n",
       "    }\n",
       "\n",
       "    .dataframe tbody tr th {\n",
       "        vertical-align: top;\n",
       "    }\n",
       "\n",
       "    .dataframe thead th {\n",
       "        text-align: right;\n",
       "    }\n",
       "</style>\n",
       "<table border=\"1\" class=\"dataframe\">\n",
       "  <thead>\n",
       "    <tr style=\"text-align: right;\">\n",
       "      <th></th>\n",
       "      <th>sender</th>\n",
       "      <th>receiver</th>\n",
       "      <th>amount</th>\n",
       "      <th>sent_date</th>\n",
       "      <th>big_sender</th>\n",
       "    </tr>\n",
       "  </thead>\n",
       "  <tbody>\n",
       "    <tr>\n",
       "      <th>0</th>\n",
       "      <td>stein</td>\n",
       "      <td>smoyer</td>\n",
       "      <td>49.03</td>\n",
       "      <td>2018-01-24</td>\n",
       "      <td>False</td>\n",
       "    </tr>\n",
       "    <tr>\n",
       "      <th>1</th>\n",
       "      <td>holden4580</td>\n",
       "      <td>joshua.henry</td>\n",
       "      <td>34.64</td>\n",
       "      <td>2018-02-06</td>\n",
       "      <td>False</td>\n",
       "    </tr>\n",
       "    <tr>\n",
       "      <th>2</th>\n",
       "      <td>rose.eaton</td>\n",
       "      <td>emily.lewis</td>\n",
       "      <td>62.67</td>\n",
       "      <td>2018-02-15</td>\n",
       "      <td>True</td>\n",
       "    </tr>\n",
       "    <tr>\n",
       "      <th>3</th>\n",
       "      <td>lmoore</td>\n",
       "      <td>kallen</td>\n",
       "      <td>1.94</td>\n",
       "      <td>2018-03-05</td>\n",
       "      <td>False</td>\n",
       "    </tr>\n",
       "    <tr>\n",
       "      <th>4</th>\n",
       "      <td>scott3928</td>\n",
       "      <td>lmoore</td>\n",
       "      <td>27.82</td>\n",
       "      <td>2018-03-10</td>\n",
       "      <td>False</td>\n",
       "    </tr>\n",
       "  </tbody>\n",
       "</table>\n",
       "</div>"
      ],
      "text/plain": [
       "       sender      receiver  amount   sent_date  big_sender\n",
       "0       stein        smoyer   49.03  2018-01-24       False\n",
       "1  holden4580  joshua.henry   34.64  2018-02-06       False\n",
       "2  rose.eaton   emily.lewis   62.67  2018-02-15        True\n",
       "3      lmoore        kallen    1.94  2018-03-05       False\n",
       "4   scott3928        lmoore   27.82  2018-03-10       False"
      ]
     },
     "execution_count": 57,
     "metadata": {},
     "output_type": "execute_result"
    }
   ],
   "source": [
    "# Columns\n",
    "transactions.drop(columns=['details'], inplace=True)\n",
    "transactions.head()"
   ]
  },
  {
   "cell_type": "code",
   "execution_count": 58,
   "metadata": {},
   "outputs": [
    {
     "data": {
      "text/html": [
       "<div>\n",
       "<style scoped>\n",
       "    .dataframe tbody tr th:only-of-type {\n",
       "        vertical-align: middle;\n",
       "    }\n",
       "\n",
       "    .dataframe tbody tr th {\n",
       "        vertical-align: top;\n",
       "    }\n",
       "\n",
       "    .dataframe thead th {\n",
       "        text-align: right;\n",
       "    }\n",
       "</style>\n",
       "<table border=\"1\" class=\"dataframe\">\n",
       "  <thead>\n",
       "    <tr style=\"text-align: right;\">\n",
       "      <th></th>\n",
       "      <th>sender</th>\n",
       "      <th>receiver</th>\n",
       "      <th>amount</th>\n",
       "      <th>sent_date</th>\n",
       "    </tr>\n",
       "  </thead>\n",
       "  <tbody>\n",
       "    <tr>\n",
       "      <th>0</th>\n",
       "      <td>stein</td>\n",
       "      <td>smoyer</td>\n",
       "      <td>49.03</td>\n",
       "      <td>2018-01-24</td>\n",
       "    </tr>\n",
       "    <tr>\n",
       "      <th>1</th>\n",
       "      <td>holden4580</td>\n",
       "      <td>joshua.henry</td>\n",
       "      <td>34.64</td>\n",
       "      <td>2018-02-06</td>\n",
       "    </tr>\n",
       "    <tr>\n",
       "      <th>2</th>\n",
       "      <td>rose.eaton</td>\n",
       "      <td>emily.lewis</td>\n",
       "      <td>62.67</td>\n",
       "      <td>2018-02-15</td>\n",
       "    </tr>\n",
       "    <tr>\n",
       "      <th>3</th>\n",
       "      <td>lmoore</td>\n",
       "      <td>kallen</td>\n",
       "      <td>1.94</td>\n",
       "      <td>2018-03-05</td>\n",
       "    </tr>\n",
       "    <tr>\n",
       "      <th>4</th>\n",
       "      <td>scott3928</td>\n",
       "      <td>lmoore</td>\n",
       "      <td>27.82</td>\n",
       "      <td>2018-03-10</td>\n",
       "    </tr>\n",
       "  </tbody>\n",
       "</table>\n",
       "</div>"
      ],
      "text/plain": [
       "       sender      receiver  amount   sent_date\n",
       "0       stein        smoyer   49.03  2018-01-24\n",
       "1  holden4580  joshua.henry   34.64  2018-02-06\n",
       "2  rose.eaton   emily.lewis   62.67  2018-02-15\n",
       "3      lmoore        kallen    1.94  2018-03-05\n",
       "4   scott3928        lmoore   27.82  2018-03-10"
      ]
     },
     "execution_count": 58,
     "metadata": {},
     "output_type": "execute_result"
    }
   ],
   "source": [
    "transactions.drop(['big_sender'], axis='columns', inplace=True)\n",
    "transactions.head()"
   ]
  },
  {
   "cell_type": "markdown",
   "metadata": {},
   "source": [
    "<a id=\"7\"> </a>\n",
    "7: Combining Data\n",
    "------------------\n",
    "\n",
    "- [7.0: Summary Notes](#7.0)\n",
    "- [7.1: Scenario Setup](#7.1)\n",
    "- [7.2: Performing a Merge](#7.2)\n",
    "- [7.3: Gather Insights (type conversion, date math, sorting)](#7.3)\n",
    "- [7.4: Further Research (duplicated/missing data, etc)](#7.4)\n"
   ]
  },
  {
   "cell_type": "markdown",
   "metadata": {},
   "source": [
    "<a id=\"7.0\"> </a>\n",
    "### 7.0: Summary Notes ###\n",
    "- `merge()`: like a SQL JOIN\n"
   ]
  },
  {
   "cell_type": "markdown",
   "metadata": {},
   "source": [
    "<a id=\"7.1\"> </a>\n",
    "### 7.1: Scenario Setup ###\n"
   ]
  },
  {
   "cell_type": "code",
   "execution_count": 59,
   "metadata": {},
   "outputs": [],
   "source": [
    "requests = pd.read_csv(os.path.join('thirdpartydata', 'requests.csv'), index_col=0)\n",
    "requests.shape\n",
    "\n",
    "# rename headings so that the party and transaction direction is still clear when joined\n",
    "requests.rename(columns={'from_user': 'requester', 'to_user': 'requestee'}, inplace=True)\n",
    "transactions.rename(columns={'sender': 'funder', 'receiver': 'fundee'}, inplace=True)"
   ]
  },
  {
   "cell_type": "code",
   "execution_count": 60,
   "metadata": {},
   "outputs": [
    {
     "data": {
      "text/html": [
       "<div>\n",
       "<style scoped>\n",
       "    .dataframe tbody tr th:only-of-type {\n",
       "        vertical-align: middle;\n",
       "    }\n",
       "\n",
       "    .dataframe tbody tr th {\n",
       "        vertical-align: top;\n",
       "    }\n",
       "\n",
       "    .dataframe thead th {\n",
       "        text-align: right;\n",
       "    }\n",
       "</style>\n",
       "<table border=\"1\" class=\"dataframe\">\n",
       "  <thead>\n",
       "    <tr style=\"text-align: right;\">\n",
       "      <th></th>\n",
       "      <th>funder</th>\n",
       "      <th>fundee</th>\n",
       "      <th>amount</th>\n",
       "      <th>sent_date</th>\n",
       "    </tr>\n",
       "  </thead>\n",
       "  <tbody>\n",
       "    <tr>\n",
       "      <th>0</th>\n",
       "      <td>stein</td>\n",
       "      <td>smoyer</td>\n",
       "      <td>49.03</td>\n",
       "      <td>2018-01-24</td>\n",
       "    </tr>\n",
       "    <tr>\n",
       "      <th>1</th>\n",
       "      <td>holden4580</td>\n",
       "      <td>joshua.henry</td>\n",
       "      <td>34.64</td>\n",
       "      <td>2018-02-06</td>\n",
       "    </tr>\n",
       "  </tbody>\n",
       "</table>\n",
       "</div>"
      ],
      "text/plain": [
       "       funder        fundee  amount   sent_date\n",
       "0       stein        smoyer   49.03  2018-01-24\n",
       "1  holden4580  joshua.henry   34.64  2018-02-06"
      ]
     },
     "execution_count": 60,
     "metadata": {},
     "output_type": "execute_result"
    }
   ],
   "source": [
    "transactions.head(2)"
   ]
  },
  {
   "cell_type": "code",
   "execution_count": 61,
   "metadata": {},
   "outputs": [
    {
     "data": {
      "text/html": [
       "<div>\n",
       "<style scoped>\n",
       "    .dataframe tbody tr th:only-of-type {\n",
       "        vertical-align: middle;\n",
       "    }\n",
       "\n",
       "    .dataframe tbody tr th {\n",
       "        vertical-align: top;\n",
       "    }\n",
       "\n",
       "    .dataframe thead th {\n",
       "        text-align: right;\n",
       "    }\n",
       "</style>\n",
       "<table border=\"1\" class=\"dataframe\">\n",
       "  <thead>\n",
       "    <tr style=\"text-align: right;\">\n",
       "      <th></th>\n",
       "      <th>requester</th>\n",
       "      <th>requestee</th>\n",
       "      <th>amount</th>\n",
       "      <th>request_date</th>\n",
       "    </tr>\n",
       "  </thead>\n",
       "  <tbody>\n",
       "    <tr>\n",
       "      <th>0</th>\n",
       "      <td>chad.chen</td>\n",
       "      <td>paula7980</td>\n",
       "      <td>78.61</td>\n",
       "      <td>2018-02-12</td>\n",
       "    </tr>\n",
       "    <tr>\n",
       "      <th>1</th>\n",
       "      <td>kallen</td>\n",
       "      <td>lmoore</td>\n",
       "      <td>1.94</td>\n",
       "      <td>2018-02-23</td>\n",
       "    </tr>\n",
       "  </tbody>\n",
       "</table>\n",
       "</div>"
      ],
      "text/plain": [
       "   requester  requestee  amount request_date\n",
       "0  chad.chen  paula7980   78.61   2018-02-12\n",
       "1     kallen     lmoore    1.94   2018-02-23"
      ]
     },
     "execution_count": 61,
     "metadata": {},
     "output_type": "execute_result"
    }
   ],
   "source": [
    "requests.head(2)"
   ]
  },
  {
   "cell_type": "markdown",
   "metadata": {},
   "source": [
    "<a id=\"7.2\"> </a>\n",
    "### 7.2: Performing a Merge ###\n",
    "\n",
    "Suppose we want to see all requests that have a matching transaction based on the users and\n",
    "amounts involved."
   ]
  },
  {
   "cell_type": "code",
   "execution_count": 62,
   "metadata": {},
   "outputs": [
    {
     "data": {
      "text/html": [
       "<div>\n",
       "<style scoped>\n",
       "    .dataframe tbody tr th:only-of-type {\n",
       "        vertical-align: middle;\n",
       "    }\n",
       "\n",
       "    .dataframe tbody tr th {\n",
       "        vertical-align: top;\n",
       "    }\n",
       "\n",
       "    .dataframe thead th {\n",
       "        text-align: right;\n",
       "    }\n",
       "</style>\n",
       "<table border=\"1\" class=\"dataframe\">\n",
       "  <thead>\n",
       "    <tr style=\"text-align: right;\">\n",
       "      <th></th>\n",
       "      <th>requester</th>\n",
       "      <th>requestee</th>\n",
       "      <th>amount</th>\n",
       "      <th>request_date</th>\n",
       "      <th>funder</th>\n",
       "      <th>fundee</th>\n",
       "      <th>sent_date</th>\n",
       "    </tr>\n",
       "  </thead>\n",
       "  <tbody>\n",
       "    <tr>\n",
       "      <th>0</th>\n",
       "      <td>chad.chen</td>\n",
       "      <td>paula7980</td>\n",
       "      <td>78.61</td>\n",
       "      <td>2018-02-12</td>\n",
       "      <td>paula7980</td>\n",
       "      <td>chad.chen</td>\n",
       "      <td>2018-07-15</td>\n",
       "    </tr>\n",
       "    <tr>\n",
       "      <th>1</th>\n",
       "      <td>kallen</td>\n",
       "      <td>lmoore</td>\n",
       "      <td>1.94</td>\n",
       "      <td>2018-02-23</td>\n",
       "      <td>lmoore</td>\n",
       "      <td>kallen</td>\n",
       "      <td>2018-03-05</td>\n",
       "    </tr>\n",
       "    <tr>\n",
       "      <th>2</th>\n",
       "      <td>gregory.blackwell</td>\n",
       "      <td>rodriguez5768</td>\n",
       "      <td>30.57</td>\n",
       "      <td>2018-03-04</td>\n",
       "      <td>rodriguez5768</td>\n",
       "      <td>gregory.blackwell</td>\n",
       "      <td>2018-03-17</td>\n",
       "    </tr>\n",
       "    <tr>\n",
       "      <th>3</th>\n",
       "      <td>kristina.miller</td>\n",
       "      <td>john.hardy</td>\n",
       "      <td>77.05</td>\n",
       "      <td>2018-03-12</td>\n",
       "      <td>john.hardy</td>\n",
       "      <td>kristina.miller</td>\n",
       "      <td>2018-04-25</td>\n",
       "    </tr>\n",
       "    <tr>\n",
       "      <th>4</th>\n",
       "      <td>lacey8987</td>\n",
       "      <td>mcguire</td>\n",
       "      <td>54.09</td>\n",
       "      <td>2018-03-13</td>\n",
       "      <td>mcguire</td>\n",
       "      <td>lacey8987</td>\n",
       "      <td>2018-06-28</td>\n",
       "    </tr>\n",
       "  </tbody>\n",
       "</table>\n",
       "</div>"
      ],
      "text/plain": [
       "           requester      requestee  amount request_date         funder  \\\n",
       "0          chad.chen      paula7980   78.61   2018-02-12      paula7980   \n",
       "1             kallen         lmoore    1.94   2018-02-23         lmoore   \n",
       "2  gregory.blackwell  rodriguez5768   30.57   2018-03-04  rodriguez5768   \n",
       "3    kristina.miller     john.hardy   77.05   2018-03-12     john.hardy   \n",
       "4          lacey8987        mcguire   54.09   2018-03-13        mcguire   \n",
       "\n",
       "              fundee   sent_date  \n",
       "0          chad.chen  2018-07-15  \n",
       "1             kallen  2018-03-05  \n",
       "2  gregory.blackwell  2018-03-17  \n",
       "3    kristina.miller  2018-04-25  \n",
       "4          lacey8987  2018-06-28  "
      ]
     },
     "execution_count": 62,
     "metadata": {},
     "output_type": "execute_result"
    }
   ],
   "source": [
    "# Since we are merging `transactions` into `requests`, `requests` is the left side and\n",
    "# `transactions` is the right side.\n",
    "completed_requests = requests.merge(\n",
    "    transactions,\n",
    "    # Now we line up the columns that are being used to identify the join\n",
    "    left_on=['requester', 'requestee', 'amount'],\n",
    "    right_on=['fundee', 'funder', 'amount'],\n",
    ")\n",
    "completed_requests.head()"
   ]
  },
  {
   "cell_type": "markdown",
   "metadata": {},
   "source": [
    "<a id=\"7.3\"> </a>\n",
    "### 7.3: Gather Insights (type conversion, date math, sorting) ###\n",
    "\n",
    "Suppose we want to compare the request date and sent date. Right now, the dates are stored as \"object\" rather than date or datetime objects:"
   ]
  },
  {
   "cell_type": "code",
   "execution_count": 63,
   "metadata": {},
   "outputs": [
    {
     "data": {
      "text/plain": [
       "requester        object\n",
       "requestee        object\n",
       "amount          float64\n",
       "request_date     object\n",
       "funder           object\n",
       "fundee           object\n",
       "sent_date        object\n",
       "dtype: object"
      ]
     },
     "execution_count": 63,
     "metadata": {},
     "output_type": "execute_result"
    }
   ],
   "source": [
    "completed_requests.dtypes"
   ]
  },
  {
   "cell_type": "markdown",
   "metadata": {},
   "source": [
    "We can convert columns (which are just `Series`) on CSV import of when we need them by using the `pandas.to_datetime()` method. Here is an example of an approach:"
   ]
  },
  {
   "cell_type": "code",
   "execution_count": 64,
   "metadata": {},
   "outputs": [
    {
     "data": {
      "text/plain": [
       "requester               object\n",
       "requestee               object\n",
       "amount                 float64\n",
       "request_date    datetime64[ns]\n",
       "funder                  object\n",
       "fundee                  object\n",
       "sent_date       datetime64[ns]\n",
       "dtype: object"
      ]
     },
     "execution_count": 64,
     "metadata": {},
     "output_type": "execute_result"
    }
   ],
   "source": [
    "completed_requests['request_date'] = pd.to_datetime(completed_requests['request_date'])\n",
    "completed_requests['sent_date'] = pd.to_datetime(completed_requests['sent_date'])\n",
    "completed_requests.dtypes"
   ]
  },
  {
   "cell_type": "code",
   "execution_count": 65,
   "metadata": {},
   "outputs": [
    {
     "data": {
      "text/html": [
       "<div>\n",
       "<style scoped>\n",
       "    .dataframe tbody tr th:only-of-type {\n",
       "        vertical-align: middle;\n",
       "    }\n",
       "\n",
       "    .dataframe tbody tr th {\n",
       "        vertical-align: top;\n",
       "    }\n",
       "\n",
       "    .dataframe thead th {\n",
       "        text-align: right;\n",
       "    }\n",
       "</style>\n",
       "<table border=\"1\" class=\"dataframe\">\n",
       "  <thead>\n",
       "    <tr style=\"text-align: right;\">\n",
       "      <th></th>\n",
       "      <th>requester</th>\n",
       "      <th>requestee</th>\n",
       "      <th>amount</th>\n",
       "      <th>request_date</th>\n",
       "      <th>funder</th>\n",
       "      <th>fundee</th>\n",
       "      <th>sent_date</th>\n",
       "      <th>time_passed</th>\n",
       "    </tr>\n",
       "  </thead>\n",
       "  <tbody>\n",
       "    <tr>\n",
       "      <th>0</th>\n",
       "      <td>chad.chen</td>\n",
       "      <td>paula7980</td>\n",
       "      <td>78.61</td>\n",
       "      <td>2018-02-12</td>\n",
       "      <td>paula7980</td>\n",
       "      <td>chad.chen</td>\n",
       "      <td>2018-07-15</td>\n",
       "      <td>153 days</td>\n",
       "    </tr>\n",
       "    <tr>\n",
       "      <th>33</th>\n",
       "      <td>sthompson</td>\n",
       "      <td>andrade</td>\n",
       "      <td>14.07</td>\n",
       "      <td>2018-05-09</td>\n",
       "      <td>andrade</td>\n",
       "      <td>sthompson</td>\n",
       "      <td>2018-09-21</td>\n",
       "      <td>135 days</td>\n",
       "    </tr>\n",
       "    <tr>\n",
       "      <th>4</th>\n",
       "      <td>lacey8987</td>\n",
       "      <td>mcguire</td>\n",
       "      <td>54.09</td>\n",
       "      <td>2018-03-13</td>\n",
       "      <td>mcguire</td>\n",
       "      <td>lacey8987</td>\n",
       "      <td>2018-06-28</td>\n",
       "      <td>107 days</td>\n",
       "    </tr>\n",
       "    <tr>\n",
       "      <th>53</th>\n",
       "      <td>marcus.berry</td>\n",
       "      <td>melissa.mendoza</td>\n",
       "      <td>71.48</td>\n",
       "      <td>2018-05-31</td>\n",
       "      <td>melissa.mendoza</td>\n",
       "      <td>marcus.berry</td>\n",
       "      <td>2018-09-06</td>\n",
       "      <td>98 days</td>\n",
       "    </tr>\n",
       "    <tr>\n",
       "      <th>39</th>\n",
       "      <td>bishop</td>\n",
       "      <td>massey2102</td>\n",
       "      <td>18.27</td>\n",
       "      <td>2018-05-16</td>\n",
       "      <td>massey2102</td>\n",
       "      <td>bishop</td>\n",
       "      <td>2018-08-15</td>\n",
       "      <td>91 days</td>\n",
       "    </tr>\n",
       "  </tbody>\n",
       "</table>\n",
       "</div>"
      ],
      "text/plain": [
       "       requester        requestee  amount request_date           funder  \\\n",
       "0      chad.chen        paula7980   78.61   2018-02-12        paula7980   \n",
       "33     sthompson          andrade   14.07   2018-05-09          andrade   \n",
       "4      lacey8987          mcguire   54.09   2018-03-13          mcguire   \n",
       "53  marcus.berry  melissa.mendoza   71.48   2018-05-31  melissa.mendoza   \n",
       "39        bishop       massey2102   18.27   2018-05-16       massey2102   \n",
       "\n",
       "          fundee  sent_date time_passed  \n",
       "0      chad.chen 2018-07-15    153 days  \n",
       "33     sthompson 2018-09-21    135 days  \n",
       "4      lacey8987 2018-06-28    107 days  \n",
       "53  marcus.berry 2018-09-06     98 days  \n",
       "39        bishop 2018-08-15     91 days  "
      ]
     },
     "execution_count": 65,
     "metadata": {},
     "output_type": "execute_result"
    }
   ],
   "source": [
    "completed_requests['time_passed'] = completed_requests.sent_date - completed_requests.request_date\n",
    "completed_requests.sort_values(by=\"time_passed\", ascending=False).head()"
   ]
  },
  {
   "cell_type": "markdown",
   "metadata": {},
   "source": [
    "Let's see the total amount sent:"
   ]
  },
  {
   "cell_type": "code",
   "execution_count": 66,
   "metadata": {},
   "outputs": [
    {
     "data": {
      "text/plain": [
       "'$10,496.47 has passed through the request system in 214 transactions.'"
      ]
     },
     "execution_count": 66,
     "metadata": {},
     "output_type": "execute_result"
    }
   ],
   "source": [
    "f'${completed_requests.amount.sum():,.2f} has passed through the request system in {len(completed_requests)} transactions.'"
   ]
  },
  {
   "cell_type": "markdown",
   "metadata": {},
   "source": [
    "<a id=\"7.4\"> </a>\n",
    "### 7.4: Further Research (duplicated/missing data, etc) ###\n",
    "\n",
    "- [7.4.1: Duplicates](#7.4.1)\n",
    "- [7.4.2: Locating records not found in another DataFrame using `isin`](#7.4.2)\n",
    "- [7.4.3: Locating blanks](#7.4.3)"
   ]
  },
  {
   "cell_type": "markdown",
   "metadata": {},
   "source": [
    "<a id=\"7.4.1\"> </a>\n",
    "#### 7.4.1: Duplicates ####\n",
    "When we [performed our merge](#7.2), every amount sent that matched a request was combined. However, there are cases where had multiple requests made but only one was filled.\n",
    "\n",
    "For example, requester `austin486` made the same request of `shelly` twice on 2018-05-29, but\n",
    "`shelly` only filled the request once. But the merge operation only looks at whether some row in transactions matches the joining columns in requests. Thus the single transaction gets joined to both requests, making it look like the transaction was completed twice. Thus we have duplicated data in our merge:"
   ]
  },
  {
   "cell_type": "code",
   "execution_count": 70,
   "metadata": {},
   "outputs": [
    {
     "data": {
      "text/html": [
       "<div>\n",
       "<style scoped>\n",
       "    .dataframe tbody tr th:only-of-type {\n",
       "        vertical-align: middle;\n",
       "    }\n",
       "\n",
       "    .dataframe tbody tr th {\n",
       "        vertical-align: top;\n",
       "    }\n",
       "\n",
       "    .dataframe thead th {\n",
       "        text-align: right;\n",
       "    }\n",
       "</style>\n",
       "<table border=\"1\" class=\"dataframe\">\n",
       "  <thead>\n",
       "    <tr style=\"text-align: right;\">\n",
       "      <th></th>\n",
       "      <th>requester</th>\n",
       "      <th>requestee</th>\n",
       "      <th>amount</th>\n",
       "      <th>request_date</th>\n",
       "    </tr>\n",
       "  </thead>\n",
       "  <tbody>\n",
       "    <tr>\n",
       "      <th>58</th>\n",
       "      <td>austin486</td>\n",
       "      <td>shelly</td>\n",
       "      <td>11.24</td>\n",
       "      <td>2018-05-29</td>\n",
       "    </tr>\n",
       "    <tr>\n",
       "      <th>59</th>\n",
       "      <td>austin486</td>\n",
       "      <td>shelly</td>\n",
       "      <td>11.24</td>\n",
       "      <td>2018-05-29</td>\n",
       "    </tr>\n",
       "  </tbody>\n",
       "</table>\n",
       "</div>"
      ],
      "text/plain": [
       "    requester requestee  amount request_date\n",
       "58  austin486    shelly   11.24   2018-05-29\n",
       "59  austin486    shelly   11.24   2018-05-29"
      ]
     },
     "execution_count": 70,
     "metadata": {},
     "output_type": "execute_result"
    }
   ],
   "source": [
    "# requests\n",
    "requests[(requests.requester == 'austin486')\n",
    "       & (requests.requestee == 'shelly')\n",
    "       & (requests.request_date == '2018-05-29')]"
   ]
  },
  {
   "cell_type": "code",
   "execution_count": 72,
   "metadata": {},
   "outputs": [
    {
     "data": {
      "text/html": [
       "<div>\n",
       "<style scoped>\n",
       "    .dataframe tbody tr th:only-of-type {\n",
       "        vertical-align: middle;\n",
       "    }\n",
       "\n",
       "    .dataframe tbody tr th {\n",
       "        vertical-align: top;\n",
       "    }\n",
       "\n",
       "    .dataframe thead th {\n",
       "        text-align: right;\n",
       "    }\n",
       "</style>\n",
       "<table border=\"1\" class=\"dataframe\">\n",
       "  <thead>\n",
       "    <tr style=\"text-align: right;\">\n",
       "      <th></th>\n",
       "      <th>funder</th>\n",
       "      <th>fundee</th>\n",
       "      <th>amount</th>\n",
       "      <th>sent_date</th>\n",
       "    </tr>\n",
       "  </thead>\n",
       "  <tbody>\n",
       "    <tr>\n",
       "      <th>88</th>\n",
       "      <td>shelly</td>\n",
       "      <td>austin486</td>\n",
       "      <td>11.24</td>\n",
       "      <td>2018-05-29</td>\n",
       "    </tr>\n",
       "  </tbody>\n",
       "</table>\n",
       "</div>"
      ],
      "text/plain": [
       "    funder     fundee  amount   sent_date\n",
       "88  shelly  austin486   11.24  2018-05-29"
      ]
     },
     "execution_count": 72,
     "metadata": {},
     "output_type": "execute_result"
    }
   ],
   "source": [
    "# transactions\n",
    "transactions[(transactions.funder == 'shelly')\n",
    "           & (transactions.fundee == 'austin486')]"
   ]
  },
  {
   "cell_type": "code",
   "execution_count": 73,
   "metadata": {},
   "outputs": [
    {
     "data": {
      "text/html": [
       "<div>\n",
       "<style scoped>\n",
       "    .dataframe tbody tr th:only-of-type {\n",
       "        vertical-align: middle;\n",
       "    }\n",
       "\n",
       "    .dataframe tbody tr th {\n",
       "        vertical-align: top;\n",
       "    }\n",
       "\n",
       "    .dataframe thead th {\n",
       "        text-align: right;\n",
       "    }\n",
       "</style>\n",
       "<table border=\"1\" class=\"dataframe\">\n",
       "  <thead>\n",
       "    <tr style=\"text-align: right;\">\n",
       "      <th></th>\n",
       "      <th>requester</th>\n",
       "      <th>requestee</th>\n",
       "      <th>amount</th>\n",
       "      <th>request_date</th>\n",
       "      <th>funder</th>\n",
       "      <th>fundee</th>\n",
       "      <th>sent_date</th>\n",
       "      <th>time_passed</th>\n",
       "    </tr>\n",
       "  </thead>\n",
       "  <tbody>\n",
       "    <tr>\n",
       "      <th>47</th>\n",
       "      <td>austin486</td>\n",
       "      <td>shelly</td>\n",
       "      <td>11.24</td>\n",
       "      <td>2018-05-29</td>\n",
       "      <td>shelly</td>\n",
       "      <td>austin486</td>\n",
       "      <td>2018-05-29</td>\n",
       "      <td>0 days</td>\n",
       "    </tr>\n",
       "    <tr>\n",
       "      <th>48</th>\n",
       "      <td>austin486</td>\n",
       "      <td>shelly</td>\n",
       "      <td>11.24</td>\n",
       "      <td>2018-05-29</td>\n",
       "      <td>shelly</td>\n",
       "      <td>austin486</td>\n",
       "      <td>2018-05-29</td>\n",
       "      <td>0 days</td>\n",
       "    </tr>\n",
       "  </tbody>\n",
       "</table>\n",
       "</div>"
      ],
      "text/plain": [
       "    requester requestee  amount request_date  funder     fundee  sent_date  \\\n",
       "47  austin486    shelly   11.24   2018-05-29  shelly  austin486 2018-05-29   \n",
       "48  austin486    shelly   11.24   2018-05-29  shelly  austin486 2018-05-29   \n",
       "\n",
       "   time_passed  \n",
       "47      0 days  \n",
       "48      0 days  "
      ]
     },
     "execution_count": 73,
     "metadata": {},
     "output_type": "execute_result"
    }
   ],
   "source": [
    "# merge results, observe the duplicate\n",
    "completed_requests[(completed_requests.requester == 'austin486')\n",
    "                 & (completed_requests.funder == 'shelly')]"
   ]
  },
  {
   "cell_type": "code",
   "execution_count": 68,
   "metadata": {},
   "outputs": [
    {
     "data": {
      "text/html": [
       "<div>\n",
       "<style scoped>\n",
       "    .dataframe tbody tr th:only-of-type {\n",
       "        vertical-align: middle;\n",
       "    }\n",
       "\n",
       "    .dataframe tbody tr th {\n",
       "        vertical-align: top;\n",
       "    }\n",
       "\n",
       "    .dataframe thead th {\n",
       "        text-align: right;\n",
       "    }\n",
       "</style>\n",
       "<table border=\"1\" class=\"dataframe\">\n",
       "  <thead>\n",
       "    <tr style=\"text-align: right;\">\n",
       "      <th></th>\n",
       "      <th>requester</th>\n",
       "      <th>requestee</th>\n",
       "      <th>amount</th>\n",
       "      <th>request_date</th>\n",
       "    </tr>\n",
       "  </thead>\n",
       "  <tbody>\n",
       "    <tr>\n",
       "      <th>58</th>\n",
       "      <td>austin486</td>\n",
       "      <td>shelly</td>\n",
       "      <td>11.24</td>\n",
       "      <td>2018-05-29</td>\n",
       "    </tr>\n",
       "    <tr>\n",
       "      <th>59</th>\n",
       "      <td>austin486</td>\n",
       "      <td>shelly</td>\n",
       "      <td>11.24</td>\n",
       "      <td>2018-05-29</td>\n",
       "    </tr>\n",
       "    <tr>\n",
       "      <th>8</th>\n",
       "      <td>cjimenez</td>\n",
       "      <td>sarah.evans</td>\n",
       "      <td>48.14</td>\n",
       "      <td>2018-03-21</td>\n",
       "    </tr>\n",
       "    <tr>\n",
       "      <th>26</th>\n",
       "      <td>cjimenez</td>\n",
       "      <td>sarah.evans</td>\n",
       "      <td>48.14</td>\n",
       "      <td>2018-04-27</td>\n",
       "    </tr>\n",
       "    <tr>\n",
       "      <th>218</th>\n",
       "      <td>clark8139</td>\n",
       "      <td>moore</td>\n",
       "      <td>14.54</td>\n",
       "      <td>2018-08-31</td>\n",
       "    </tr>\n",
       "    <tr>\n",
       "      <th>240</th>\n",
       "      <td>clark8139</td>\n",
       "      <td>moore</td>\n",
       "      <td>14.54</td>\n",
       "      <td>2018-09-10</td>\n",
       "    </tr>\n",
       "    <tr>\n",
       "      <th>195</th>\n",
       "      <td>diane4652</td>\n",
       "      <td>dean2365</td>\n",
       "      <td>6.82</td>\n",
       "      <td>2018-08-21</td>\n",
       "    </tr>\n",
       "    <tr>\n",
       "      <th>224</th>\n",
       "      <td>diane4652</td>\n",
       "      <td>dean2365</td>\n",
       "      <td>6.82</td>\n",
       "      <td>2018-09-05</td>\n",
       "    </tr>\n",
       "    <tr>\n",
       "      <th>143</th>\n",
       "      <td>donna1922</td>\n",
       "      <td>danderson</td>\n",
       "      <td>79.22</td>\n",
       "      <td>2018-07-23</td>\n",
       "    </tr>\n",
       "    <tr>\n",
       "      <th>157</th>\n",
       "      <td>donna1922</td>\n",
       "      <td>danderson</td>\n",
       "      <td>79.22</td>\n",
       "      <td>2018-07-31</td>\n",
       "    </tr>\n",
       "    <tr>\n",
       "      <th>116</th>\n",
       "      <td>edwards8658</td>\n",
       "      <td>johnston2281</td>\n",
       "      <td>47.29</td>\n",
       "      <td>2018-07-10</td>\n",
       "    </tr>\n",
       "    <tr>\n",
       "      <th>127</th>\n",
       "      <td>edwards8658</td>\n",
       "      <td>johnston2281</td>\n",
       "      <td>47.29</td>\n",
       "      <td>2018-07-16</td>\n",
       "    </tr>\n",
       "    <tr>\n",
       "      <th>289</th>\n",
       "      <td>heather</td>\n",
       "      <td>smercer</td>\n",
       "      <td>98.13</td>\n",
       "      <td>2018-09-22</td>\n",
       "    </tr>\n",
       "    <tr>\n",
       "      <th>290</th>\n",
       "      <td>heather</td>\n",
       "      <td>smercer</td>\n",
       "      <td>98.13</td>\n",
       "      <td>2018-09-22</td>\n",
       "    </tr>\n",
       "    <tr>\n",
       "      <th>32</th>\n",
       "      <td>hoover4302</td>\n",
       "      <td>dennis</td>\n",
       "      <td>87.77</td>\n",
       "      <td>2018-05-04</td>\n",
       "    </tr>\n",
       "    <tr>\n",
       "      <th>33</th>\n",
       "      <td>hoover4302</td>\n",
       "      <td>dennis</td>\n",
       "      <td>87.77</td>\n",
       "      <td>2018-05-05</td>\n",
       "    </tr>\n",
       "    <tr>\n",
       "      <th>160</th>\n",
       "      <td>jcoleman</td>\n",
       "      <td>fuentes</td>\n",
       "      <td>40.48</td>\n",
       "      <td>2018-08-03</td>\n",
       "    </tr>\n",
       "    <tr>\n",
       "      <th>216</th>\n",
       "      <td>jcoleman</td>\n",
       "      <td>fuentes</td>\n",
       "      <td>40.48</td>\n",
       "      <td>2018-08-29</td>\n",
       "    </tr>\n",
       "    <tr>\n",
       "      <th>82</th>\n",
       "      <td>jones</td>\n",
       "      <td>jones5796</td>\n",
       "      <td>95.88</td>\n",
       "      <td>2018-06-21</td>\n",
       "    </tr>\n",
       "    <tr>\n",
       "      <th>95</th>\n",
       "      <td>jones</td>\n",
       "      <td>jones5796</td>\n",
       "      <td>95.88</td>\n",
       "      <td>2018-06-27</td>\n",
       "    </tr>\n",
       "    <tr>\n",
       "      <th>84</th>\n",
       "      <td>kimberly</td>\n",
       "      <td>wbrown</td>\n",
       "      <td>9.02</td>\n",
       "      <td>2018-06-24</td>\n",
       "    </tr>\n",
       "    <tr>\n",
       "      <th>101</th>\n",
       "      <td>kimberly</td>\n",
       "      <td>wbrown</td>\n",
       "      <td>9.02</td>\n",
       "      <td>2018-06-28</td>\n",
       "    </tr>\n",
       "    <tr>\n",
       "      <th>60</th>\n",
       "      <td>kirk</td>\n",
       "      <td>jason</td>\n",
       "      <td>36.53</td>\n",
       "      <td>2018-05-30</td>\n",
       "    </tr>\n",
       "    <tr>\n",
       "      <th>85</th>\n",
       "      <td>kirk</td>\n",
       "      <td>jason</td>\n",
       "      <td>36.53</td>\n",
       "      <td>2018-06-24</td>\n",
       "    </tr>\n",
       "    <tr>\n",
       "      <th>165</th>\n",
       "      <td>lawrence1685</td>\n",
       "      <td>joshua9690</td>\n",
       "      <td>99.96</td>\n",
       "      <td>2018-08-07</td>\n",
       "    </tr>\n",
       "    <tr>\n",
       "      <th>168</th>\n",
       "      <td>lawrence1685</td>\n",
       "      <td>joshua9690</td>\n",
       "      <td>99.96</td>\n",
       "      <td>2018-08-08</td>\n",
       "    </tr>\n",
       "    <tr>\n",
       "      <th>114</th>\n",
       "      <td>lspencer</td>\n",
       "      <td>sarah</td>\n",
       "      <td>44.89</td>\n",
       "      <td>2018-07-09</td>\n",
       "    </tr>\n",
       "    <tr>\n",
       "      <th>194</th>\n",
       "      <td>lspencer</td>\n",
       "      <td>sarah</td>\n",
       "      <td>44.89</td>\n",
       "      <td>2018-08-21</td>\n",
       "    </tr>\n",
       "    <tr>\n",
       "      <th>44</th>\n",
       "      <td>matthew7940</td>\n",
       "      <td>sherry6113</td>\n",
       "      <td>58.72</td>\n",
       "      <td>2018-05-13</td>\n",
       "    </tr>\n",
       "    <tr>\n",
       "      <th>108</th>\n",
       "      <td>matthew7940</td>\n",
       "      <td>sherry6113</td>\n",
       "      <td>58.72</td>\n",
       "      <td>2018-07-04</td>\n",
       "    </tr>\n",
       "    <tr>\n",
       "      <th>201</th>\n",
       "      <td>michael7792</td>\n",
       "      <td>jennifer</td>\n",
       "      <td>90.56</td>\n",
       "      <td>2018-08-23</td>\n",
       "    </tr>\n",
       "    <tr>\n",
       "      <th>241</th>\n",
       "      <td>michael7792</td>\n",
       "      <td>jennifer</td>\n",
       "      <td>90.56</td>\n",
       "      <td>2018-09-10</td>\n",
       "    </tr>\n",
       "    <tr>\n",
       "      <th>75</th>\n",
       "      <td>nicholas.travis</td>\n",
       "      <td>corey</td>\n",
       "      <td>73.25</td>\n",
       "      <td>2018-06-15</td>\n",
       "    </tr>\n",
       "    <tr>\n",
       "      <th>109</th>\n",
       "      <td>nicholas.travis</td>\n",
       "      <td>corey</td>\n",
       "      <td>73.25</td>\n",
       "      <td>2018-07-04</td>\n",
       "    </tr>\n",
       "    <tr>\n",
       "      <th>307</th>\n",
       "      <td>patricia</td>\n",
       "      <td>martha6969</td>\n",
       "      <td>87.33</td>\n",
       "      <td>2018-09-25</td>\n",
       "    </tr>\n",
       "    <tr>\n",
       "      <th>312</th>\n",
       "      <td>patricia</td>\n",
       "      <td>martha6969</td>\n",
       "      <td>87.33</td>\n",
       "      <td>2018-09-25</td>\n",
       "    </tr>\n",
       "    <tr>\n",
       "      <th>10</th>\n",
       "      <td>paula7980</td>\n",
       "      <td>mackenzie</td>\n",
       "      <td>56.00</td>\n",
       "      <td>2018-03-29</td>\n",
       "    </tr>\n",
       "    <tr>\n",
       "      <th>15</th>\n",
       "      <td>paula7980</td>\n",
       "      <td>mackenzie</td>\n",
       "      <td>56.00</td>\n",
       "      <td>2018-04-15</td>\n",
       "    </tr>\n",
       "    <tr>\n",
       "      <th>68</th>\n",
       "      <td>paula7980</td>\n",
       "      <td>mackenzie</td>\n",
       "      <td>56.00</td>\n",
       "      <td>2018-06-02</td>\n",
       "    </tr>\n",
       "    <tr>\n",
       "      <th>221</th>\n",
       "      <td>phillips5654</td>\n",
       "      <td>miguel.gamble</td>\n",
       "      <td>11.35</td>\n",
       "      <td>2018-09-01</td>\n",
       "    </tr>\n",
       "    <tr>\n",
       "      <th>260</th>\n",
       "      <td>phillips5654</td>\n",
       "      <td>miguel.gamble</td>\n",
       "      <td>11.35</td>\n",
       "      <td>2018-09-15</td>\n",
       "    </tr>\n",
       "    <tr>\n",
       "      <th>139</th>\n",
       "      <td>rebecca848</td>\n",
       "      <td>mpaul</td>\n",
       "      <td>1.34</td>\n",
       "      <td>2018-07-21</td>\n",
       "    </tr>\n",
       "    <tr>\n",
       "      <th>229</th>\n",
       "      <td>rebecca848</td>\n",
       "      <td>mpaul</td>\n",
       "      <td>1.34</td>\n",
       "      <td>2018-09-06</td>\n",
       "    </tr>\n",
       "    <tr>\n",
       "      <th>115</th>\n",
       "      <td>rodriguez9475</td>\n",
       "      <td>miller8552</td>\n",
       "      <td>25.89</td>\n",
       "      <td>2018-07-09</td>\n",
       "    </tr>\n",
       "    <tr>\n",
       "      <th>121</th>\n",
       "      <td>rodriguez9475</td>\n",
       "      <td>miller8552</td>\n",
       "      <td>25.89</td>\n",
       "      <td>2018-07-13</td>\n",
       "    </tr>\n",
       "  </tbody>\n",
       "</table>\n",
       "</div>"
      ],
      "text/plain": [
       "           requester      requestee  amount request_date\n",
       "58         austin486         shelly   11.24   2018-05-29\n",
       "59         austin486         shelly   11.24   2018-05-29\n",
       "8           cjimenez    sarah.evans   48.14   2018-03-21\n",
       "26          cjimenez    sarah.evans   48.14   2018-04-27\n",
       "218        clark8139          moore   14.54   2018-08-31\n",
       "240        clark8139          moore   14.54   2018-09-10\n",
       "195        diane4652       dean2365    6.82   2018-08-21\n",
       "224        diane4652       dean2365    6.82   2018-09-05\n",
       "143        donna1922      danderson   79.22   2018-07-23\n",
       "157        donna1922      danderson   79.22   2018-07-31\n",
       "116      edwards8658   johnston2281   47.29   2018-07-10\n",
       "127      edwards8658   johnston2281   47.29   2018-07-16\n",
       "289          heather        smercer   98.13   2018-09-22\n",
       "290          heather        smercer   98.13   2018-09-22\n",
       "32        hoover4302         dennis   87.77   2018-05-04\n",
       "33        hoover4302         dennis   87.77   2018-05-05\n",
       "160         jcoleman        fuentes   40.48   2018-08-03\n",
       "216         jcoleman        fuentes   40.48   2018-08-29\n",
       "82             jones      jones5796   95.88   2018-06-21\n",
       "95             jones      jones5796   95.88   2018-06-27\n",
       "84          kimberly         wbrown    9.02   2018-06-24\n",
       "101         kimberly         wbrown    9.02   2018-06-28\n",
       "60              kirk          jason   36.53   2018-05-30\n",
       "85              kirk          jason   36.53   2018-06-24\n",
       "165     lawrence1685     joshua9690   99.96   2018-08-07\n",
       "168     lawrence1685     joshua9690   99.96   2018-08-08\n",
       "114         lspencer          sarah   44.89   2018-07-09\n",
       "194         lspencer          sarah   44.89   2018-08-21\n",
       "44       matthew7940     sherry6113   58.72   2018-05-13\n",
       "108      matthew7940     sherry6113   58.72   2018-07-04\n",
       "201      michael7792       jennifer   90.56   2018-08-23\n",
       "241      michael7792       jennifer   90.56   2018-09-10\n",
       "75   nicholas.travis          corey   73.25   2018-06-15\n",
       "109  nicholas.travis          corey   73.25   2018-07-04\n",
       "307         patricia     martha6969   87.33   2018-09-25\n",
       "312         patricia     martha6969   87.33   2018-09-25\n",
       "10         paula7980      mackenzie   56.00   2018-03-29\n",
       "15         paula7980      mackenzie   56.00   2018-04-15\n",
       "68         paula7980      mackenzie   56.00   2018-06-02\n",
       "221     phillips5654  miguel.gamble   11.35   2018-09-01\n",
       "260     phillips5654  miguel.gamble   11.35   2018-09-15\n",
       "139       rebecca848          mpaul    1.34   2018-07-21\n",
       "229       rebecca848          mpaul    1.34   2018-09-06\n",
       "115    rodriguez9475     miller8552   25.89   2018-07-09\n",
       "121    rodriguez9475     miller8552   25.89   2018-07-13"
      ]
     },
     "execution_count": 68,
     "metadata": {},
     "output_type": "execute_result"
    }
   ],
   "source": [
    "# Summary of all duplicated results in the dataset\n",
    "# (here we are assuming that none of the requests were actually funded twice)\n",
    "\n",
    "# Create a boolean Series of records that are duplicates\n",
    "# (`keep=False` marks all that are duplicated)\n",
    "duplicate_mask = requests.duplicated(\n",
    "    ('requester', 'requestee', 'amount'), keep=False\n",
    ")\n",
    "dupes = requests[duplicate_mask]\n",
    "dupes.sort_values(['requester', 'request_date'])"
   ]
  },
  {
   "cell_type": "code",
   "execution_count": 77,
   "metadata": {},
   "outputs": [
    {
     "data": {
      "text/plain": [
       "'$9,316.12 has passed through the request system in 191 transactions.'"
      ]
     },
     "execution_count": 77,
     "metadata": {},
     "output_type": "execute_result"
    }
   ],
   "source": [
    "# We'll eliminate the duplicates by:\n",
    "# - sorting the completed_requests chronologically;\n",
    "# - dropping the duplicate matches, keeping only the last result for each duplicate\n",
    "completed_requests.sort_values('request_date', inplace=True)\n",
    "completed_requests.drop_duplicates(\n",
    "    ('requester', 'requestee', 'amount'),  # the set of columns that together identify a duplicate\n",
    "    keep='last',\n",
    "    inplace=True\n",
    ")\n",
    "f'${completed_requests.amount.sum():,.2f} has passed through the request system in {len(completed_requests)} transactions.'"
   ]
  },
  {
   "cell_type": "markdown",
   "metadata": {},
   "source": [
    "<a id=\"7.4.2\"> </a>\n",
    "#### 7.4.2: Locating records not found in another DataFrame using `isin` ####\n",
    "\n",
    "Suppose we want to locate all users who have not made any requests. We are asking each user from the `users` DataFrame if it is in the `requests` DataFrame as a `requester`.\n",
    "\n",
    "Note `isin` is available for `Series`, `DataFrame` and `Index`."
   ]
  },
  {
   "cell_type": "code",
   "execution_count": 79,
   "metadata": {},
   "outputs": [
    {
     "data": {
      "text/html": [
       "<div>\n",
       "<style scoped>\n",
       "    .dataframe tbody tr th:only-of-type {\n",
       "        vertical-align: middle;\n",
       "    }\n",
       "\n",
       "    .dataframe tbody tr th {\n",
       "        vertical-align: top;\n",
       "    }\n",
       "\n",
       "    .dataframe thead th {\n",
       "        text-align: right;\n",
       "    }\n",
       "</style>\n",
       "<table border=\"1\" class=\"dataframe\">\n",
       "  <thead>\n",
       "    <tr style=\"text-align: right;\">\n",
       "      <th></th>\n",
       "      <th>first_name</th>\n",
       "      <th>last_name</th>\n",
       "      <th>email</th>\n",
       "      <th>email_verified</th>\n",
       "      <th>signup_date</th>\n",
       "      <th>referral_count</th>\n",
       "      <th>balance</th>\n",
       "    </tr>\n",
       "  </thead>\n",
       "  <tbody>\n",
       "    <tr>\n",
       "      <th>alan9443</th>\n",
       "      <td>Alan</td>\n",
       "      <td>Pope</td>\n",
       "      <td>pope@hotmail.com</td>\n",
       "      <td>True</td>\n",
       "      <td>2018-04-17</td>\n",
       "      <td>0</td>\n",
       "      <td>56.09</td>\n",
       "    </tr>\n",
       "    <tr>\n",
       "      <th>alvarado</th>\n",
       "      <td>Denise</td>\n",
       "      <td>Alvarado</td>\n",
       "      <td>alvarado@hotmail.com</td>\n",
       "      <td>True</td>\n",
       "      <td>2018-09-07</td>\n",
       "      <td>6</td>\n",
       "      <td>26.72</td>\n",
       "    </tr>\n",
       "    <tr>\n",
       "      <th>amiller</th>\n",
       "      <td>Anne</td>\n",
       "      <td>Miller</td>\n",
       "      <td>miller@hotmail.com</td>\n",
       "      <td>False</td>\n",
       "      <td>2018-06-02</td>\n",
       "      <td>5</td>\n",
       "      <td>86.28</td>\n",
       "    </tr>\n",
       "    <tr>\n",
       "      <th>andersen</th>\n",
       "      <td>Mark</td>\n",
       "      <td>Andersen</td>\n",
       "      <td>mark.andersen@yahoo.com</td>\n",
       "      <td>True</td>\n",
       "      <td>2018-08-21</td>\n",
       "      <td>3</td>\n",
       "      <td>75.69</td>\n",
       "    </tr>\n",
       "    <tr>\n",
       "      <th>andrade</th>\n",
       "      <td>Melissa</td>\n",
       "      <td>Andrade</td>\n",
       "      <td>mandrade@yahoo.com</td>\n",
       "      <td>True</td>\n",
       "      <td>2018-01-06</td>\n",
       "      <td>3</td>\n",
       "      <td>83.22</td>\n",
       "    </tr>\n",
       "    <tr>\n",
       "      <th>...</th>\n",
       "      <td>...</td>\n",
       "      <td>...</td>\n",
       "      <td>...</td>\n",
       "      <td>...</td>\n",
       "      <td>...</td>\n",
       "      <td>...</td>\n",
       "      <td>...</td>\n",
       "    </tr>\n",
       "    <tr>\n",
       "      <th>william.lee</th>\n",
       "      <td>William</td>\n",
       "      <td>Lee</td>\n",
       "      <td>lee5646@yahoo.com</td>\n",
       "      <td>True</td>\n",
       "      <td>2018-05-30</td>\n",
       "      <td>3</td>\n",
       "      <td>67.65</td>\n",
       "    </tr>\n",
       "    <tr>\n",
       "      <th>william4588</th>\n",
       "      <td>William</td>\n",
       "      <td>Pittman</td>\n",
       "      <td>william.pittman@gmail.com</td>\n",
       "      <td>True</td>\n",
       "      <td>2018-04-11</td>\n",
       "      <td>2</td>\n",
       "      <td>2.04</td>\n",
       "    </tr>\n",
       "    <tr>\n",
       "      <th>william6714</th>\n",
       "      <td>William</td>\n",
       "      <td>NaN</td>\n",
       "      <td>william5677@yahoo.com</td>\n",
       "      <td>True</td>\n",
       "      <td>2018-04-26</td>\n",
       "      <td>3</td>\n",
       "      <td>74.65</td>\n",
       "    </tr>\n",
       "    <tr>\n",
       "      <th>wking</th>\n",
       "      <td>Wanda</td>\n",
       "      <td>King</td>\n",
       "      <td>wanda.king@holt.com</td>\n",
       "      <td>True</td>\n",
       "      <td>2018-06-01</td>\n",
       "      <td>2</td>\n",
       "      <td>67.08</td>\n",
       "    </tr>\n",
       "    <tr>\n",
       "      <th>young.jessica</th>\n",
       "      <td>Jessica</td>\n",
       "      <td>Young</td>\n",
       "      <td>jessica4028@yahoo.com</td>\n",
       "      <td>True</td>\n",
       "      <td>2018-07-17</td>\n",
       "      <td>4</td>\n",
       "      <td>75.39</td>\n",
       "    </tr>\n",
       "  </tbody>\n",
       "</table>\n",
       "<p>246 rows × 7 columns</p>\n",
       "</div>"
      ],
      "text/plain": [
       "              first_name last_name                      email  email_verified  \\\n",
       "alan9443            Alan      Pope           pope@hotmail.com            True   \n",
       "alvarado          Denise  Alvarado       alvarado@hotmail.com            True   \n",
       "amiller             Anne    Miller         miller@hotmail.com           False   \n",
       "andersen            Mark  Andersen    mark.andersen@yahoo.com            True   \n",
       "andrade          Melissa   Andrade         mandrade@yahoo.com            True   \n",
       "...                  ...       ...                        ...             ...   \n",
       "william.lee      William       Lee          lee5646@yahoo.com            True   \n",
       "william4588      William   Pittman  william.pittman@gmail.com            True   \n",
       "william6714      William       NaN      william5677@yahoo.com            True   \n",
       "wking              Wanda      King        wanda.king@holt.com            True   \n",
       "young.jessica    Jessica     Young      jessica4028@yahoo.com            True   \n",
       "\n",
       "              signup_date  referral_count  balance  \n",
       "alan9443       2018-04-17               0    56.09  \n",
       "alvarado       2018-09-07               6    26.72  \n",
       "amiller        2018-06-02               5    86.28  \n",
       "andersen       2018-08-21               3    75.69  \n",
       "andrade        2018-01-06               3    83.22  \n",
       "...                   ...             ...      ...  \n",
       "william.lee    2018-05-30               3    67.65  \n",
       "william4588    2018-04-11               2     2.04  \n",
       "william6714    2018-04-26               3    74.65  \n",
       "wking          2018-06-01               2    67.08  \n",
       "young.jessica  2018-07-17               4    75.39  \n",
       "\n",
       "[246 rows x 7 columns]"
      ]
     },
     "execution_count": 79,
     "metadata": {},
     "output_type": "execute_result"
    }
   ],
   "source": [
    "# Create a boolean array of whether a user (label on `users`) is in the `requester` Series\n",
    "made_request_mask = users.index.isin(requests.requester)\n",
    "# Thus users who have not made a request are:\n",
    "users[~made_request_mask]"
   ]
  },
  {
   "cell_type": "markdown",
   "metadata": {},
   "source": [
    "<a id=\"7.4.3\"> </a>\n",
    "#### 7.4.3: Locating blanks ####"
   ]
  },
  {
   "cell_type": "code",
   "execution_count": 81,
   "metadata": {},
   "outputs": [
    {
     "data": {
      "text/plain": [
       "first_name        472\n",
       "last_name         427\n",
       "email             472\n",
       "email_verified    472\n",
       "signup_date       472\n",
       "referral_count    472\n",
       "balance           472\n",
       "dtype: int64"
      ]
     },
     "execution_count": 81,
     "metadata": {},
     "output_type": "execute_result"
    }
   ],
   "source": [
    "# We can get a quick overview of how many blank values we have by using `DataFrame.count()`\n",
    "users.count()"
   ]
  },
  {
   "cell_type": "code",
   "execution_count": 83,
   "metadata": {},
   "outputs": [
    {
     "data": {
      "text/html": [
       "<div>\n",
       "<style scoped>\n",
       "    .dataframe tbody tr th:only-of-type {\n",
       "        vertical-align: middle;\n",
       "    }\n",
       "\n",
       "    .dataframe tbody tr th {\n",
       "        vertical-align: top;\n",
       "    }\n",
       "\n",
       "    .dataframe thead th {\n",
       "        text-align: right;\n",
       "    }\n",
       "</style>\n",
       "<table border=\"1\" class=\"dataframe\">\n",
       "  <thead>\n",
       "    <tr style=\"text-align: right;\">\n",
       "      <th></th>\n",
       "      <th>first_name</th>\n",
       "      <th>last_name</th>\n",
       "      <th>email</th>\n",
       "      <th>email_verified</th>\n",
       "      <th>signup_date</th>\n",
       "      <th>referral_count</th>\n",
       "      <th>balance</th>\n",
       "    </tr>\n",
       "  </thead>\n",
       "  <tbody>\n",
       "    <tr>\n",
       "      <th>anthony3761</th>\n",
       "      <td>Anthony</td>\n",
       "      <td>NaN</td>\n",
       "      <td>anthony9581@gmail.com</td>\n",
       "      <td>True</td>\n",
       "      <td>2018-08-16</td>\n",
       "      <td>6</td>\n",
       "      <td>59.81</td>\n",
       "    </tr>\n",
       "    <tr>\n",
       "      <th>bradley</th>\n",
       "      <td>Bradley</td>\n",
       "      <td>NaN</td>\n",
       "      <td>bradley3941@henderson.com</td>\n",
       "      <td>True</td>\n",
       "      <td>2018-06-24</td>\n",
       "      <td>4</td>\n",
       "      <td>22.24</td>\n",
       "    </tr>\n",
       "    <tr>\n",
       "      <th>bradley7808</th>\n",
       "      <td>Bradley</td>\n",
       "      <td>NaN</td>\n",
       "      <td>bradley8794@yahoo.com</td>\n",
       "      <td>True</td>\n",
       "      <td>2018-06-15</td>\n",
       "      <td>1</td>\n",
       "      <td>76.49</td>\n",
       "    </tr>\n",
       "    <tr>\n",
       "      <th>brenda</th>\n",
       "      <td>Brenda</td>\n",
       "      <td>NaN</td>\n",
       "      <td>brenda@hotmail.com</td>\n",
       "      <td>True</td>\n",
       "      <td>2018-07-28</td>\n",
       "      <td>7</td>\n",
       "      <td>6.18</td>\n",
       "    </tr>\n",
       "    <tr>\n",
       "      <th>brooke2027</th>\n",
       "      <td>Brooke</td>\n",
       "      <td>NaN</td>\n",
       "      <td>brooke6938@gmail.com</td>\n",
       "      <td>False</td>\n",
       "      <td>2018-05-23</td>\n",
       "      <td>0</td>\n",
       "      <td>7.22</td>\n",
       "    </tr>\n",
       "  </tbody>\n",
       "</table>\n",
       "</div>"
      ],
      "text/plain": [
       "            first_name last_name                      email  email_verified  \\\n",
       "anthony3761    Anthony       NaN      anthony9581@gmail.com            True   \n",
       "bradley        Bradley       NaN  bradley3941@henderson.com            True   \n",
       "bradley7808    Bradley       NaN      bradley8794@yahoo.com            True   \n",
       "brenda          Brenda       NaN         brenda@hotmail.com            True   \n",
       "brooke2027      Brooke       NaN       brooke6938@gmail.com           False   \n",
       "\n",
       "            signup_date  referral_count  balance  \n",
       "anthony3761  2018-08-16               6    59.81  \n",
       "bradley      2018-06-24               4    22.24  \n",
       "bradley7808  2018-06-15               1    76.49  \n",
       "brenda       2018-07-28               7     6.18  \n",
       "brooke2027   2018-05-23               0     7.22  "
      ]
     },
     "execution_count": 83,
     "metadata": {},
     "output_type": "execute_result"
    }
   ],
   "source": [
    "# We can use `Series.isna` to check for missing values such as None or np.nan\n",
    "users[users.last_name.isna()].head()"
   ]
  },
  {
   "cell_type": "code",
   "execution_count": 86,
   "metadata": {},
   "outputs": [
    {
     "data": {
      "text/html": [
       "<div>\n",
       "<style scoped>\n",
       "    .dataframe tbody tr th:only-of-type {\n",
       "        vertical-align: middle;\n",
       "    }\n",
       "\n",
       "    .dataframe tbody tr th {\n",
       "        vertical-align: top;\n",
       "    }\n",
       "\n",
       "    .dataframe thead th {\n",
       "        text-align: right;\n",
       "    }\n",
       "</style>\n",
       "<table border=\"1\" class=\"dataframe\">\n",
       "  <thead>\n",
       "    <tr style=\"text-align: right;\">\n",
       "      <th></th>\n",
       "      <th>first_name</th>\n",
       "      <th>last_name</th>\n",
       "      <th>email</th>\n",
       "      <th>email_verified</th>\n",
       "      <th>signup_date</th>\n",
       "      <th>referral_count</th>\n",
       "      <th>balance</th>\n",
       "    </tr>\n",
       "  </thead>\n",
       "  <tbody>\n",
       "  </tbody>\n",
       "</table>\n",
       "</div>"
      ],
      "text/plain": [
       "Empty DataFrame\n",
       "Columns: [first_name, last_name, email, email_verified, signup_date, referral_count, balance]\n",
       "Index: []"
      ]
     },
     "execution_count": 86,
     "metadata": {},
     "output_type": "execute_result"
    }
   ],
   "source": [
    "# can use `fillna()` to replace all unknown values with a specified value. By default it\n",
    "# returns a new DataFrame but we can use `inplace` to mutate the existing DataFrame\n",
    "users_with_unknown = users.fillna('Unknown')\n",
    "users_with_unknown[users_with_unknown.last_name.isna()].head()"
   ]
  },
  {
   "cell_type": "code",
   "execution_count": 87,
   "metadata": {},
   "outputs": [
    {
     "data": {
      "text/plain": [
       "(472, 427)"
      ]
     },
     "execution_count": 87,
     "metadata": {},
     "output_type": "execute_result"
    }
   ],
   "source": [
    "# Alternatively we can just drop rows that have missing data, again we can use `inplace` to \n",
    "# mutate a DataFrame\n",
    "users_with_last_names = users.dropna()\n",
    "\n",
    "(len(users), len(users_with_last_names))"
   ]
  },
  {
   "cell_type": "code",
   "execution_count": null,
   "metadata": {},
   "outputs": [],
   "source": []
  }
 ],
 "metadata": {
  "kernelspec": {
   "display_name": "Python 3",
   "language": "python",
   "name": "python3"
  },
  "language_info": {
   "codemirror_mode": {
    "name": "ipython",
    "version": 3
   },
   "file_extension": ".py",
   "mimetype": "text/x-python",
   "name": "python",
   "nbconvert_exporter": "python",
   "pygments_lexer": "ipython3",
   "version": "3.7.7"
  }
 },
 "nbformat": 4,
 "nbformat_minor": 4
}
