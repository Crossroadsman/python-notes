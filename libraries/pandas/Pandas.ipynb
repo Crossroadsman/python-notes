{
 "cells": [
  {
   "cell_type": "markdown",
   "metadata": {},
   "source": [
    "Pandas\n",
    "======\n",
    "\n",
    "<a id=\"1\"></a>\n",
    "1: Index\n",
    "---------\n",
    "\n",
    "- [1: Index](#1)\n",
    "- [2: Summary](#2)\n",
    "- [3: Series](#3)\n",
    "- [4: DataFrames](#4)\n",
    "- [5: CSV](#5)\n",
    "\n",
    "<a id=\"2\"></a>\n",
    "2: Summary\n",
    "----------\n",
    "\n",
    "- Pandas is built on top of numpy\n",
    "- It allows more sophisticated *Series* (like a dict) \n",
    "  and *Data Frame* (like a table) objects\n",
    "- the datatype of the contained data is a NumPy.Scalar (e.g., float64)"
   ]
  },
  {
   "cell_type": "markdown",
   "metadata": {},
   "source": [
    "<a id=\"3\"></a>\n",
    "3: Series\n",
    "----------"
   ]
  },
  {
   "cell_type": "code",
   "execution_count": 1,
   "metadata": {},
   "outputs": [],
   "source": [
    "import numpy as np\n",
    "import pandas as pd"
   ]
  },
  {
   "cell_type": "markdown",
   "metadata": {},
   "source": [
    "### 3.1: Create from a dict ###\n",
    "\n",
    "- Use the `Series` constructor (accepts any dict-like object)\n",
    "- Can also take a data iterable (plus an optional same-length iterable\n",
    "  representing data labels)"
   ]
  },
  {
   "cell_type": "code",
   "execution_count": 2,
   "metadata": {},
   "outputs": [
    {
     "data": {
      "text/plain": [
       "alice    20.00\n",
       "bob      20.18\n",
       "carol     1.05\n",
       "dan      42.42\n",
       "dtype: float64"
      ]
     },
     "execution_count": 2,
     "metadata": {},
     "output_type": "execute_result"
    }
   ],
   "source": [
    "test_balance_data = {\n",
    "    'alice': 20.00,\n",
    "    'bob': 20.18,\n",
    "    'carol': 1.05,\n",
    "    'dan': 42.42,\n",
    "}\n",
    "balances = pd.Series(test_balance_data)\n",
    "balances"
   ]
  },
  {
   "cell_type": "code",
   "execution_count": 3,
   "metadata": {},
   "outputs": [
    {
     "data": {
      "text/plain": [
       "0    20.00\n",
       "1    20.18\n",
       "2     1.05\n",
       "3    42.42\n",
       "dtype: float64"
      ]
     },
     "execution_count": 3,
     "metadata": {},
     "output_type": "execute_result"
    }
   ],
   "source": [
    "values = list(test_balance_data.values())\n",
    "unlabeled_balances = pd.Series(values)\n",
    "unlabeled_balances"
   ]
  },
  {
   "cell_type": "code",
   "execution_count": 4,
   "metadata": {},
   "outputs": [
    {
     "data": {
      "text/plain": [
       "alice    20.00\n",
       "bob      20.18\n",
       "carol     1.05\n",
       "dan      42.42\n",
       "dtype: float64"
      ]
     },
     "execution_count": 4,
     "metadata": {},
     "output_type": "execute_result"
    }
   ],
   "source": [
    "labels = list(test_balance_data.keys())\n",
    "unlabeled_balances = pd.Series(values, index=labels)\n",
    "unlabeled_balances"
   ]
  },
  {
   "cell_type": "markdown",
   "metadata": {},
   "source": [
    "### 3.2: Accessing Data ###\n",
    "\n",
    "- by index (aka `.iloc`)\n",
    "- by label (if labelled) (aka `.loc`)\n",
    "- like a dict (`.items()`, `.keys()`) **but note `.values` \n",
    "  NOT `.values()`**\n",
    "- with dot notation (as long as label meets variable naming constraints)\n",
    "- by slice (but note slicing with labels is inclusive)"
   ]
  },
  {
   "cell_type": "code",
   "execution_count": 5,
   "metadata": {},
   "outputs": [],
   "source": [
    "# Optional import to use markdown-formatted output\n",
    "from IPython.display import display, Markdown\n",
    "\n",
    "def render(md):\n",
    "    return display(Markdown(md))"
   ]
  },
  {
   "cell_type": "code",
   "execution_count": 6,
   "metadata": {},
   "outputs": [
    {
     "name": "stdout",
     "output_type": "stream",
     "text": [
      "20.0\n",
      "<class 'numpy.float64'>\n",
      "42.42\n",
      "20.0\n"
     ]
    }
   ],
   "source": [
    "print( balances[0] )\n",
    "print( type(balances[0]) )\n",
    "print( balances[-1] )\n",
    "print( balances.iloc[0] )"
   ]
  },
  {
   "cell_type": "code",
   "execution_count": 7,
   "metadata": {},
   "outputs": [
    {
     "name": "stdout",
     "output_type": "stream",
     "text": [
      "20.0\n",
      "42.42\n",
      "20.0\n"
     ]
    }
   ],
   "source": [
    "print( balances['alice'] )\n",
    "print( balances['dan'] )\n",
    "print( balances.loc['alice'] )"
   ]
  },
  {
   "cell_type": "code",
   "execution_count": 8,
   "metadata": {},
   "outputs": [
    {
     "name": "stdout",
     "output_type": "stream",
     "text": [
      "The label alice has a value of 20.0\n",
      "The label bob has a value of 20.18\n",
      "The label carol has a value of 1.05\n",
      "The label dan has a value of 42.42\n"
     ]
    }
   ],
   "source": [
    "for label, value in balances.items():\n",
    "    print(f'The label {label} has a value of {value}')"
   ]
  },
  {
   "cell_type": "code",
   "execution_count": 9,
   "metadata": {},
   "outputs": [
    {
     "name": "stdout",
     "output_type": "stream",
     "text": [
      "Index(['alice', 'bob', 'carol', 'dan'], dtype='object')\n",
      "[20.   20.18  1.05 42.42]\n"
     ]
    }
   ],
   "source": [
    "print( balances.keys() )\n",
    "print( balances.values )  # .values NOT .values()"
   ]
  },
  {
   "cell_type": "code",
   "execution_count": 10,
   "metadata": {},
   "outputs": [
    {
     "data": {
      "text/markdown": [
       "Accessing a non-existent key raises `KeyError`"
      ],
      "text/plain": [
       "<IPython.core.display.Markdown object>"
      ]
     },
     "metadata": {},
     "output_type": "display_data"
    }
   ],
   "source": [
    "try:\n",
    "    balances['bmo']\n",
    "except KeyError:\n",
    "    render('Accessing a non-existent key raises `KeyError`')"
   ]
  },
  {
   "cell_type": "code",
   "execution_count": 11,
   "metadata": {},
   "outputs": [
    {
     "name": "stdout",
     "output_type": "stream",
     "text": [
      "Use `in` to test the existence of a label\n"
     ]
    }
   ],
   "source": [
    "if 'bmo' not in balances:\n",
    "    print(\"Use `in` to test the existence of a label\")"
   ]
  },
  {
   "cell_type": "code",
   "execution_count": 12,
   "metadata": {},
   "outputs": [
    {
     "data": {
      "text/plain": [
       "20.0"
      ]
     },
     "execution_count": 12,
     "metadata": {},
     "output_type": "execute_result"
    }
   ],
   "source": [
    "balances.alice"
   ]
  },
  {
   "cell_type": "code",
   "execution_count": 13,
   "metadata": {},
   "outputs": [
    {
     "data": {
      "text/plain": [
       "alice    20.00\n",
       "bob      20.18\n",
       "carol     1.05\n",
       "dtype: float64"
      ]
     },
     "execution_count": 13,
     "metadata": {},
     "output_type": "execute_result"
    }
   ],
   "source": [
    "# Slicing by index excludes the end value\n",
    "balances.iloc[0:3]  # items 0, 1, 2"
   ]
  },
  {
   "cell_type": "code",
   "execution_count": 14,
   "metadata": {},
   "outputs": [
    {
     "data": {
      "text/plain": [
       "alice    20.00\n",
       "bob      20.18\n",
       "carol     1.05\n",
       "dan      42.42\n",
       "dtype: float64"
      ]
     },
     "execution_count": 14,
     "metadata": {},
     "output_type": "execute_result"
    }
   ],
   "source": [
    "# Slicing by values includes the end value\n",
    "balances.loc['alice':'dan']"
   ]
  },
  {
   "cell_type": "code",
   "execution_count": 15,
   "metadata": {},
   "outputs": [
    {
     "name": "stdout",
     "output_type": "stream",
     "text": [
      "alice    21.00\n",
      "bob      21.18\n",
      "carol     2.05\n",
      "dan      43.42\n",
      "dtype: float64\n"
     ]
    }
   ],
   "source": [
    "# Reminder: Vectorization and Broadcasting\n",
    "#\n",
    "# In addition to overloading the regular arithmetic operators, numpy has overloaded\n",
    "# the associated assignment operators. Thus we can broadcast a new value to a variable\n",
    "# as follows:\n",
    "balances += 1\n",
    "print(balances)"
   ]
  },
  {
   "cell_type": "code",
   "execution_count": 16,
   "metadata": {},
   "outputs": [
    {
     "data": {
      "text/plain": [
       "alice    23.00\n",
       "bob      21.18\n",
       "carol     2.55\n",
       "dan      53.44\n",
       "dtype: float64"
      ]
     },
     "execution_count": 16,
     "metadata": {},
     "output_type": "execute_result"
    }
   ],
   "source": [
    "# broadcasting a mismatched series\n",
    "#\n",
    "payments = pd.Series({\n",
    "    'alice': -2.00,  # Note no value for bob\n",
    "    'carol': -0.50,\n",
    "    'dan': -10.02,\n",
    "})\n",
    "balances - payments\n",
    "\n",
    "# By default numpy will fill any missing value with NaN\n",
    "# We can override this by specifying a `fill_value`:\n",
    "balances.subtract(payments, fill_value=0)"
   ]
  },
  {
   "cell_type": "markdown",
   "metadata": {},
   "source": [
    "<a id=\"4\"></a>\n",
    "4: DataFrames\n",
    "-------------\n",
    "\n",
    "### 4.1: Creating a DataFrame ###\n",
    "\n",
    "- From a 2D object\n",
    "  - 2D-list: both rows and columns will have autogenerated 0-based labels. Override rows\n",
    "    with the `index` parameter and columns with the `columns` parameter\n",
    "  - Dict (default expected layout is key=column name, values=ordered values)"
   ]
  },
  {
   "cell_type": "code",
   "execution_count": 17,
   "metadata": {},
   "outputs": [
    {
     "data": {
      "text/html": [
       "<div>\n",
       "<style scoped>\n",
       "    .dataframe tbody tr th:only-of-type {\n",
       "        vertical-align: middle;\n",
       "    }\n",
       "\n",
       "    .dataframe tbody tr th {\n",
       "        vertical-align: top;\n",
       "    }\n",
       "\n",
       "    .dataframe thead th {\n",
       "        text-align: right;\n",
       "    }\n",
       "</style>\n",
       "<table border=\"1\" class=\"dataframe\">\n",
       "  <thead>\n",
       "    <tr style=\"text-align: right;\">\n",
       "      <th></th>\n",
       "      <th>0</th>\n",
       "      <th>1</th>\n",
       "      <th>2</th>\n",
       "    </tr>\n",
       "  </thead>\n",
       "  <tbody>\n",
       "    <tr>\n",
       "      <th>0</th>\n",
       "      <td>Alice</td>\n",
       "      <td>Smith</td>\n",
       "      <td>42.42</td>\n",
       "    </tr>\n",
       "    <tr>\n",
       "      <th>1</th>\n",
       "      <td>Bob</td>\n",
       "      <td>Jones</td>\n",
       "      <td>25.00</td>\n",
       "    </tr>\n",
       "  </tbody>\n",
       "</table>\n",
       "</div>"
      ],
      "text/plain": [
       "       0      1      2\n",
       "0  Alice  Smith  42.42\n",
       "1    Bob  Jones  25.00"
      ]
     },
     "execution_count": 17,
     "metadata": {},
     "output_type": "execute_result"
    }
   ],
   "source": [
    "test_users_list = [\n",
    "    ['Alice', 'Smith', 42.42],\n",
    "    ['Bob', 'Jones', 25.00],\n",
    "]\n",
    "pd.DataFrame(test_users_list)"
   ]
  },
  {
   "cell_type": "code",
   "execution_count": 18,
   "metadata": {},
   "outputs": [
    {
     "data": {
      "text/html": [
       "<div>\n",
       "<style scoped>\n",
       "    .dataframe tbody tr th:only-of-type {\n",
       "        vertical-align: middle;\n",
       "    }\n",
       "\n",
       "    .dataframe tbody tr th {\n",
       "        vertical-align: top;\n",
       "    }\n",
       "\n",
       "    .dataframe thead th {\n",
       "        text-align: right;\n",
       "    }\n",
       "</style>\n",
       "<table border=\"1\" class=\"dataframe\">\n",
       "  <thead>\n",
       "    <tr style=\"text-align: right;\">\n",
       "      <th></th>\n",
       "      <th>first_name</th>\n",
       "      <th>last_name</th>\n",
       "      <th>balance</th>\n",
       "    </tr>\n",
       "  </thead>\n",
       "  <tbody>\n",
       "    <tr>\n",
       "      <th>alicesmith</th>\n",
       "      <td>Alice</td>\n",
       "      <td>Smith</td>\n",
       "      <td>42.42</td>\n",
       "    </tr>\n",
       "    <tr>\n",
       "      <th>bobjones</th>\n",
       "      <td>Bob</td>\n",
       "      <td>Jones</td>\n",
       "      <td>25.00</td>\n",
       "    </tr>\n",
       "  </tbody>\n",
       "</table>\n",
       "</div>"
      ],
      "text/plain": [
       "           first_name last_name  balance\n",
       "alicesmith      Alice     Smith    42.42\n",
       "bobjones          Bob     Jones    25.00"
      ]
     },
     "execution_count": 18,
     "metadata": {},
     "output_type": "execute_result"
    }
   ],
   "source": [
    "row_labels = ['alicesmith', 'bobjones']\n",
    "col_labels = ['first_name', 'last_name', 'balance']\n",
    "pd.DataFrame(test_users_list, index=row_labels, columns=col_labels)"
   ]
  },
  {
   "cell_type": "code",
   "execution_count": 19,
   "metadata": {},
   "outputs": [
    {
     "data": {
      "text/html": [
       "<div>\n",
       "<style scoped>\n",
       "    .dataframe tbody tr th:only-of-type {\n",
       "        vertical-align: middle;\n",
       "    }\n",
       "\n",
       "    .dataframe tbody tr th {\n",
       "        vertical-align: top;\n",
       "    }\n",
       "\n",
       "    .dataframe thead th {\n",
       "        text-align: right;\n",
       "    }\n",
       "</style>\n",
       "<table border=\"1\" class=\"dataframe\">\n",
       "  <thead>\n",
       "    <tr style=\"text-align: right;\">\n",
       "      <th></th>\n",
       "      <th>first_name</th>\n",
       "      <th>last_name</th>\n",
       "      <th>balance</th>\n",
       "    </tr>\n",
       "  </thead>\n",
       "  <tbody>\n",
       "    <tr>\n",
       "      <th>alicesmith</th>\n",
       "      <td>Alice</td>\n",
       "      <td>Smith</td>\n",
       "      <td>42.42</td>\n",
       "    </tr>\n",
       "    <tr>\n",
       "      <th>bobjones</th>\n",
       "      <td>Bob</td>\n",
       "      <td>Jones</td>\n",
       "      <td>25.00</td>\n",
       "    </tr>\n",
       "  </tbody>\n",
       "</table>\n",
       "</div>"
      ],
      "text/plain": [
       "           first_name last_name  balance\n",
       "alicesmith      Alice     Smith    42.42\n",
       "bobjones          Bob     Jones    25.00"
      ]
     },
     "execution_count": 19,
     "metadata": {},
     "output_type": "execute_result"
    }
   ],
   "source": [
    "test_users_dict = {\n",
    "    'first_name': ['Alice', 'Bob'],\n",
    "    'last_name': ['Smith', 'Jones'],\n",
    "    'balance': [42.42, 25.00],\n",
    "}\n",
    "pd.DataFrame(test_users_dict, index=row_labels)  # index is optional"
   ]
  },
  {
   "cell_type": "markdown",
   "metadata": {},
   "source": [
    "#### 4.1.1: `DataFrame.from_dict` options ####\n",
    "\n",
    "- `orient`: This allows you to specify whether the keys of the dict are row labels (`index`)\n",
    "  or column titles (`columns`)."
   ]
  },
  {
   "cell_type": "code",
   "execution_count": 20,
   "metadata": {},
   "outputs": [
    {
     "data": {
      "text/html": [
       "<div>\n",
       "<style scoped>\n",
       "    .dataframe tbody tr th:only-of-type {\n",
       "        vertical-align: middle;\n",
       "    }\n",
       "\n",
       "    .dataframe tbody tr th {\n",
       "        vertical-align: top;\n",
       "    }\n",
       "\n",
       "    .dataframe thead th {\n",
       "        text-align: right;\n",
       "    }\n",
       "</style>\n",
       "<table border=\"1\" class=\"dataframe\">\n",
       "  <thead>\n",
       "    <tr style=\"text-align: right;\">\n",
       "      <th></th>\n",
       "      <th>first_name</th>\n",
       "      <th>last_name</th>\n",
       "      <th>balance</th>\n",
       "    </tr>\n",
       "  </thead>\n",
       "  <tbody>\n",
       "    <tr>\n",
       "      <th>alicesmith</th>\n",
       "      <td>Alice</td>\n",
       "      <td>Smith</td>\n",
       "      <td>42.42</td>\n",
       "    </tr>\n",
       "    <tr>\n",
       "      <th>bobjones</th>\n",
       "      <td>Bob</td>\n",
       "      <td>Jones</td>\n",
       "      <td>25.00</td>\n",
       "    </tr>\n",
       "  </tbody>\n",
       "</table>\n",
       "</div>"
      ],
      "text/plain": [
       "           first_name last_name  balance\n",
       "alicesmith      Alice     Smith    42.42\n",
       "bobjones          Bob     Jones    25.00"
      ]
     },
     "execution_count": 20,
     "metadata": {},
     "output_type": "execute_result"
    }
   ],
   "source": [
    "# Here we are using nested dictionaries to define the columns but we could pass lists for\n",
    "# the columns\n",
    "by_username = {\n",
    "    'alicesmith': {\n",
    "        'first_name': 'Alice',\n",
    "        'last_name': 'Smith',\n",
    "        'balance': 42.42\n",
    "    },\n",
    "    'bobjones': {\n",
    "        'first_name': 'Bob',\n",
    "        'last_name': 'Jones',\n",
    "        'balance': 25.00\n",
    "    }\n",
    "}\n",
    "\n",
    "pd.DataFrame.from_dict(by_username, orient='index')"
   ]
  },
  {
   "cell_type": "code",
   "execution_count": 21,
   "metadata": {},
   "outputs": [
    {
     "data": {
      "text/html": [
       "<div>\n",
       "<style scoped>\n",
       "    .dataframe tbody tr th:only-of-type {\n",
       "        vertical-align: middle;\n",
       "    }\n",
       "\n",
       "    .dataframe tbody tr th {\n",
       "        vertical-align: top;\n",
       "    }\n",
       "\n",
       "    .dataframe thead th {\n",
       "        text-align: right;\n",
       "    }\n",
       "</style>\n",
       "<table border=\"1\" class=\"dataframe\">\n",
       "  <thead>\n",
       "    <tr style=\"text-align: right;\">\n",
       "      <th></th>\n",
       "      <th>first_name</th>\n",
       "      <th>last_name</th>\n",
       "      <th>balance</th>\n",
       "    </tr>\n",
       "  </thead>\n",
       "  <tbody>\n",
       "    <tr>\n",
       "      <th>alicesmith</th>\n",
       "      <td>Alice</td>\n",
       "      <td>Smith</td>\n",
       "      <td>42.42</td>\n",
       "    </tr>\n",
       "    <tr>\n",
       "      <th>bobjones</th>\n",
       "      <td>Bob</td>\n",
       "      <td>Jones</td>\n",
       "      <td>25.00</td>\n",
       "    </tr>\n",
       "  </tbody>\n",
       "</table>\n",
       "</div>"
      ],
      "text/plain": [
       "           first_name last_name  balance\n",
       "alicesmith      Alice     Smith    42.42\n",
       "bobjones          Bob     Jones    25.00"
      ]
     },
     "execution_count": 21,
     "metadata": {},
     "output_type": "execute_result"
    }
   ],
   "source": [
    "by_username_lists = {\n",
    "    'alicesmith': ['Alice', 'Smith', 42.42],\n",
    "    'bobjones': ['Bob', 'Jones', 25.00],\n",
    "}\n",
    "\n",
    "pd.DataFrame.from_dict(by_username_lists, orient='index', columns=col_labels)"
   ]
  },
  {
   "cell_type": "markdown",
   "metadata": {},
   "source": [
    "### 4.2: Accessing Data ###\n",
    "\n",
    "#### 4.2.1: Single column or row ####\n",
    "\n",
    "You can get a `Series` representing a single column or row:\n",
    "\n",
    "- by column name (each column is a `Series`). The column gets a label `name` which can\n",
    "  be accessed using dot syntax;\n",
    "- by Label, using the `loc` property. The value passed into `loc` becomes the `name` label\n",
    "  for the row;\n",
    "- by Position, using the `iloc` property"
   ]
  },
  {
   "cell_type": "code",
   "execution_count": 22,
   "metadata": {},
   "outputs": [
    {
     "name": "stdout",
     "output_type": "stream",
     "text": [
      "alicesmith    42.42\n",
      "bobjones      25.00\n",
      "Name: balance, dtype: float64\n",
      "balance\n"
     ]
    }
   ],
   "source": [
    "users = pd.DataFrame.from_dict(by_username, orient='index')\n",
    "balances = users['balance']\n",
    "print( balances )\n",
    "print( balances.name )"
   ]
  },
  {
   "cell_type": "code",
   "execution_count": 23,
   "metadata": {},
   "outputs": [
    {
     "name": "stdout",
     "output_type": "stream",
     "text": [
      "first_name    Alice\n",
      "last_name     Smith\n",
      "balance       42.42\n",
      "Name: alicesmith, dtype: object\n",
      "alicesmith\n"
     ]
    }
   ],
   "source": [
    "print( users.loc['alicesmith'] )\n",
    "print( users.loc['alicesmith'].name )"
   ]
  },
  {
   "cell_type": "code",
   "execution_count": 24,
   "metadata": {},
   "outputs": [
    {
     "data": {
      "text/plain": [
       "first_name      Bob\n",
       "last_name     Jones\n",
       "balance          25\n",
       "Name: bobjones, dtype: object"
      ]
     },
     "execution_count": 24,
     "metadata": {},
     "output_type": "execute_result"
    }
   ],
   "source": [
    "users.iloc[1]"
   ]
  },
  {
   "cell_type": "markdown",
   "metadata": {},
   "source": [
    "#### 4.2.2: Single value ####\n",
    "\n",
    "- by chaining (this runs multiple separate lookups so can be inefficient)\n",
    "- by row and column\n",
    "  - using `.loc` and passing a tuple,\n",
    "  - using `.at` and passing a tuple (more explicit than `.loc`)"
   ]
  },
  {
   "cell_type": "code",
   "execution_count": 25,
   "metadata": {},
   "outputs": [
    {
     "data": {
      "text/plain": [
       "'Alice'"
      ]
     },
     "execution_count": 25,
     "metadata": {},
     "output_type": "execute_result"
    }
   ],
   "source": [
    "# Chaining:\n",
    "# (here we are getting the `first_name` Series (which uses the row labels as its index), then\n",
    "# we use the row label to get the specific value)\n",
    "users['first_name']['alicesmith']"
   ]
  },
  {
   "cell_type": "code",
   "execution_count": 26,
   "metadata": {},
   "outputs": [
    {
     "data": {
      "text/plain": [
       "'Smith'"
      ]
     },
     "execution_count": 26,
     "metadata": {},
     "output_type": "execute_result"
    }
   ],
   "source": [
    "# Row and column using `.loc` and a tuple of labels\n",
    "users.loc['alicesmith', 'last_name']"
   ]
  },
  {
   "cell_type": "code",
   "execution_count": 27,
   "metadata": {},
   "outputs": [
    {
     "data": {
      "text/plain": [
       "'Smith'"
      ]
     },
     "execution_count": 27,
     "metadata": {},
     "output_type": "execute_result"
    }
   ],
   "source": [
    "# Row and column using `.at` and a tuple of labels\n",
    "users.at['alicesmith', 'last_name']"
   ]
  },
  {
   "cell_type": "markdown",
   "metadata": {},
   "source": [
    "#### 4.2.3: A DataFrame ####\n",
    "\n",
    "We can use slicing with `.loc` or `.iloc` to get a DataFrame of a subset of the \n",
    "base DataFrame"
   ]
  },
  {
   "cell_type": "code",
   "execution_count": 28,
   "metadata": {},
   "outputs": [
    {
     "data": {
      "text/html": [
       "<div>\n",
       "<style scoped>\n",
       "    .dataframe tbody tr th:only-of-type {\n",
       "        vertical-align: middle;\n",
       "    }\n",
       "\n",
       "    .dataframe tbody tr th {\n",
       "        vertical-align: top;\n",
       "    }\n",
       "\n",
       "    .dataframe thead th {\n",
       "        text-align: right;\n",
       "    }\n",
       "</style>\n",
       "<table border=\"1\" class=\"dataframe\">\n",
       "  <thead>\n",
       "    <tr style=\"text-align: right;\">\n",
       "      <th></th>\n",
       "      <th>last_name</th>\n",
       "      <th>balance</th>\n",
       "    </tr>\n",
       "  </thead>\n",
       "  <tbody>\n",
       "    <tr>\n",
       "      <th>alicesmith</th>\n",
       "      <td>Smith</td>\n",
       "      <td>42.42</td>\n",
       "    </tr>\n",
       "    <tr>\n",
       "      <th>bobjones</th>\n",
       "      <td>Jones</td>\n",
       "      <td>25.00</td>\n",
       "    </tr>\n",
       "  </tbody>\n",
       "</table>\n",
       "</div>"
      ],
      "text/plain": [
       "           last_name  balance\n",
       "alicesmith     Smith    42.42\n",
       "bobjones       Jones    25.00"
      ]
     },
     "execution_count": 28,
     "metadata": {},
     "output_type": "execute_result"
    }
   ],
   "source": [
    "# using `.loc` the results are inclusive\n",
    "users.loc[:, ['last_name', 'balance']]"
   ]
  },
  {
   "cell_type": "code",
   "execution_count": 29,
   "metadata": {},
   "outputs": [
    {
     "data": {
      "text/html": [
       "<div>\n",
       "<style scoped>\n",
       "    .dataframe tbody tr th:only-of-type {\n",
       "        vertical-align: middle;\n",
       "    }\n",
       "\n",
       "    .dataframe tbody tr th {\n",
       "        vertical-align: top;\n",
       "    }\n",
       "\n",
       "    .dataframe thead th {\n",
       "        text-align: right;\n",
       "    }\n",
       "</style>\n",
       "<table border=\"1\" class=\"dataframe\">\n",
       "  <thead>\n",
       "    <tr style=\"text-align: right;\">\n",
       "      <th></th>\n",
       "      <th>last_name</th>\n",
       "      <th>balance</th>\n",
       "    </tr>\n",
       "  </thead>\n",
       "  <tbody>\n",
       "    <tr>\n",
       "      <th>alicesmith</th>\n",
       "      <td>Smith</td>\n",
       "      <td>42.42</td>\n",
       "    </tr>\n",
       "    <tr>\n",
       "      <th>bobjones</th>\n",
       "      <td>Jones</td>\n",
       "      <td>25.00</td>\n",
       "    </tr>\n",
       "  </tbody>\n",
       "</table>\n",
       "</div>"
      ],
      "text/plain": [
       "           last_name  balance\n",
       "alicesmith     Smith    42.42\n",
       "bobjones       Jones    25.00"
      ]
     },
     "execution_count": 29,
     "metadata": {},
     "output_type": "execute_result"
    }
   ],
   "source": [
    "users.loc[:, 'last_name':]"
   ]
  },
  {
   "cell_type": "code",
   "execution_count": 30,
   "metadata": {},
   "outputs": [
    {
     "data": {
      "text/html": [
       "<div>\n",
       "<style scoped>\n",
       "    .dataframe tbody tr th:only-of-type {\n",
       "        vertical-align: middle;\n",
       "    }\n",
       "\n",
       "    .dataframe tbody tr th {\n",
       "        vertical-align: top;\n",
       "    }\n",
       "\n",
       "    .dataframe thead th {\n",
       "        text-align: right;\n",
       "    }\n",
       "</style>\n",
       "<table border=\"1\" class=\"dataframe\">\n",
       "  <thead>\n",
       "    <tr style=\"text-align: right;\">\n",
       "      <th></th>\n",
       "      <th>last_name</th>\n",
       "      <th>balance</th>\n",
       "    </tr>\n",
       "  </thead>\n",
       "  <tbody>\n",
       "    <tr>\n",
       "      <th>alicesmith</th>\n",
       "      <td>Smith</td>\n",
       "      <td>42.42</td>\n",
       "    </tr>\n",
       "    <tr>\n",
       "      <th>bobjones</th>\n",
       "      <td>Jones</td>\n",
       "      <td>25.00</td>\n",
       "    </tr>\n",
       "  </tbody>\n",
       "</table>\n",
       "</div>"
      ],
      "text/plain": [
       "           last_name  balance\n",
       "alicesmith     Smith    42.42\n",
       "bobjones       Jones    25.00"
      ]
     },
     "execution_count": 30,
     "metadata": {},
     "output_type": "execute_result"
    }
   ],
   "source": [
    "users.loc['alicesmith':'bobjones', 'last_name':]"
   ]
  },
  {
   "cell_type": "code",
   "execution_count": 31,
   "metadata": {},
   "outputs": [
    {
     "data": {
      "text/html": [
       "<div>\n",
       "<style scoped>\n",
       "    .dataframe tbody tr th:only-of-type {\n",
       "        vertical-align: middle;\n",
       "    }\n",
       "\n",
       "    .dataframe tbody tr th {\n",
       "        vertical-align: top;\n",
       "    }\n",
       "\n",
       "    .dataframe thead th {\n",
       "        text-align: right;\n",
       "    }\n",
       "</style>\n",
       "<table border=\"1\" class=\"dataframe\">\n",
       "  <thead>\n",
       "    <tr style=\"text-align: right;\">\n",
       "      <th></th>\n",
       "      <th>last_name</th>\n",
       "    </tr>\n",
       "  </thead>\n",
       "  <tbody>\n",
       "    <tr>\n",
       "      <th>alicesmith</th>\n",
       "      <td>Smith</td>\n",
       "    </tr>\n",
       "  </tbody>\n",
       "</table>\n",
       "</div>"
      ],
      "text/plain": [
       "           last_name\n",
       "alicesmith     Smith"
      ]
     },
     "execution_count": 31,
     "metadata": {},
     "output_type": "execute_result"
    }
   ],
   "source": [
    "# using `.iloc` the results are exclusive\n",
    "users.iloc[0:1, 1:2]"
   ]
  },
  {
   "cell_type": "markdown",
   "metadata": {},
   "source": [
    "<a id=\"5\"></a>\n",
    "5: CSV\n",
    "------\n",
    "\n",
    "pandas has a built-in method for reading CSVs: `.read_csv(\"path/to/file\")`"
   ]
  },
  {
   "cell_type": "code",
   "execution_count": 32,
   "metadata": {},
   "outputs": [],
   "source": [
    "filename = 'data.csv'"
   ]
  },
  {
   "cell_type": "code",
   "execution_count": 33,
   "metadata": {},
   "outputs": [
    {
     "data": {
      "text/plain": [
       "\"\\nwith open(filename, 'r') as fh:\\n    for _ in range(5):\\n        # The `file` object is an iterator, so just get the next line\\n        print(next(fh))\\n\""
      ]
     },
     "execution_count": 33,
     "metadata": {},
     "output_type": "execute_result"
    }
   ],
   "source": [
    "\"\"\"\n",
    "with open(filename, 'r') as fh:\n",
    "    for _ in range(5):\n",
    "        # The `file` object is an iterator, so just get the next line\n",
    "        print(next(fh))\n",
    "\"\"\""
   ]
  },
  {
   "cell_type": "code",
   "execution_count": 34,
   "metadata": {},
   "outputs": [
    {
     "name": "stdout",
     "output_type": "stream",
     "text": [
      "         Date    AB  Cumulative\n",
      "0  2020-03-05   1.0         1.0\n",
      "1  2020-03-06   1.0         2.0\n",
      "2  2020-03-07   NaN         2.0\n",
      "3  2020-03-08   2.0         4.0\n",
      "4  2020-03-09   3.0         7.0\n",
      "5  2020-03-10   7.0        14.0\n",
      "6  2020-03-11   5.0        19.0\n",
      "7  2020-03-12   4.0        23.0\n",
      "8  2020-03-13   6.0        29.0\n",
      "9  2020-03-14  10.0        39.0\n",
      "10 2020-03-15  17.0        56.0\n",
      "11 2020-03-16  18.0        74.0\n",
      "12 2020-03-17  23.0        97.0\n",
      "13        NaT   NaN         NaN\n"
     ]
    }
   ],
   "source": [
    "#cases = pd.read_csv(filename, index_col=0, parse_dates=['Date'])\n",
    "cases = pd.read_csv(filename, parse_dates=['Date'])\n",
    "print(cases)\n"
   ]
  },
  {
   "cell_type": "markdown",
   "metadata": {},
   "source": [
    "Some observations:\n",
    "- blank cells are populated with `NaN`\n",
    "- If we specify that the first column should be the `index_col` it is not treated\n",
    "  as a regular column. If we omit `index_col`, pandas will auto-generate a 0-based index\n",
    "  column (starting at the first data row)\n",
    "- If we want to be able to manipulate the field that was the index in the CSV, we are best\n",
    "  importing it as a regular column and auto-generating the index column (compare the\n",
    "  two imports above)"
   ]
  },
  {
   "cell_type": "code",
   "execution_count": 35,
   "metadata": {},
   "outputs": [
    {
     "name": "stdout",
     "output_type": "stream",
     "text": [
      "         Date    AB  Cumulative\n",
      "0  2020-03-05   1.0         1.0\n",
      "1  2020-03-06   1.0         2.0\n",
      "2  2020-03-07   NaN         2.0\n",
      "3  2020-03-08   2.0         4.0\n",
      "4  2020-03-09   3.0         7.0\n",
      "5  2020-03-10   7.0        14.0\n",
      "6  2020-03-11   5.0        19.0\n",
      "7  2020-03-12   4.0        23.0\n",
      "8  2020-03-13   6.0        29.0\n",
      "9  2020-03-14  10.0        39.0\n",
      "10 2020-03-15  17.0        56.0\n",
      "11 2020-03-16  18.0        74.0\n",
      "12 2020-03-17  23.0        97.0\n"
     ]
    }
   ],
   "source": [
    "# Remove the blank final row\n",
    "cases = cases.iloc[0:-1,0:]\n",
    "print(cases)"
   ]
  },
  {
   "cell_type": "code",
   "execution_count": 36,
   "metadata": {},
   "outputs": [
    {
     "data": {
      "text/html": [
       "<div>\n",
       "<style scoped>\n",
       "    .dataframe tbody tr th:only-of-type {\n",
       "        vertical-align: middle;\n",
       "    }\n",
       "\n",
       "    .dataframe tbody tr th {\n",
       "        vertical-align: top;\n",
       "    }\n",
       "\n",
       "    .dataframe thead th {\n",
       "        text-align: right;\n",
       "    }\n",
       "</style>\n",
       "<table border=\"1\" class=\"dataframe\">\n",
       "  <thead>\n",
       "    <tr style=\"text-align: right;\">\n",
       "      <th></th>\n",
       "      <th>Date</th>\n",
       "      <th>AB</th>\n",
       "      <th>Cumulative</th>\n",
       "    </tr>\n",
       "  </thead>\n",
       "  <tbody>\n",
       "    <tr>\n",
       "      <th>0</th>\n",
       "      <td>2020-03-05</td>\n",
       "      <td>1.0</td>\n",
       "      <td>1.0</td>\n",
       "    </tr>\n",
       "    <tr>\n",
       "      <th>1</th>\n",
       "      <td>2020-03-06</td>\n",
       "      <td>1.0</td>\n",
       "      <td>2.0</td>\n",
       "    </tr>\n",
       "    <tr>\n",
       "      <th>2</th>\n",
       "      <td>2020-03-07</td>\n",
       "      <td>NaN</td>\n",
       "      <td>2.0</td>\n",
       "    </tr>\n",
       "    <tr>\n",
       "      <th>3</th>\n",
       "      <td>2020-03-08</td>\n",
       "      <td>2.0</td>\n",
       "      <td>4.0</td>\n",
       "    </tr>\n",
       "    <tr>\n",
       "      <th>4</th>\n",
       "      <td>2020-03-09</td>\n",
       "      <td>3.0</td>\n",
       "      <td>7.0</td>\n",
       "    </tr>\n",
       "  </tbody>\n",
       "</table>\n",
       "</div>"
      ],
      "text/plain": [
       "        Date   AB  Cumulative\n",
       "0 2020-03-05  1.0         1.0\n",
       "1 2020-03-06  1.0         2.0\n",
       "2 2020-03-07  NaN         2.0\n",
       "3 2020-03-08  2.0         4.0\n",
       "4 2020-03-09  3.0         7.0"
      ]
     },
     "execution_count": 36,
     "metadata": {},
     "output_type": "execute_result"
    }
   ],
   "source": [
    "# A quick way to check if the CSV was read correctly is to use the .head() method\n",
    "# (it takes an optional argument to specify the number of lines)\n",
    "cases.head()"
   ]
  },
  {
   "cell_type": "code",
   "execution_count": 37,
   "metadata": {},
   "outputs": [
    {
     "name": "stdout",
     "output_type": "stream",
     "text": [
      "shape:\n",
      " (13, 3)\n",
      "count:\n",
      "  Date          13\n",
      "AB            12\n",
      "Cumulative    13\n",
      "dtype: int64\n",
      "datatypes:\n",
      " Date          datetime64[ns]\n",
      "AB                   float64\n",
      "Cumulative           float64\n",
      "dtype: object\n",
      "describe:\n",
      "               AB  Cumulative\n",
      "count  12.000000   13.000000\n",
      "mean    8.083333   28.230769\n",
      "std     7.378819   30.526365\n",
      "min     1.000000    1.000000\n",
      "25%     2.750000    4.000000\n",
      "50%     5.500000   19.000000\n",
      "75%    11.750000   39.000000\n",
      "max    23.000000   97.000000\n"
     ]
    }
   ],
   "source": [
    "# we can explore the data:\n",
    "print('shape:\\n', cases.shape )\n",
    "print('count:\\n ', cases.count() )  # number of non-empty values for each column (use `len()` to get total rows)\n",
    "print('datatypes:\\n', cases.dtypes )\n",
    "print('describe:\\n', cases.describe() )  # most of these aggregations can be accessed as methods as well"
   ]
  },
  {
   "cell_type": "code",
   "execution_count": 38,
   "metadata": {},
   "outputs": [
    {
     "name": "stdout",
     "output_type": "stream",
     "text": [
      "AB             8.083333\n",
      "Cumulative    28.230769\n",
      "dtype: float64\n"
     ]
    }
   ],
   "source": [
    "print( cases.mean() )"
   ]
  },
  {
   "cell_type": "code",
   "execution_count": 39,
   "metadata": {},
   "outputs": [
    {
     "name": "stdout",
     "output_type": "stream",
     "text": [
      "AB             7.378819\n",
      "Cumulative    30.526365\n",
      "dtype: float64\n"
     ]
    }
   ],
   "source": [
    "print( cases.std() )"
   ]
  },
  {
   "cell_type": "code",
   "execution_count": 40,
   "metadata": {},
   "outputs": [
    {
     "name": "stdout",
     "output_type": "stream",
     "text": [
      "Date          2020-03-05 00:00:00\n",
      "AB                              1\n",
      "Cumulative                      1\n",
      "dtype: object\n"
     ]
    }
   ],
   "source": [
    "print( cases.min() )"
   ]
  },
  {
   "cell_type": "code",
   "execution_count": 41,
   "metadata": {},
   "outputs": [
    {
     "name": "stdout",
     "output_type": "stream",
     "text": [
      "Date          2020-03-17 00:00:00\n",
      "AB                             23\n",
      "Cumulative                     97\n",
      "dtype: object\n"
     ]
    }
   ],
   "source": [
    "print( cases.max() )"
   ]
  },
  {
   "cell_type": "code",
   "execution_count": 42,
   "metadata": {},
   "outputs": [
    {
     "data": {
      "text/html": [
       "<div>\n",
       "<style scoped>\n",
       "    .dataframe tbody tr th:only-of-type {\n",
       "        vertical-align: middle;\n",
       "    }\n",
       "\n",
       "    .dataframe tbody tr th {\n",
       "        vertical-align: top;\n",
       "    }\n",
       "\n",
       "    .dataframe thead th {\n",
       "        text-align: right;\n",
       "    }\n",
       "</style>\n",
       "<table border=\"1\" class=\"dataframe\">\n",
       "  <thead>\n",
       "    <tr style=\"text-align: right;\">\n",
       "      <th></th>\n",
       "      <th>Date</th>\n",
       "      <th>AB</th>\n",
       "      <th>Cumulative</th>\n",
       "    </tr>\n",
       "  </thead>\n",
       "  <tbody>\n",
       "    <tr>\n",
       "      <th>5</th>\n",
       "      <td>2020-03-10</td>\n",
       "      <td>7.0</td>\n",
       "      <td>14.0</td>\n",
       "    </tr>\n",
       "    <tr>\n",
       "      <th>9</th>\n",
       "      <td>2020-03-14</td>\n",
       "      <td>10.0</td>\n",
       "      <td>39.0</td>\n",
       "    </tr>\n",
       "    <tr>\n",
       "      <th>10</th>\n",
       "      <td>2020-03-15</td>\n",
       "      <td>17.0</td>\n",
       "      <td>56.0</td>\n",
       "    </tr>\n",
       "    <tr>\n",
       "      <th>11</th>\n",
       "      <td>2020-03-16</td>\n",
       "      <td>18.0</td>\n",
       "      <td>74.0</td>\n",
       "    </tr>\n",
       "    <tr>\n",
       "      <th>12</th>\n",
       "      <td>2020-03-17</td>\n",
       "      <td>23.0</td>\n",
       "      <td>97.0</td>\n",
       "    </tr>\n",
       "  </tbody>\n",
       "</table>\n",
       "</div>"
      ],
      "text/plain": [
       "         Date    AB  Cumulative\n",
       "5  2020-03-10   7.0        14.0\n",
       "9  2020-03-14  10.0        39.0\n",
       "10 2020-03-15  17.0        56.0\n",
       "11 2020-03-16  18.0        74.0\n",
       "12 2020-03-17  23.0        97.0"
      ]
     },
     "execution_count": 42,
     "metadata": {},
     "output_type": "execute_result"
    }
   ],
   "source": [
    "alt_sort = cases.sort_values(by='AB', ascending=False).head()  # can optionally pass `inplace=True` to mutate the original data\n",
    "alt_sort.sort_index()  # sort a DataFrame by the index column"
   ]
  },
  {
   "cell_type": "code",
   "execution_count": 49,
   "metadata": {},
   "outputs": [
    {
     "name": "stdout",
     "output_type": "stream",
     "text": [
      "         Date    AB  Cumulative  Log2Count  Days         Fit\n",
      "0  2020-03-05   1.0         1.0   0.000000     0    1.339504\n",
      "1  2020-03-06   1.0         2.0   1.000000     1    1.957044\n",
      "2  2020-03-07   NaN         2.0   1.000000     2    2.859283\n",
      "3  2020-03-08   2.0         4.0   2.000000     3    4.177473\n",
      "4  2020-03-09   3.0         7.0   2.807355     4    6.103377\n",
      "5  2020-03-10   7.0        14.0   3.807355     5    8.917163\n",
      "6  2020-03-11   5.0        19.0   4.247928     6   13.028163\n",
      "7  2020-03-12   4.0        23.0   4.523562     7   19.034423\n",
      "8  2020-03-13   6.0        29.0   4.857981     8   27.809694\n",
      "9  2020-03-14  10.0        39.0   5.285402     9   40.630552\n",
      "10 2020-03-15  17.0        56.0   5.807355    10   59.362097\n",
      "11 2020-03-16  18.0        74.0   6.209453    11   86.729281\n",
      "12 2020-03-17  23.0        97.0   6.599913    12  126.713316\n"
     ]
    },
    {
     "data": {
      "image/png": "[encoded data removed]",
      "text/plain": [
       "<Figure size 648x432 with 1 Axes>"
      ]
     },
     "metadata": {
      "needs_background": "light"
     },
     "output_type": "display_data"
    }
   ],
   "source": [
    "# Replicating Dr. Drang's plot from\n",
    "# https://leancrew.com/all-this/2020/03/exponential-growth-and-log-scales/\n",
    "\n",
    "# Add Required Data to Table\n",
    "# --------------------------\n",
    "# Extend the table with base-2 log of the case count\n",
    "cases['Log2Count'] = np.log2(cases.Cumulative)\n",
    "\n",
    "# We can only do the following date math if we imported the date as a data column\n",
    "# Extend the table with the day number\n",
    "firstDate = cases.Date[0]\n",
    "cases['Days'] = (cases.Date - firstDate).dt.days\n",
    "\n",
    "# Extend the table with the best exponential fit\n",
    "from scipy.stats import linregress\n",
    "lr = linregress(cases.Days, cases.Log2Count)\n",
    "cases['Fit'] = 2 ** (lr.intercept + lr.slope * cases.Days)\n",
    "\n",
    "print(cases)\n",
    "\n",
    "# Construct Plot\n",
    "# --------------\n",
    "import matplotlib.pyplot as plt\n",
    "fig, ax = plt.subplots(figsize=(9,6))\n",
    "plt.yscale('log', basey=2)\n",
    "ax.plot(cases.Days, cases.Cumulative, 'o', color='#d95f02', lw=1)\n",
    "ax.plot(cases.Days, cases.Fit, '--', color='#7570b3', lw=2)\n",
    "\n",
    "# Determine ticks etc\n",
    "from math import log2, ceil\n",
    "yStart = 1\n",
    "coordMax = log2(cases.Cumulative.max()/yStart)\n",
    "expMax = ceil(coordMax)\n",
    "yAdd = .4142*yStart*2**expMax if expMax - coordMax < .1 else 0\n",
    "yMax = yStart * (2 ** expMax) + yAdd\n",
    "plt.ylim(ymin=yStart, ymax=yMax)\n",
    "majors = np.array([ yStart * 2 ** i for i in range(expMax+1) ])\n",
    "ax.set_yticks(majors)\n",
    "ax.set_yticklabels(majors)\n",
    "\n",
    "from datetime import timedelta\n",
    "dateTickFreq = 2\n",
    "dMax = cases.Days.max()\n",
    "xAdd = 2 if cases.Days.max() % dateTickFreq else 1\n",
    "plt.xlim(xmin=-1, xmax=dMax + 1)\n",
    "ax.set_xticks([ x for x in range(0, dMax+xAdd, dateTickFreq) ])\n",
    "dates = [ (firstDate.date() + timedelta(days=x)).strftime('%b %-d') for x in range(0, dMax+xAdd, dateTickFreq)]\n",
    "ax.set_xticklabels(dates)\n",
    "ax.grid(linewidth=.5, which='major', color='#ddd', linestyle='-')\n",
    "\n",
    "\n",
    "# Add labels/title\n",
    "title = 'AB COVID-19 growth, assuming exponential trend'\n",
    "plt.title(title)\n",
    "plt.ylabel('Confirmed case count')\n",
    "\n",
    "plt.show()\n"
   ]
  },
  {
   "cell_type": "code",
   "execution_count": null,
   "metadata": {},
   "outputs": [],
   "source": []
  },
  {
   "cell_type": "code",
   "execution_count": null,
   "metadata": {},
   "outputs": [],
   "source": []
  }
 ],
 "metadata": {
  "kernelspec": {
   "display_name": "Python 3",
   "language": "python",
   "name": "python3"
  },
  "language_info": {
   "codemirror_mode": {
    "name": "ipython",
    "version": 3
   },
   "file_extension": ".py",
   "mimetype": "text/x-python",
   "name": "python",
   "nbconvert_exporter": "python",
   "pygments_lexer": "ipython3",
   "version": "3.7.7"
  }
 },
 "nbformat": 4,
 "nbformat_minor": 4
}
