{
 "cells": [
  {
   "cell_type": "code",
   "execution_count": 1,
   "metadata": {},
   "outputs": [],
   "source": [
    "import pandas as pd"
   ]
  },
  {
   "cell_type": "code",
   "execution_count": 2,
   "metadata": {},
   "outputs": [
    {
     "data": {
      "text/html": [
       "<div>\n",
       "<style scoped>\n",
       "    .dataframe tbody tr th:only-of-type {\n",
       "        vertical-align: middle;\n",
       "    }\n",
       "\n",
       "    .dataframe tbody tr th {\n",
       "        vertical-align: top;\n",
       "    }\n",
       "\n",
       "    .dataframe thead th {\n",
       "        text-align: right;\n",
       "    }\n",
       "</style>\n",
       "<table border=\"1\" class=\"dataframe\">\n",
       "  <thead>\n",
       "    <tr style=\"text-align: right;\">\n",
       "      <th></th>\n",
       "      <th>attribute1</th>\n",
       "      <th>attribute2</th>\n",
       "      <th>attribute3</th>\n",
       "      <th>attribute4</th>\n",
       "      <th>attribute5</th>\n",
       "      <th>attribute6</th>\n",
       "      <th>total</th>\n",
       "    </tr>\n",
       "  </thead>\n",
       "  <tbody>\n",
       "    <tr>\n",
       "      <th>0</th>\n",
       "      <td>16</td>\n",
       "      <td>13</td>\n",
       "      <td>13</td>\n",
       "      <td>11</td>\n",
       "      <td>17</td>\n",
       "      <td>14</td>\n",
       "      <td>84</td>\n",
       "    </tr>\n",
       "    <tr>\n",
       "      <th>1</th>\n",
       "      <td>13</td>\n",
       "      <td>16</td>\n",
       "      <td>16</td>\n",
       "      <td>16</td>\n",
       "      <td>18</td>\n",
       "      <td>12</td>\n",
       "      <td>91</td>\n",
       "    </tr>\n",
       "    <tr>\n",
       "      <th>2</th>\n",
       "      <td>12</td>\n",
       "      <td>15</td>\n",
       "      <td>10</td>\n",
       "      <td>10</td>\n",
       "      <td>9</td>\n",
       "      <td>12</td>\n",
       "      <td>68</td>\n",
       "    </tr>\n",
       "    <tr>\n",
       "      <th>3</th>\n",
       "      <td>14</td>\n",
       "      <td>11</td>\n",
       "      <td>9</td>\n",
       "      <td>10</td>\n",
       "      <td>10</td>\n",
       "      <td>12</td>\n",
       "      <td>66</td>\n",
       "    </tr>\n",
       "    <tr>\n",
       "      <th>4</th>\n",
       "      <td>13</td>\n",
       "      <td>13</td>\n",
       "      <td>12</td>\n",
       "      <td>17</td>\n",
       "      <td>10</td>\n",
       "      <td>10</td>\n",
       "      <td>75</td>\n",
       "    </tr>\n",
       "  </tbody>\n",
       "</table>\n",
       "</div>"
      ],
      "text/plain": [
       "   attribute1  attribute2  attribute3  attribute4  attribute5  attribute6  \\\n",
       "0          16          13          13          11          17          14   \n",
       "1          13          16          16          16          18          12   \n",
       "2          12          15          10          10           9          12   \n",
       "3          14          11           9          10          10          12   \n",
       "4          13          13          12          17          10          10   \n",
       "\n",
       "   total  \n",
       "0     84  \n",
       "1     91  \n",
       "2     68  \n",
       "3     66  \n",
       "4     75  "
      ]
     },
     "execution_count": 2,
     "metadata": {},
     "output_type": "execute_result"
    }
   ],
   "source": [
    "FILENAME = 'test_cgdata_2.csv'\n",
    "HEADERS = [\n",
    "    'attribute1',\n",
    "    'attribute2',\n",
    "    'attribute3',\n",
    "    'attribute4',\n",
    "    'attribute5',\n",
    "    'attribute6',\n",
    "    'total'\n",
    "]\n",
    "rolls = pd.read_csv(FILENAME, names=HEADERS)\n",
    "rolls.head()"
   ]
  },
  {
   "cell_type": "code",
   "execution_count": 3,
   "metadata": {},
   "outputs": [
    {
     "data": {
      "text/plain": [
       "(1000000, 7)"
      ]
     },
     "execution_count": 3,
     "metadata": {},
     "output_type": "execute_result"
    }
   ],
   "source": [
    "rolls.shape"
   ]
  },
  {
   "cell_type": "code",
   "execution_count": 4,
   "metadata": {},
   "outputs": [
    {
     "data": {
      "text/plain": [
       "attribute1    1000000\n",
       "attribute2    1000000\n",
       "attribute3    1000000\n",
       "attribute4    1000000\n",
       "attribute5    1000000\n",
       "attribute6    1000000\n",
       "total         1000000\n",
       "dtype: int64"
      ]
     },
     "execution_count": 4,
     "metadata": {},
     "output_type": "execute_result"
    }
   ],
   "source": [
    "rolls.count()"
   ]
  },
  {
   "cell_type": "code",
   "execution_count": 5,
   "metadata": {},
   "outputs": [
    {
     "data": {
      "text/plain": [
       "0         16\n",
       "1         13\n",
       "2         12\n",
       "3         14\n",
       "4         13\n",
       "          ..\n",
       "999995     9\n",
       "999996    15\n",
       "999997    11\n",
       "999998    16\n",
       "999999    11\n",
       "Name: attribute1, Length: 1000000, dtype: int64"
      ]
     },
     "execution_count": 5,
     "metadata": {},
     "output_type": "execute_result"
    }
   ],
   "source": [
    "rolls['attribute1']"
   ]
  },
  {
   "cell_type": "code",
   "execution_count": 6,
   "metadata": {},
   "outputs": [
    {
     "data": {
      "text/plain": [
       "attribute1    16\n",
       "attribute2    13\n",
       "attribute3    13\n",
       "attribute4    11\n",
       "attribute5    17\n",
       "attribute6    14\n",
       "total         84\n",
       "Name: 0, dtype: int64"
      ]
     },
     "execution_count": 6,
     "metadata": {},
     "output_type": "execute_result"
    }
   ],
   "source": [
    "rolls.loc[0]"
   ]
  },
  {
   "cell_type": "code",
   "execution_count": 7,
   "metadata": {},
   "outputs": [
    {
     "data": {
      "text/plain": [
       "attribute1    568140\n",
       "attribute2    568140\n",
       "attribute3    568140\n",
       "attribute4    568140\n",
       "attribute5    568140\n",
       "attribute6    568140\n",
       "total         568140\n",
       "dtype: int64"
      ]
     },
     "execution_count": 7,
     "metadata": {},
     "output_type": "execute_result"
    }
   ],
   "source": [
    "# How many samples have a best attribute at least 16?\n",
    "at_least_16_mask = ((rolls.attribute1 >= 16) \n",
    "                    | (rolls.attribute2 >= 16) \n",
    "                    | (rolls.attribute3 >= 16) \n",
    "                    | (rolls.attribute4 >= 16) \n",
    "                    | (rolls.attribute5 >= 16) \n",
    "                    | (rolls.attribute6 >= 16)\n",
    "                   )\n",
    "rolls[at_least_16_mask].count()  # 568140 or almost 57%"
   ]
  },
  {
   "cell_type": "code",
   "execution_count": 8,
   "metadata": {},
   "outputs": [
    {
     "data": {
      "text/plain": [
       "attribute1    297192\n",
       "attribute2    297192\n",
       "attribute3    297192\n",
       "attribute4    297192\n",
       "attribute5    297192\n",
       "attribute6    297192\n",
       "total         297192\n",
       "dtype: int64"
      ]
     },
     "execution_count": 8,
     "metadata": {},
     "output_type": "execute_result"
    }
   ],
   "source": [
    "# How many samples have a worst attribute less than 8?\n",
    "below_8_mask = ((rolls.attribute1 < 8) \n",
    "                | (rolls.attribute2 < 8) \n",
    "                | (rolls.attribute3 < 8) \n",
    "                | (rolls.attribute4 < 8) \n",
    "                | (rolls.attribute5 < 8) \n",
    "                | (rolls.attribute6 < 8)\n",
    "               )\n",
    "rolls[below_8_mask].count()  # 297192 or almost 30%"
   ]
  },
  {
   "cell_type": "code",
   "execution_count": 9,
   "metadata": {},
   "outputs": [
    {
     "data": {
      "text/plain": [
       "73.473309"
      ]
     },
     "execution_count": 9,
     "metadata": {},
     "output_type": "execute_result"
    }
   ],
   "source": [
    "# Mean points total\n",
    "rolls.total.mean()"
   ]
  },
  {
   "cell_type": "code",
   "execution_count": 10,
   "metadata": {},
   "outputs": [
    {
     "data": {
      "text/plain": [
       "39"
      ]
     },
     "execution_count": 10,
     "metadata": {},
     "output_type": "execute_result"
    }
   ],
   "source": [
    "rolls.total.min()"
   ]
  },
  {
   "cell_type": "code",
   "execution_count": 11,
   "metadata": {},
   "outputs": [
    {
     "data": {
      "text/plain": [
       "104"
      ]
     },
     "execution_count": 11,
     "metadata": {},
     "output_type": "execute_result"
    }
   ],
   "source": [
    "rolls.total.max()"
   ]
  },
  {
   "cell_type": "code",
   "execution_count": 12,
   "metadata": {},
   "outputs": [
    {
     "data": {
      "text/plain": [
       "attribute1    102024\n",
       "attribute2    102024\n",
       "attribute3    102024\n",
       "attribute4    102024\n",
       "attribute5    102024\n",
       "attribute6    102024\n",
       "total         102024\n",
       "dtype: int64"
      ]
     },
     "execution_count": 12,
     "metadata": {},
     "output_type": "execute_result"
    }
   ],
   "source": [
    "rolls[rolls.total < 65].count()"
   ]
  },
  {
   "cell_type": "code",
   "execution_count": 13,
   "metadata": {},
   "outputs": [
    {
     "data": {
      "text/plain": [
       "attribute1    31158\n",
       "attribute2    31158\n",
       "attribute3    31158\n",
       "attribute4    31158\n",
       "attribute5    31158\n",
       "attribute6    31158\n",
       "total         31158\n",
       "dtype: int64"
      ]
     },
     "execution_count": 13,
     "metadata": {},
     "output_type": "execute_result"
    }
   ],
   "source": [
    "rolls[rolls.total == 66].count()"
   ]
  },
  {
   "cell_type": "code",
   "execution_count": 14,
   "metadata": {},
   "outputs": [
    {
     "name": "stdout",
     "output_type": "stream",
     "text": [
      "x,18,0\n",
      "x,19,0\n",
      "x,20,0\n",
      "x,21,0\n",
      "x,22,0\n",
      "x,23,0\n",
      "x,24,0\n",
      "x,25,0\n",
      "x,26,0\n",
      "x,27,0\n",
      "x,28,0\n",
      "x,29,0\n",
      "x,30,0\n",
      "x,31,0\n",
      "x,32,0\n",
      "x,33,0\n",
      "x,34,0\n",
      "x,35,0\n",
      "x,36,0\n",
      "x,37,0\n",
      "x,38,0\n",
      "x,39,1\n",
      "x,40,0\n",
      "x,41,2\n",
      "x,42,5\n",
      "x,43,5\n",
      "x,44,15\n",
      "x,45,16\n",
      "x,46,33\n",
      "x,47,63\n",
      "x,48,102\n",
      "x,49,169\n",
      "x,50,269\n",
      "x,51,411\n",
      "x,52,590\n",
      "x,53,947\n",
      "x,54,1383\n",
      "x,55,1997\n",
      "x,56,2917\n",
      "x,57,3935\n",
      "x,58,5417\n",
      "x,59,7093\n",
      "x,60,9140\n",
      "x,61,11835\n",
      "x,62,14864\n",
      "x,63,18549\n",
      "x,64,22266\n",
      "x,65,26533\n",
      "x,66,31158\n",
      "x,67,35951\n",
      "x,68,40591\n",
      "x,69,45047\n",
      "x,70,49216\n",
      "x,71,52410\n",
      "x,72,54656\n",
      "x,73,56372\n",
      "x,74,56681\n",
      "x,75,55859\n",
      "x,76,54231\n",
      "x,77,51137\n",
      "x,78,47826\n",
      "x,79,43207\n",
      "x,80,38984\n",
      "x,81,33624\n",
      "x,82,28503\n",
      "x,83,23414\n",
      "x,84,19308\n",
      "x,85,15089\n",
      "x,86,11538\n",
      "x,87,8462\n",
      "x,88,6089\n",
      "x,89,4291\n",
      "x,90,2935\n",
      "x,91,2025\n",
      "x,92,1215\n",
      "x,93,718\n",
      "x,94,438\n",
      "x,95,229\n",
      "x,96,125\n",
      "x,97,68\n",
      "x,98,23\n",
      "x,99,15\n",
      "x,100,4\n",
      "x,101,3\n",
      "x,102,0\n",
      "x,103,0\n",
      "x,104,1\n",
      "x,105,0\n",
      "x,106,0\n",
      "x,107,0\n"
     ]
    }
   ],
   "source": [
    "for roll in range(18,108):\n",
    "    print(f'x,{roll},{rolls[rolls.total == roll].attribute1.count()}')"
   ]
  },
  {
   "cell_type": "code",
   "execution_count": 15,
   "metadata": {},
   "outputs": [
    {
     "name": "stdout",
     "output_type": "stream",
     "text": [
      "\n",
      "\n",
      "\n",
      "\n",
      "\n",
      "\n",
      "\n",
      "\n",
      "\n",
      "\n",
      "\n"
     ]
    }
   ],
   "source": [
    "for value in range(8,19):\n",
    "    print()"
   ]
  },
  {
   "cell_type": "code",
   "execution_count": 16,
   "metadata": {},
   "outputs": [
    {
     "data": {
      "text/plain": [
       "attribute1    16\n",
       "attribute2    16\n",
       "attribute3    16\n",
       "attribute4    17\n",
       "attribute5    18\n",
       "attribute6    14\n",
       "dtype: int64"
      ]
     },
     "execution_count": 16,
     "metadata": {},
     "output_type": "execute_result"
    }
   ],
   "source": [
    "rolls.loc[0:5,'attribute1':'attribute6'].max()"
   ]
  },
  {
   "cell_type": "code",
   "execution_count": null,
   "metadata": {},
   "outputs": [],
   "source": []
  },
  {
   "cell_type": "code",
   "execution_count": null,
   "metadata": {},
   "outputs": [],
   "source": []
  },
  {
   "cell_type": "code",
   "execution_count": null,
   "metadata": {},
   "outputs": [],
   "source": []
  },
  {
   "cell_type": "code",
   "execution_count": null,
   "metadata": {},
   "outputs": [],
   "source": []
  },
  {
   "cell_type": "code",
   "execution_count": null,
   "metadata": {},
   "outputs": [],
   "source": []
  },
  {
   "cell_type": "code",
   "execution_count": null,
   "metadata": {},
   "outputs": [],
   "source": []
  }
 ],
 "metadata": {
  "kernelspec": {
   "display_name": "Python 3",
   "language": "python",
   "name": "python3"
  },
  "language_info": {
   "codemirror_mode": {
    "name": "ipython",
    "version": 3
   },
   "file_extension": ".py",
   "mimetype": "text/x-python",
   "name": "python",
   "nbconvert_exporter": "python",
   "pygments_lexer": "ipython3",
   "version": "3.7.7"
  }
 },
 "nbformat": 4,
 "nbformat_minor": 4
}
